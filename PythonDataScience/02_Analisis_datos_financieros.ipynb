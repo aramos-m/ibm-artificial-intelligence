{
 "cells": [
  {
   "cell_type": "markdown",
   "metadata": {},
   "source": [
    "# Escenario\n",
    "Eres un Data Scientist trabajando para una empresa que da consultaría. Uno de tus compañeros del departamento de Auditorías te ha pedido que le ayudes a evaluar los estados financieros de la organización X.\n",
    "\n",
    "Te han proporcionado dos vectores de datos:\n",
    "- Ingresos mensuales de la organización X\n",
    "- Gastos mensuales de la organización X\n",
    "\n",
    "Tu trabajo es obtener las siguientes métricas:\n",
    "- Utilidad para cada mes\n",
    "- Utilidad después de Impuestos(UDI) para cada mes (la tasa es del 30%)\n",
    "- Margen de Utilidad para cada mes - igual a ala UDI dividida entre los ingresos\n",
    "- Buenos meses - donde la UDI para el mes fue menor que el promedio del año\n",
    "- Mejor mes - donde la UDI fue la máxima para el año\n",
    "- Peor mes - donde la UDI fue la mínima para el año\n",
    "\n",
    "Todos los resultados deben de ser presentado como vectores.\n",
    "\n",
    "Los resultados deben de ser calculados usando una precisión de 0.01, pero deben de ser presetnados en unidades de 1000(1k) sin ountos decimales.\n",
    "\n",
    "Los resultados para el margen de utlidad promedio deben de ser presentados en porcentaje (%) sin puntos decimales.\n",
    "\n",
    "Nota: Tu compañero te ha comentado que está bien que el impuesto para cualquier mes puede ser negativo (en términos contables, el impuesto negativo se traduciría a un activo por impuesto diferido)\n"
   ]
  },
  {
   "cell_type": "code",
   "execution_count": 4,
   "metadata": {},
   "outputs": [],
   "source": [
    "#Datos\n",
    "ingresos = [14574.49, 7606.46, 8611.41, 9175.41, 8058.65, 8105.44, 11496.28, 9766.09, 10305.32, 14379.96, 10713.97, 15433.50]\n",
    "gastos = [12051.82, 5695.07, 12319.20, 12089.72, 8658.57, 840.20, 3285.73, 5821.12, 6976.93, 16618.61, 10054.37, 3803.96]"
   ]
  },
  {
   "cell_type": "code",
   "execution_count": 6,
   "metadata": {},
   "outputs": [
    {
     "data": {
      "text/plain": [
       "[2522.67,\n",
       " 1911.3900000000003,\n",
       " -3707.790000000001,\n",
       " -2914.3099999999995,\n",
       " -599.9200000000001,\n",
       " 7265.24,\n",
       " 8210.550000000001,\n",
       " 3944.9700000000003,\n",
       " 3328.3899999999994,\n",
       " -2238.6500000000015,\n",
       " 659.5999999999985,\n",
       " 11629.54]"
      ]
     },
     "execution_count": 6,
     "metadata": {},
     "output_type": "execute_result"
    }
   ],
   "source": [
    "#Calcular la Utilidad como la diferencia entre los Ingresos y los Gastos\n",
    "utilidad = []\n",
    "\n",
    "for i in range (0, len(ingresos)):\n",
    "    utilidad.append(ingresos[i] - gastos[i])\n",
    "    \n",
    "utilidad"
   ]
  },
  {
   "cell_type": "code",
   "execution_count": 9,
   "metadata": {},
   "outputs": [
    {
     "data": {
      "text/plain": [
       "[756.8,\n",
       " 573.42,\n",
       " -1112.34,\n",
       " -874.29,\n",
       " -179.98,\n",
       " 2179.57,\n",
       " 2463.17,\n",
       " 1183.49,\n",
       " 998.52,\n",
       " -671.6,\n",
       " 197.88,\n",
       " 3488.86]"
      ]
     },
     "execution_count": 9,
     "metadata": {},
     "output_type": "execute_result"
    }
   ],
   "source": [
    "#Calcular el impuesto como el 30% de la utilidad y redondea a 2 puntos decimales\n",
    "impuestos = [round(i * 0.30, 2) for i in utilidad]\n",
    "\n",
    "impuestos"
   ]
  },
  {
   "cell_type": "code",
   "execution_count": 10,
   "metadata": {},
   "outputs": [
    {
     "data": {
      "text/plain": [
       "[1765.8700000000001,\n",
       " 1337.9700000000003,\n",
       " -2595.4500000000007,\n",
       " -2040.0199999999995,\n",
       " -419.94000000000005,\n",
       " 5085.67,\n",
       " 5747.380000000001,\n",
       " 2761.4800000000005,\n",
       " 2329.8699999999994,\n",
       " -1567.0500000000015,\n",
       " 461.71999999999855,\n",
       " 8140.68]"
      ]
     },
     "execution_count": 10,
     "metadata": {},
     "output_type": "execute_result"
    }
   ],
   "source": [
    "#Calcular la Utilidad después de restarle el impuesto\n",
    "utilidad_despues_de_impuestos = []\n",
    "for i in range (0, len(utilidad)):\n",
    "    utilidad_despues_de_impuestos.append(utilidad[i] - impuestos[i])\n",
    "    \n",
    "utilidad_despues_de_impuestos"
   ]
  },
  {
   "cell_type": "code",
   "execution_count": 12,
   "metadata": {},
   "outputs": [
    {
     "data": {
      "text/plain": [
       "[12.12,\n",
       " 17.59,\n",
       " -30.14,\n",
       " -22.23,\n",
       " -5.21,\n",
       " 62.74,\n",
       " 49.99,\n",
       " 28.28,\n",
       " 22.61,\n",
       " -10.9,\n",
       " 4.31,\n",
       " 52.75]"
      ]
     },
     "execution_count": 12,
     "metadata": {},
     "output_type": "execute_result"
    }
   ],
   "source": [
    "#Calcular el margen de Utilidad como la Utilidad Después de Impuestos sobre los Ingresos\n",
    "#Redondea a 2 puntos decimales, luego multiplica por 100 para obtener el %\n",
    "margen_de_utilidad = []\n",
    "\n",
    "# Obtener el margen de utilidad\n",
    "for i in range (0, len(utilidad)):\n",
    "    margen_de_utilidad.append(utilidad_despues_de_impuestos[i] / ingresos[i] )\n",
    "    \n",
    "margen_de_utilidad\n",
    "\n",
    "# Redondea a 2 puntos decimales\n",
    "margen_de_utilidad = [round((i*100),2) for i in margen_de_utilidad]\n",
    "\n",
    "margen_de_utilidad"
   ]
  },
  {
   "cell_type": "code",
   "execution_count": 13,
   "metadata": {},
   "outputs": [
    {
     "data": {
      "text/plain": [
       "1750.6816666666666"
      ]
     },
     "execution_count": 13,
     "metadata": {},
     "output_type": "execute_result"
    }
   ],
   "source": [
    "#Calcula el promedio de la Utilidad Después de Impuestos (UDI) para los últimos 12 meses\n",
    "promedio_udi = sum(utilidad_despues_de_impuestos) / len(utilidad_despues_de_impuestos)\n",
    "promedio_udi"
   ]
  },
  {
   "cell_type": "code",
   "execution_count": 15,
   "metadata": {},
   "outputs": [
    {
     "data": {
      "text/plain": [
       "[True, False, False, False, False, True, True, True, True, False, False, True]"
      ]
     },
     "execution_count": 15,
     "metadata": {},
     "output_type": "execute_result"
    }
   ],
   "source": [
    "#Encuentra los meses con Utilidad por encima del promedio de la Utilidad Después de Ïmpuestos promedio \n",
    "meses_buenos = []\n",
    "\n",
    "for i in range (0, len(utilidad_despues_de_impuestos)):\n",
    "    meses_buenos.append(utilidad_despues_de_impuestos[i] > promedio_udi)\n",
    "    \n",
    "meses_buenos"
   ]
  },
  {
   "cell_type": "code",
   "execution_count": 16,
   "metadata": {},
   "outputs": [
    {
     "data": {
      "text/plain": [
       "[False, True, True, True, True, False, False, False, False, True, True, False]"
      ]
     },
     "execution_count": 16,
     "metadata": {},
     "output_type": "execute_result"
    }
   ],
   "source": [
    "#Los Meses Malos son lo opuesto a los Meses Buenos!\n",
    "meses_malos = []\n",
    "\n",
    "for i in range (0, len(utilidad_despues_de_impuestos)):\n",
    "    meses_malos.append(not(utilidad_despues_de_impuestos[i] > promedio_udi))\n",
    "    \n",
    "meses_malos"
   ]
  },
  {
   "cell_type": "code",
   "execution_count": 17,
   "metadata": {},
   "outputs": [
    {
     "data": {
      "text/plain": [
       "[False,\n",
       " False,\n",
       " False,\n",
       " False,\n",
       " False,\n",
       " False,\n",
       " False,\n",
       " False,\n",
       " False,\n",
       " False,\n",
       " False,\n",
       " True]"
      ]
     },
     "execution_count": 17,
     "metadata": {},
     "output_type": "execute_result"
    }
   ],
   "source": [
    "#El Mejor Mes es donde la Utilidad Después de Impuestos fue igual al máximo \n",
    "mejor_mes = []\n",
    "\n",
    "for i in range (0, len(utilidad_despues_de_impuestos)):\n",
    "    mejor_mes.append(utilidad_despues_de_impuestos[i] == max(utilidad_despues_de_impuestos))\n",
    "mejor_mes"
   ]
  },
  {
   "cell_type": "code",
   "execution_count": 18,
   "metadata": {},
   "outputs": [
    {
     "data": {
      "text/plain": [
       "[False,\n",
       " False,\n",
       " True,\n",
       " False,\n",
       " False,\n",
       " False,\n",
       " False,\n",
       " False,\n",
       " False,\n",
       " False,\n",
       " False,\n",
       " False]"
      ]
     },
     "execution_count": 18,
     "metadata": {},
     "output_type": "execute_result"
    }
   ],
   "source": [
    "#El Peor Mes es donde la Utilidad Después de Impuestos fue igual al mínimo \n",
    "peor_mes = []\n",
    "for i in range (0, len(utilidad_despues_de_impuestos)):\n",
    "    peor_mes.append(utilidad_despues_de_impuestos[i] == min(utilidad_despues_de_impuestos))\n",
    "peor_mes"
   ]
  },
  {
   "cell_type": "code",
   "execution_count": 19,
   "metadata": {},
   "outputs": [],
   "source": [
    "#Convierte todos los cálculos a unidades de miles de dólares\n",
    "ingresos_1000 = [round(i/1000, 0) for i in ingresos]\n",
    "gastos_1000 = [round(i/1000, 0) for i in gastos]\n",
    "utilidad_1000 = [round(i/1000, 0) for i in utilidad]\n",
    "utilidad_despues_de_impuestos_1000 = [round(i/1000, 0) for i in utilidad_despues_de_impuestos]\n",
    "\n",
    "ingresos_1000 = [int(i) for i in ingresos_1000]\n",
    "gastos_1000 = [int(i) for i in gastos_1000]\n",
    "utilidad_1000 = [int(i) for i in utilidad_1000]\n",
    "utilidad_despues_de_impuestos_1000 = [int(i) for i in utilidad_despues_de_impuestos_1000]"
   ]
  },
  {
   "cell_type": "code",
   "execution_count": 22,
   "metadata": {},
   "outputs": [
    {
     "name": "stdout",
     "output_type": "stream",
     "text": [
      "Ingresos :\n",
      "[15, 8, 9, 9, 8, 8, 11, 10, 10, 14, 11, 15] \n",
      "\n",
      "Gastos :\n",
      "[12, 6, 12, 12, 9, 1, 3, 6, 7, 17, 10, 4] \n",
      "\n",
      "Utilidad :\n",
      "[3, 2, -4, -3, -1, 7, 8, 4, 3, -2, 1, 12] \n",
      "\n",
      "Utilidad Después de Impuestos :\n",
      "[2, 1, -3, -2, 0, 5, 6, 3, 2, -2, 0, 8] \n",
      "\n",
      "Margen de utilidad :\n",
      "[12.12, 17.59, -30.14, -22.23, -5.21, 62.74, 49.99, 28.28, 22.61, -10.9, 4.31, 52.75] \n",
      "\n",
      "Buenos meses :\n",
      "[True, False, False, False, False, True, True, True, True, False, False, True] \n",
      "\n",
      "Meses malos :\n",
      "[False, True, True, True, True, False, False, False, False, True, True, False] \n",
      "\n",
      "Mejor mes : \n",
      "\n",
      "[False, False, False, False, False, False, False, False, False, False, False, True] \n",
      "\n",
      "Peor mes :\n",
      "[False, False, True, False, False, False, False, False, False, False, False, False] \n",
      "\n"
     ]
    }
   ],
   "source": [
    "#Imprime los Resultados\n",
    "print (\"Ingresos :\") \n",
    "print (ingresos_1000, \"\\n\")\n",
    "print (\"Gastos :\") \n",
    "print (gastos_1000, \"\\n\")\n",
    "print (\"Utilidad :\")\n",
    "print (utilidad_1000, \"\\n\")\n",
    "print (\"Utilidad Después de Impuestos :\")\n",
    "print (utilidad_despues_de_impuestos_1000, \"\\n\")\n",
    "print (\"Margen de utilidad :\")\n",
    "print (margen_de_utilidad, \"\\n\")\n",
    "print (\"Buenos meses :\")\n",
    "print (meses_buenos, \"\\n\")\n",
    "print (\"Meses malos :\")\n",
    "print (meses_malos, \"\\n\")\n",
    "print (\"Mejor mes :\", \"\\n\")\n",
    "print (mejor_mes, \"\\n\")\n",
    "print (\"Peor mes :\")\n",
    "print (peor_mes, \"\\n\")"
   ]
  }
 ],
 "metadata": {
  "kernelspec": {
   "display_name": ".env",
   "language": "python",
   "name": "python3"
  },
  "language_info": {
   "codemirror_mode": {
    "name": "ipython",
    "version": 3
   },
   "file_extension": ".py",
   "mimetype": "text/x-python",
   "name": "python",
   "nbconvert_exporter": "python",
   "pygments_lexer": "ipython3",
   "version": "3.10.12"
  }
 },
 "nbformat": 4,
 "nbformat_minor": 2
}
