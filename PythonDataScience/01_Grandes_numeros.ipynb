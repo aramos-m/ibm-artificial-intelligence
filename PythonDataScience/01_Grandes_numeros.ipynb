{
 "cells": [
  {
   "cell_type": "markdown",
   "metadata": {},
   "source": [
    "# Ley de los grandes números\n",
    "\n",
    "Determina la proporción de valores aleatorios generados a partir de una distribución normal estándar que caen dentro del rango de -1 a 1.\n",
    "\n",
    "## Descripción de lo que estamos haciendo:\n",
    "El programa utiliza la Ley de los Grandes Números para calcular qué porcentaje de los valores aleatorios, generados a partir de una distribución normal estándar (con media 0 y desviación estándar 1), se encuentran dentro del intervalo de -1 a 1.\n",
    "\n",
    "1. Generación de datos aleatorios: El programa genera N = 1000 valores aleatorios utilizando la función randn de la biblioteca numpy, que sigue una distribución normal estándar.\n",
    "\n",
    "2. Contador: A través de un ciclo for, el programa itera sobre los valores aleatorios generados y cuenta cuántos de ellos caen dentro del rango (-1, 1).\n",
    "\n",
    "3. Cálculo de la proporción: Después de completar el ciclo, se calcula la proporción dividiendo el número de valores que cumplen la condición (caen dentro del intervalo) por el tamaño total de la muestra, N.\n",
    "\n",
    "4. Salida: Finalmente, el programa imprime el resultado, que representa el porcentaje de los valores aleatorios que caen dentro del intervalo de -1 a 1, en función de los valores generados.\n",
    "\n",
    "Este programa ilustra cómo, con un número grande de muestras, se puede observar un comportamiento cercano al teórico, en este caso, la proporción esperada de valores dentro del rango de -1 a 1 en una distribución normal estándar es aproximadamente `68.27%`."
   ]
  },
  {
   "cell_type": "code",
   "execution_count": 28,
   "metadata": {},
   "outputs": [
    {
     "name": "stdout",
     "output_type": "stream",
     "text": [
      "0.68265585\n"
     ]
    }
   ],
   "source": [
    "\n",
    "import numpy as np\n",
    "from numpy.random import randn\n",
    "\n",
    "N = 1000                            # especifíca el tamaño de la muestras\n",
    "contador = 0                        # reinicia contador   \n",
    "\n",
    "for valor in randn(N):              # itera sobre valores aleatorios\n",
    "    if (valor > -1 and valor < 1):  # revisa dónde cae la variable de la iteración\n",
    "        contador += 1               # incrementa contador si la condición es verdadera\n",
    "        \n",
    "respuesta = contador/N              # calcula el ratio de éxitos\n",
    "print(respuesta)                    # imprime el porcentaje de dígitos que tienen el número aleatorio"
   ]
  }
 ],
 "metadata": {
  "kernelspec": {
   "display_name": ".env",
   "language": "python",
   "name": "python3"
  },
  "language_info": {
   "codemirror_mode": {
    "name": "ipython",
    "version": 3
   },
   "file_extension": ".py",
   "mimetype": "text/x-python",
   "name": "python",
   "nbconvert_exporter": "python",
   "pygments_lexer": "ipython3",
   "version": "3.10.12"
  }
 },
 "nbformat": 4,
 "nbformat_minor": 2
}
