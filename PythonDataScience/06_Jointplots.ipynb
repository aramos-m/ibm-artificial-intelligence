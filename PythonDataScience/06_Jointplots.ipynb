{
 "cells": [
  {
   "cell_type": "markdown",
   "id": "6b01509d-5766-46df-80b0-f205f318ff3b",
   "metadata": {},
   "source": [
    "# Visualización datos categóricos"
   ]
  },
  {
   "cell_type": "code",
   "execution_count": 77,
   "id": "5679312f-efa1-4d6e-815e-51ee0ac90844",
   "metadata": {},
   "outputs": [],
   "source": [
    "import pandas as pd\n",
    "import os"
   ]
  },
  {
   "cell_type": "code",
   "execution_count": 5,
   "id": "ee10d699-0fc9-4626-8c0d-a829455de436",
   "metadata": {},
   "outputs": [
    {
     "data": {
      "text/plain": [
       "'/home/aramos-m/Documentos/notebooks/IBM_AI'"
      ]
     },
     "execution_count": 5,
     "metadata": {},
     "output_type": "execute_result"
    }
   ],
   "source": [
    "os.getcwd()"
   ]
  },
  {
   "cell_type": "code",
   "execution_count": 13,
   "id": "4af3561b-c82b-4030-8687-4770a37f1c9c",
   "metadata": {},
   "outputs": [],
   "source": [
    "peliculas = pd.read_csv(\"RatingsPeliculas.csv\")"
   ]
  },
  {
   "cell_type": "code",
   "execution_count": 35,
   "id": "e4cc473d-0ac7-4879-970a-fd57d8f678f2",
   "metadata": {},
   "outputs": [
    {
     "data": {
      "text/plain": [
       "559"
      ]
     },
     "execution_count": 35,
     "metadata": {},
     "output_type": "execute_result"
    }
   ],
   "source": [
    "len(peliculas)"
   ]
  },
  {
   "cell_type": "code",
   "execution_count": 37,
   "id": "f03d5808-9c6d-480f-81cf-dc867aa038b8",
   "metadata": {},
   "outputs": [
    {
     "data": {
      "text/html": [
       "<div>\n",
       "<style scoped>\n",
       "    .dataframe tbody tr th:only-of-type {\n",
       "        vertical-align: middle;\n",
       "    }\n",
       "\n",
       "    .dataframe tbody tr th {\n",
       "        vertical-align: top;\n",
       "    }\n",
       "\n",
       "    .dataframe thead th {\n",
       "        text-align: right;\n",
       "    }\n",
       "</style>\n",
       "<table border=\"1\" class=\"dataframe\">\n",
       "  <thead>\n",
       "    <tr style=\"text-align: right;\">\n",
       "      <th></th>\n",
       "      <th>Pelicula</th>\n",
       "      <th>Genero</th>\n",
       "      <th>Ratings de Rotten Tomatoes %</th>\n",
       "      <th>Ratings de la Audience %</th>\n",
       "      <th>Presupuesto (millones USD)</th>\n",
       "      <th>Lanzamiento</th>\n",
       "    </tr>\n",
       "  </thead>\n",
       "  <tbody>\n",
       "    <tr>\n",
       "      <th>0</th>\n",
       "      <td>(500) Days of Summer</td>\n",
       "      <td>Comedia</td>\n",
       "      <td>87</td>\n",
       "      <td>81</td>\n",
       "      <td>8</td>\n",
       "      <td>2009</td>\n",
       "    </tr>\n",
       "    <tr>\n",
       "      <th>1</th>\n",
       "      <td>10,000 B.C.</td>\n",
       "      <td>Aventura</td>\n",
       "      <td>9</td>\n",
       "      <td>44</td>\n",
       "      <td>105</td>\n",
       "      <td>2008</td>\n",
       "    </tr>\n",
       "    <tr>\n",
       "      <th>2</th>\n",
       "      <td>12 Rounds</td>\n",
       "      <td>Accion</td>\n",
       "      <td>30</td>\n",
       "      <td>52</td>\n",
       "      <td>20</td>\n",
       "      <td>2009</td>\n",
       "    </tr>\n",
       "    <tr>\n",
       "      <th>3</th>\n",
       "      <td>127 Hours</td>\n",
       "      <td>Aventura</td>\n",
       "      <td>93</td>\n",
       "      <td>84</td>\n",
       "      <td>18</td>\n",
       "      <td>2010</td>\n",
       "    </tr>\n",
       "    <tr>\n",
       "      <th>4</th>\n",
       "      <td>17 Again</td>\n",
       "      <td>Comedia</td>\n",
       "      <td>55</td>\n",
       "      <td>70</td>\n",
       "      <td>20</td>\n",
       "      <td>2009</td>\n",
       "    </tr>\n",
       "  </tbody>\n",
       "</table>\n",
       "</div>"
      ],
      "text/plain": [
       "                Pelicula    Genero  Ratings de Rotten Tomatoes %  \\\n",
       "0  (500) Days of Summer    Comedia                            87   \n",
       "1            10,000 B.C.  Aventura                             9   \n",
       "2             12 Rounds     Accion                            30   \n",
       "3              127 Hours  Aventura                            93   \n",
       "4              17 Again    Comedia                            55   \n",
       "\n",
       "   Ratings de la Audience %  Presupuesto (millones USD)  Lanzamiento  \n",
       "0                        81                           8         2009  \n",
       "1                        44                         105         2008  \n",
       "2                        52                          20         2009  \n",
       "3                        84                          18         2010  \n",
       "4                        70                          20         2009  "
      ]
     },
     "execution_count": 37,
     "metadata": {},
     "output_type": "execute_result"
    }
   ],
   "source": [
    "peliculas.head()"
   ]
  },
  {
   "cell_type": "code",
   "execution_count": 39,
   "id": "4276a004-def7-4c08-a300-978dbc19d882",
   "metadata": {},
   "outputs": [
    {
     "data": {
      "text/plain": [
       "Index(['Pelicula', 'Genero', 'Ratings de Rotten Tomatoes %',\n",
       "       'Ratings de la Audience %', 'Presupuesto (millones USD)',\n",
       "       'Lanzamiento'],\n",
       "      dtype='object')"
      ]
     },
     "execution_count": 39,
     "metadata": {},
     "output_type": "execute_result"
    }
   ],
   "source": [
    "peliculas.columns"
   ]
  },
  {
   "cell_type": "code",
   "execution_count": 47,
   "id": "ce55a60e-20d0-4856-81f4-3b7fd230a3e4",
   "metadata": {},
   "outputs": [
    {
     "data": {
      "text/html": [
       "<div>\n",
       "<style scoped>\n",
       "    .dataframe tbody tr th:only-of-type {\n",
       "        vertical-align: middle;\n",
       "    }\n",
       "\n",
       "    .dataframe tbody tr th {\n",
       "        vertical-align: top;\n",
       "    }\n",
       "\n",
       "    .dataframe thead th {\n",
       "        text-align: right;\n",
       "    }\n",
       "</style>\n",
       "<table border=\"1\" class=\"dataframe\">\n",
       "  <thead>\n",
       "    <tr style=\"text-align: right;\">\n",
       "      <th></th>\n",
       "      <th>Pelicula</th>\n",
       "      <th>Genero</th>\n",
       "      <th>RatingsCriticos</th>\n",
       "      <th>RatingsAudiencia</th>\n",
       "      <th>PresupuestoMillones</th>\n",
       "      <th>Año</th>\n",
       "    </tr>\n",
       "  </thead>\n",
       "  <tbody>\n",
       "    <tr>\n",
       "      <th>0</th>\n",
       "      <td>(500) Days of Summer</td>\n",
       "      <td>Comedia</td>\n",
       "      <td>87</td>\n",
       "      <td>81</td>\n",
       "      <td>8</td>\n",
       "      <td>2009</td>\n",
       "    </tr>\n",
       "    <tr>\n",
       "      <th>1</th>\n",
       "      <td>10,000 B.C.</td>\n",
       "      <td>Aventura</td>\n",
       "      <td>9</td>\n",
       "      <td>44</td>\n",
       "      <td>105</td>\n",
       "      <td>2008</td>\n",
       "    </tr>\n",
       "    <tr>\n",
       "      <th>2</th>\n",
       "      <td>12 Rounds</td>\n",
       "      <td>Accion</td>\n",
       "      <td>30</td>\n",
       "      <td>52</td>\n",
       "      <td>20</td>\n",
       "      <td>2009</td>\n",
       "    </tr>\n",
       "    <tr>\n",
       "      <th>3</th>\n",
       "      <td>127 Hours</td>\n",
       "      <td>Aventura</td>\n",
       "      <td>93</td>\n",
       "      <td>84</td>\n",
       "      <td>18</td>\n",
       "      <td>2010</td>\n",
       "    </tr>\n",
       "    <tr>\n",
       "      <th>4</th>\n",
       "      <td>17 Again</td>\n",
       "      <td>Comedia</td>\n",
       "      <td>55</td>\n",
       "      <td>70</td>\n",
       "      <td>20</td>\n",
       "      <td>2009</td>\n",
       "    </tr>\n",
       "  </tbody>\n",
       "</table>\n",
       "</div>"
      ],
      "text/plain": [
       "                Pelicula    Genero  RatingsCriticos  RatingsAudiencia  \\\n",
       "0  (500) Days of Summer    Comedia               87                81   \n",
       "1            10,000 B.C.  Aventura                9                44   \n",
       "2             12 Rounds     Accion               30                52   \n",
       "3              127 Hours  Aventura               93                84   \n",
       "4              17 Again    Comedia               55                70   \n",
       "\n",
       "   PresupuestoMillones   Año  \n",
       "0                    8  2009  \n",
       "1                  105  2008  \n",
       "2                   20  2009  \n",
       "3                   18  2010  \n",
       "4                   20  2009  "
      ]
     },
     "execution_count": 47,
     "metadata": {},
     "output_type": "execute_result"
    }
   ],
   "source": [
    "# Normalizamos el nombre de las columnas\n",
    "peliculas.columns = [\"Pelicula\", \"Genero\", \"RatingsCriticos\", \"RatingsAudiencia\", \"PresupuestoMillones\", \"Año\"]\n",
    "peliculas.head()"
   ]
  },
  {
   "cell_type": "code",
   "execution_count": 114,
   "id": "43a7420a-b3b8-4ec8-930c-8ad15656b2e2",
   "metadata": {},
   "outputs": [
    {
     "name": "stdout",
     "output_type": "stream",
     "text": [
      "<class 'pandas.core.frame.DataFrame'>\n",
      "RangeIndex: 559 entries, 0 to 558\n",
      "Data columns (total 6 columns):\n",
      " #   Column               Non-Null Count  Dtype   \n",
      "---  ------               --------------  -----   \n",
      " 0   Pelicula             559 non-null    category\n",
      " 1   Genero               559 non-null    category\n",
      " 2   RatingsCriticos      559 non-null    int64   \n",
      " 3   RatingsAudiencia     559 non-null    int64   \n",
      " 4   PresupuestoMillones  559 non-null    int64   \n",
      " 5   Año                  559 non-null    category\n",
      "dtypes: category(3), int64(3)\n",
      "memory usage: 36.5 KB\n"
     ]
    }
   ],
   "source": [
    "peliculas.info()\n",
    "# Nota: \"Año\" es de tipo entero (int), pero conceptualmente representa una categoría (años discretos).\n",
    "# Por lo tanto, sería más apropiado convertirla a un tipo categórico (categorical) o string."
   ]
  },
  {
   "cell_type": "code",
   "execution_count": 53,
   "id": "8ef2973c-c901-4ea1-a0c1-e0a62088bb2d",
   "metadata": {},
   "outputs": [
    {
     "data": {
      "text/html": [
       "<div>\n",
       "<style scoped>\n",
       "    .dataframe tbody tr th:only-of-type {\n",
       "        vertical-align: middle;\n",
       "    }\n",
       "\n",
       "    .dataframe tbody tr th {\n",
       "        vertical-align: top;\n",
       "    }\n",
       "\n",
       "    .dataframe thead th {\n",
       "        text-align: right;\n",
       "    }\n",
       "</style>\n",
       "<table border=\"1\" class=\"dataframe\">\n",
       "  <thead>\n",
       "    <tr style=\"text-align: right;\">\n",
       "      <th></th>\n",
       "      <th>RatingsCriticos</th>\n",
       "      <th>RatingsAudiencia</th>\n",
       "      <th>PresupuestoMillones</th>\n",
       "      <th>Año</th>\n",
       "    </tr>\n",
       "  </thead>\n",
       "  <tbody>\n",
       "    <tr>\n",
       "      <th>count</th>\n",
       "      <td>559.000000</td>\n",
       "      <td>559.000000</td>\n",
       "      <td>559.000000</td>\n",
       "      <td>559.000000</td>\n",
       "    </tr>\n",
       "    <tr>\n",
       "      <th>mean</th>\n",
       "      <td>47.309481</td>\n",
       "      <td>58.744186</td>\n",
       "      <td>50.236136</td>\n",
       "      <td>2009.152057</td>\n",
       "    </tr>\n",
       "    <tr>\n",
       "      <th>std</th>\n",
       "      <td>26.413091</td>\n",
       "      <td>16.826887</td>\n",
       "      <td>48.731817</td>\n",
       "      <td>1.362632</td>\n",
       "    </tr>\n",
       "    <tr>\n",
       "      <th>min</th>\n",
       "      <td>0.000000</td>\n",
       "      <td>0.000000</td>\n",
       "      <td>0.000000</td>\n",
       "      <td>2007.000000</td>\n",
       "    </tr>\n",
       "    <tr>\n",
       "      <th>25%</th>\n",
       "      <td>25.000000</td>\n",
       "      <td>47.000000</td>\n",
       "      <td>20.000000</td>\n",
       "      <td>2008.000000</td>\n",
       "    </tr>\n",
       "    <tr>\n",
       "      <th>50%</th>\n",
       "      <td>46.000000</td>\n",
       "      <td>58.000000</td>\n",
       "      <td>35.000000</td>\n",
       "      <td>2009.000000</td>\n",
       "    </tr>\n",
       "    <tr>\n",
       "      <th>75%</th>\n",
       "      <td>70.000000</td>\n",
       "      <td>72.000000</td>\n",
       "      <td>65.000000</td>\n",
       "      <td>2010.000000</td>\n",
       "    </tr>\n",
       "    <tr>\n",
       "      <th>max</th>\n",
       "      <td>97.000000</td>\n",
       "      <td>96.000000</td>\n",
       "      <td>300.000000</td>\n",
       "      <td>2011.000000</td>\n",
       "    </tr>\n",
       "  </tbody>\n",
       "</table>\n",
       "</div>"
      ],
      "text/plain": [
       "       RatingsCriticos  RatingsAudiencia  PresupuestoMillones          Año\n",
       "count       559.000000        559.000000           559.000000   559.000000\n",
       "mean         47.309481         58.744186            50.236136  2009.152057\n",
       "std          26.413091         16.826887            48.731817     1.362632\n",
       "min           0.000000          0.000000             0.000000  2007.000000\n",
       "25%          25.000000         47.000000            20.000000  2008.000000\n",
       "50%          46.000000         58.000000            35.000000  2009.000000\n",
       "75%          70.000000         72.000000            65.000000  2010.000000\n",
       "max          97.000000         96.000000           300.000000  2011.000000"
      ]
     },
     "execution_count": 53,
     "metadata": {},
     "output_type": "execute_result"
    }
   ],
   "source": [
    "peliculas.describe()"
   ]
  },
  {
   "cell_type": "code",
   "execution_count": 67,
   "id": "13977910-5cb3-47db-af6d-3b6a247c94ef",
   "metadata": {},
   "outputs": [],
   "source": [
    "# Cambiamos el tipo de datos.\n",
    "peliculas.Pelicula = peliculas.Pelicula.astype(\"category\")\n",
    "peliculas.Genero = peliculas.Genero.astype('category')\n",
    "peliculas.Año = peliculas.Año.astype('category')"
   ]
  },
  {
   "cell_type": "code",
   "execution_count": 69,
   "id": "a0549ed5-e173-405e-9917-0d1485bac5fb",
   "metadata": {},
   "outputs": [
    {
     "name": "stdout",
     "output_type": "stream",
     "text": [
      "<class 'pandas.core.frame.DataFrame'>\n",
      "RangeIndex: 559 entries, 0 to 558\n",
      "Data columns (total 6 columns):\n",
      " #   Column               Non-Null Count  Dtype   \n",
      "---  ------               --------------  -----   \n",
      " 0   Pelicula             559 non-null    category\n",
      " 1   Genero               559 non-null    category\n",
      " 2   RatingsCriticos      559 non-null    int64   \n",
      " 3   RatingsAudiencia     559 non-null    int64   \n",
      " 4   PresupuestoMillones  559 non-null    int64   \n",
      " 5   Año                  559 non-null    category\n",
      "dtypes: category(3), int64(3)\n",
      "memory usage: 36.5 KB\n"
     ]
    }
   ],
   "source": [
    "peliculas.info()"
   ]
  },
  {
   "cell_type": "code",
   "execution_count": 75,
   "id": "c96e3571-1697-4a74-bde0-66df99290fb2",
   "metadata": {},
   "outputs": [
    {
     "data": {
      "text/plain": [
       "Index(['Accion', 'Aventura', 'Comedia', 'Drama', 'Romance', 'Suspenso',\n",
       "       'Terror'],\n",
       "      dtype='object')"
      ]
     },
     "execution_count": 75,
     "metadata": {},
     "output_type": "execute_result"
    }
   ],
   "source": [
    "# Valores únicos de las columnas.\n",
    "peliculas.Genero.cat.categories"
   ]
  },
  {
   "cell_type": "code",
   "execution_count": 73,
   "id": "4fb894a1-7691-434d-8d7e-e65b82cedb2b",
   "metadata": {},
   "outputs": [
    {
     "data": {
      "text/html": [
       "<div>\n",
       "<style scoped>\n",
       "    .dataframe tbody tr th:only-of-type {\n",
       "        vertical-align: middle;\n",
       "    }\n",
       "\n",
       "    .dataframe tbody tr th {\n",
       "        vertical-align: top;\n",
       "    }\n",
       "\n",
       "    .dataframe thead th {\n",
       "        text-align: right;\n",
       "    }\n",
       "</style>\n",
       "<table border=\"1\" class=\"dataframe\">\n",
       "  <thead>\n",
       "    <tr style=\"text-align: right;\">\n",
       "      <th></th>\n",
       "      <th>RatingsCriticos</th>\n",
       "      <th>RatingsAudiencia</th>\n",
       "      <th>PresupuestoMillones</th>\n",
       "    </tr>\n",
       "  </thead>\n",
       "  <tbody>\n",
       "    <tr>\n",
       "      <th>count</th>\n",
       "      <td>559.000000</td>\n",
       "      <td>559.000000</td>\n",
       "      <td>559.000000</td>\n",
       "    </tr>\n",
       "    <tr>\n",
       "      <th>mean</th>\n",
       "      <td>47.309481</td>\n",
       "      <td>58.744186</td>\n",
       "      <td>50.236136</td>\n",
       "    </tr>\n",
       "    <tr>\n",
       "      <th>std</th>\n",
       "      <td>26.413091</td>\n",
       "      <td>16.826887</td>\n",
       "      <td>48.731817</td>\n",
       "    </tr>\n",
       "    <tr>\n",
       "      <th>min</th>\n",
       "      <td>0.000000</td>\n",
       "      <td>0.000000</td>\n",
       "      <td>0.000000</td>\n",
       "    </tr>\n",
       "    <tr>\n",
       "      <th>25%</th>\n",
       "      <td>25.000000</td>\n",
       "      <td>47.000000</td>\n",
       "      <td>20.000000</td>\n",
       "    </tr>\n",
       "    <tr>\n",
       "      <th>50%</th>\n",
       "      <td>46.000000</td>\n",
       "      <td>58.000000</td>\n",
       "      <td>35.000000</td>\n",
       "    </tr>\n",
       "    <tr>\n",
       "      <th>75%</th>\n",
       "      <td>70.000000</td>\n",
       "      <td>72.000000</td>\n",
       "      <td>65.000000</td>\n",
       "    </tr>\n",
       "    <tr>\n",
       "      <th>max</th>\n",
       "      <td>97.000000</td>\n",
       "      <td>96.000000</td>\n",
       "      <td>300.000000</td>\n",
       "    </tr>\n",
       "  </tbody>\n",
       "</table>\n",
       "</div>"
      ],
      "text/plain": [
       "       RatingsCriticos  RatingsAudiencia  PresupuestoMillones\n",
       "count       559.000000        559.000000           559.000000\n",
       "mean         47.309481         58.744186            50.236136\n",
       "std          26.413091         16.826887            48.731817\n",
       "min           0.000000          0.000000             0.000000\n",
       "25%          25.000000         47.000000            20.000000\n",
       "50%          46.000000         58.000000            35.000000\n",
       "75%          70.000000         72.000000            65.000000\n",
       "max          97.000000         96.000000           300.000000"
      ]
     },
     "execution_count": 73,
     "metadata": {},
     "output_type": "execute_result"
    }
   ],
   "source": [
    "peliculas.describe()"
   ]
  },
  {
   "cell_type": "markdown",
   "id": "f1291487-538f-4186-8536-dc87c83a29ff",
   "metadata": {},
   "source": [
    "---"
   ]
  },
  {
   "cell_type": "markdown",
   "id": "4ac14dd1-5418-4d6e-8650-1b5f2d023fa2",
   "metadata": {},
   "source": [
    "# Jointplots"
   ]
  },
  {
   "cell_type": "code",
   "execution_count": 95,
   "id": "e10bcf40-9002-47f9-b457-3ed1ef3e3b32",
   "metadata": {},
   "outputs": [],
   "source": [
    "from matplotlib import pyplot as plt\n",
    "import seaborn as sns\n",
    "%matplotlib inline\n",
    "import warnings\n",
    "warnings.filterwarnings(\"ignore\")"
   ]
  },
  {
   "cell_type": "code",
   "execution_count": 110,
   "id": "dba3d66b-e736-4c9e-8ef3-430638626a5a",
   "metadata": {},
   "outputs": [
    {
     "data": {
      "image/png": "[encoded data removed]",
      "text/plain": [
       "<Figure size 600x600 with 3 Axes>"
      ]
     },
     "metadata": {},
     "output_type": "display_data"
    }
   ],
   "source": [
    "# Crear un jointplot para analizar la relación entre dos variables.\n",
    "# - Por defecto, el tipo de gráfico (kind) es un scatterplot (gráfico de dispersión).\n",
    "# - Muestra también las distribuciones marginales (histogramas) en los ejes x e y.\n",
    "\n",
    "j = sns.jointplot(data=peliculas, x=\"RatingsCriticos\", y=\"RatingsAudiencia\")\n",
    "plt.show()"
   ]
  },
  {
   "cell_type": "code",
   "execution_count": 112,
   "id": "41f7a751-c095-461d-9926-ae05509224a0",
   "metadata": {},
   "outputs": [
    {
     "data": {
      "image/png": "[encoded data removed]",
      "text/plain": [
       "<Figure size 600x600 with 3 Axes>"
      ]
     },
     "metadata": {},
     "output_type": "display_data"
    }
   ],
   "source": [
    "# Jointplots con estilos personalizados\n",
    "# Gráfico 1\n",
    "\n",
    "# Notas adicionales sobre el argumento \"kind\":\n",
    "# - kind=\"scatter\": Gráfico de dispersión (predeterminado).\n",
    "# - kind=\"kde\": Estimación de densidad kernel (mapa de calor o contornos).\n",
    "# - kind=\"hist\": Histograma bidimensional.\n",
    "# - kind=\"hex\": Gráfico hexbin (densidad en celdas hexagonales).\n",
    "# - kind=\"reg\": Gráfico de dispersión con línea de regresión.\n",
    "# - kind=\"resid\": Muestra los residuos de una regresión lineal.\n",
    "\n",
    "j = sns.jointplot(data=peliculas, x=\"RatingsCriticos\", y=\"RatingsAudiencia\", kind=\"hex\")\n",
    "plt.show()"
   ]
  }
 ],
 "metadata": {
  "kernelspec": {
   "display_name": "Python 3 (ipykernel)",
   "language": "python",
   "name": "python3"
  },
  "language_info": {
   "codemirror_mode": {
    "name": "ipython",
    "version": 3
   },
   "file_extension": ".py",
   "mimetype": "text/x-python",
   "name": "python",
   "nbconvert_exporter": "python",
   "pygments_lexer": "ipython3",
   "version": "3.12.7"
  }
 },
 "nbformat": 4,
 "nbformat_minor": 5
}
