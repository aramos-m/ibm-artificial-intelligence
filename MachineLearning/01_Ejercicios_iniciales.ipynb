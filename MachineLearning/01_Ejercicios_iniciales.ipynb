{
 "cells": [
  {
   "cell_type": "markdown",
   "id": "5d5b872f-c76e-4655-bc40-eb5cef53852c",
   "metadata": {},
   "source": [
    "**Ejercicio 1**\n",
    "\n",
    "Dada la siguiente frase:\n",
    "\n",
    "*frase = \"Hola, este es un curso básico de Python\"*\n",
    "\n",
    "- Divide la frase en palabras y cuenta el número de palabras que contiene la frase.\n",
    "- Muestra el resultado mediante un print de la siguiente manera:\n",
    "    - El número de palabras es ..."
   ]
  },
  {
   "cell_type": "code",
   "execution_count": 2,
   "id": "56258c09-87ac-41da-b752-143800e64432",
   "metadata": {},
   "outputs": [],
   "source": [
    "frase = \"Hola, este es un curso básico de Python\""
   ]
  },
  {
   "cell_type": "code",
   "execution_count": 3,
   "id": "fe6bcc7e-ad81-486d-a69e-bbba7801f20b",
   "metadata": {},
   "outputs": [
    {
     "data": {
      "text/plain": [
       "['Hola,', 'este', 'es', 'un', 'curso', 'básico', 'de', 'Python']"
      ]
     },
     "execution_count": 3,
     "metadata": {},
     "output_type": "execute_result"
    }
   ],
   "source": [
    "palabras = frase.split()\n",
    "palabras"
   ]
  },
  {
   "cell_type": "code",
   "execution_count": 4,
   "id": "5532da4c-9ba8-4215-b1bb-fe1513fd7159",
   "metadata": {},
   "outputs": [
    {
     "name": "stdout",
     "output_type": "stream",
     "text": [
      "El número de palabras es 8\n"
     ]
    }
   ],
   "source": [
    "# Forma 1\n",
    "\n",
    "contador = 0;\n",
    "\n",
    "for palabra in palabras:\n",
    "    contador += 1;\n",
    "    \n",
    "print(\"El número de palabras es {}\".format(contador))"
   ]
  },
  {
   "cell_type": "code",
   "execution_count": 5,
   "id": "77dc9535-9379-48c3-a3a4-bb9346fbd587",
   "metadata": {},
   "outputs": [
    {
     "name": "stdout",
     "output_type": "stream",
     "text": [
      "El número de palabras es 8\n"
     ]
    }
   ],
   "source": [
    "# Forma 2\n",
    "\n",
    "print(\"El número de palabras es {}\".format(len(palabras)))"
   ]
  },
  {
   "cell_type": "markdown",
   "id": "21c9fd26-f2b6-485b-8e56-a741e7e7ed19",
   "metadata": {},
   "source": [
    "---"
   ]
  },
  {
   "cell_type": "markdown",
   "id": "7d35f0f6-e40c-422f-82c2-93d4253a2096",
   "metadata": {},
   "source": [
    "**Ejercicio 2**\n",
    "\n",
    "Dada la siguiente lista de números:\n",
    "\n",
    "```python\n",
    "lista = [1,-1,4,-15,9,7,6,-3,2,-20]\n",
    "```\n",
    "\n",
    "- Crear una función \"positivo\" que pasando como parámetro un número, lo devuelve tal cual si es positivo, o no devuelve nada si el número es negativo.\n",
    "- Crear una nueva lista \"lista2\", que mediante \"filter\", contenga sólo los números positivos de la lista original."
   ]
  },
  {
   "cell_type": "code",
   "execution_count": 8,
   "id": "887fa780-8cc0-41a6-829e-f8ddf90c5336",
   "metadata": {},
   "outputs": [],
   "source": [
    "lista = [1,-1,4,-15,9,7,6,-3,2,-20]"
   ]
  },
  {
   "cell_type": "code",
   "execution_count": 9,
   "id": "32ba83c0-2ae8-45de-85ee-0eae23c98a09",
   "metadata": {},
   "outputs": [
    {
     "data": {
      "text/plain": [
       "[1, 4, 9, 7, 6, 2]"
      ]
     },
     "execution_count": 9,
     "metadata": {},
     "output_type": "execute_result"
    }
   ],
   "source": [
    "# Forma 1\n",
    "\n",
    "def positivo (numero):\n",
    "    if numero >= 0:\n",
    "        return numero\n",
    "        \n",
    "lista2 = list(filter(positivo,lista))\n",
    "lista2"
   ]
  },
  {
   "cell_type": "code",
   "execution_count": 10,
   "id": "c670bf96-f5a0-4cd8-bce0-4942cd65d848",
   "metadata": {},
   "outputs": [
    {
     "data": {
      "text/plain": [
       "[1, 4, 9, 7, 6, 2]"
      ]
     },
     "execution_count": 10,
     "metadata": {},
     "output_type": "execute_result"
    }
   ],
   "source": [
    "# Forma 2\n",
    "\n",
    "lista2_lambda = list(filter(lambda numero: numero>=0, lista))\n",
    "lista2_lambda"
   ]
  },
  {
   "cell_type": "markdown",
   "id": "d3790ad3-77b0-44a5-994c-2de77937ebf5",
   "metadata": {},
   "source": [
    "---"
   ]
  },
  {
   "cell_type": "markdown",
   "id": "7e1e60f9-9818-42d6-9b1a-ce39e217075c",
   "metadata": {},
   "source": [
    "**Ejercicio 3**\n",
    "\n",
    "Dada la siguiente listas de palabras:\n",
    "\n",
    "```python\n",
    "lista = ['manzana', 'platano', 'melocoton', 'pera', 'manzana', 'pera', 'limon', 'platano', 'naranja']\n",
    "```\n",
    "\n",
    "- Crea una nueva lista \"lista_sin_duplicados\" eliminando las palabras repetidas.\n",
    "    - Pista: Utilizar conjuntos "
   ]
  },
  {
   "cell_type": "code",
   "execution_count": 13,
   "id": "42599c58-17fe-4e6f-9074-ebbe6ae5113e",
   "metadata": {},
   "outputs": [],
   "source": [
    "lista = ['manzana', 'platano', 'melocoton', 'pera', 'manzana', 'pera', 'limon', 'platano', 'naranja']"
   ]
  },
  {
   "cell_type": "code",
   "execution_count": 14,
   "id": "993c5698-c5e5-40de-8bcf-4a45cbb10c3f",
   "metadata": {},
   "outputs": [
    {
     "data": {
      "text/plain": [
       "['melocoton', 'limon', 'naranja', 'manzana', 'platano', 'pera']"
      ]
     },
     "execution_count": 14,
     "metadata": {},
     "output_type": "execute_result"
    }
   ],
   "source": [
    "# Forma 1\n",
    "conjunto = set(lista)\n",
    "lista_sin_duplicados = []\n",
    "\n",
    "for elemento in conjunto:\n",
    "        lista_sin_duplicados.append(elemento)\n",
    "\n",
    "lista_sin_duplicados"
   ]
  },
  {
   "cell_type": "code",
   "execution_count": 15,
   "id": "f0575090-807e-43dc-b923-702704cbda7f",
   "metadata": {},
   "outputs": [
    {
     "data": {
      "text/plain": [
       "['melocoton', 'limon', 'naranja', 'manzana', 'platano', 'pera']"
      ]
     },
     "execution_count": 15,
     "metadata": {},
     "output_type": "execute_result"
    }
   ],
   "source": [
    "# Forma 2\n",
    "lista_sin_duplicados = list(set(lista))\n",
    "lista_sin_duplicados"
   ]
  },
  {
   "cell_type": "markdown",
   "id": "e742a3b4-bc99-46ae-bdbc-b1cdba3d9107",
   "metadata": {},
   "source": [
    "---"
   ]
  },
  {
   "cell_type": "markdown",
   "id": "eea79ee7-5269-4d31-9f3c-fdf0f115fe59",
   "metadata": {},
   "source": [
    "**Ejercicio 3**\n",
    "\n",
    "Crear una función \"dividir_entre_dos\" que divide un número entre 2 y devuelve el resultado.\n",
    "\n",
    "Dada la siguiente lista = [20,18,8,4,10,40,6]\n",
    "\n",
    "- Crear una nueva lista \"lista2\" que mediante la función \"map\" aplique la función \"dividir_entre_dos\" a cada elemento de la lista."
   ]
  },
  {
   "cell_type": "code",
   "execution_count": 32,
   "id": "0c83c026-42f8-43bb-93ea-ee97d8087ea9",
   "metadata": {},
   "outputs": [],
   "source": [
    "lista = [20,18,8,4,10,40,6]"
   ]
  },
  {
   "cell_type": "code",
   "execution_count": 50,
   "id": "d83365c1-3c0f-4bdb-91fa-9c6b801c53f6",
   "metadata": {},
   "outputs": [
    {
     "data": {
      "text/plain": [
       "[10.0, 9.0, 4.0, 2.0, 5.0, 20.0, 3.0]"
      ]
     },
     "execution_count": 50,
     "metadata": {},
     "output_type": "execute_result"
    }
   ],
   "source": [
    "def dividir_entre_dos(numero):\n",
    "    return numero / 2\n",
    "    \n",
    "lista2 = list(map(dividir_entre_dos, lista))\n",
    "lista2"
   ]
  }
 ],
 "metadata": {
  "kernelspec": {
   "display_name": "Python 3 (ipykernel)",
   "language": "python",
   "name": "python3"
  },
  "language_info": {
   "codemirror_mode": {
    "name": "ipython",
    "version": 3
   },
   "file_extension": ".py",
   "mimetype": "text/x-python",
   "name": "python",
   "nbconvert_exporter": "python",
   "pygments_lexer": "ipython3",
   "version": "3.12.7"
  }
 },
 "nbformat": 4,
 "nbformat_minor": 5
}
