{
 "cells": [
  {
   "cell_type": "markdown",
   "id": "cc047408-3a47-444e-b97f-7a597319c6c8",
   "metadata": {},
   "source": [
    "### Ejercicio 1: Operaciones Matemáticas\n",
    "\n",
    "Crear una función que reciba 2 números como parámetros y que devuelva la suma, resta, multiplicación, división y resto de las operaciones entre ambos números\n",
    "\n",
    "```python\n",
    "def operaciones_matematicas(a, b):\n",
    "\n",
    "# Prueba la función con valores específicos\n",
    "a = 10\n",
    "b = 3\n",
    " \n",
    "resultado = operaciones_matematicas(a, b)\n",
    "print(\"Suma:\", resultado[0])\n",
    "print(\"Resta:\", resultado[1])\n",
    "print(\"Multiplicación:\", resultado[2])\n",
    "print(\"División:\", resultado[3])\n",
    "print(\"Residuo:\", resultado[4])\n",
    "\n",
    "```\n",
    "\n",
    "Resultados:\n",
    "\n",
    "Suma: 13\n",
    "Resta: 7\n",
    "Multiplicación: 30\n",
    "División: 3.3333333333333335\n",
    "Residuo: 1"
   ]
  },
  {
   "cell_type": "code",
   "execution_count": 2,
   "id": "2ef171a5-6100-4243-8ab3-0390c928bf66",
   "metadata": {},
   "outputs": [
    {
     "name": "stdout",
     "output_type": "stream",
     "text": [
      "Suma: 13\n",
      "Resta: 7\n",
      "Multiplicación: 30\n",
      "División: 3.3333333333333335\n",
      "Residuo: 1\n"
     ]
    }
   ],
   "source": [
    "# Mi solución\n",
    "def operaciones_matematicas(a, b):\n",
    "    return (a+b, a-b, a*b, a/b, a%b)\n",
    "\n",
    "# Ejemplo de uso\n",
    "resultado = operaciones_matematicas(10, 3)\n",
    "print(\"Suma:\", resultado[0])\n",
    "print(\"Resta:\", resultado[1])\n",
    "print(\"Multiplicación:\", resultado[2])\n",
    "print(\"División:\", resultado[3])\n",
    "print(\"Residuo:\", resultado[4])"
   ]
  },
  {
   "cell_type": "code",
   "execution_count": 3,
   "id": "fa4299bf-ac01-4f04-a0bd-d9a394e55c7b",
   "metadata": {},
   "outputs": [
    {
     "name": "stderr",
     "output_type": "stream",
     "text": [
      "test_operaciones (__main__.TestOperacionesMatematicas.test_operaciones) ... ok\n",
      "\n",
      "----------------------------------------------------------------------\n",
      "Ran 1 test in 0.002s\n",
      "\n",
      "OK\n"
     ]
    },
    {
     "data": {
      "text/plain": [
       "<unittest.main.TestProgram at 0x76b86855a000>"
      ]
     },
     "execution_count": 3,
     "metadata": {},
     "output_type": "execute_result"
    }
   ],
   "source": [
    "# Biblioteca estandar de pruebas unitarias de Python\n",
    "import unittest\n",
    "\n",
    "# Definición de clase hija que hereda de unittest.TestCase para usar sus métodos de comprobación\n",
    "class TestOperacionesMatematicas(unittest.TestCase): \n",
    "    def test_operaciones(self):\n",
    "        # assertEqual compara dos valores y verifica que sean iguales.\n",
    "        self.assertEqual(operaciones_matematicas(10, 3), (13, 7, 30, 10/3, 10%3))\n",
    "        self.assertEqual(operaciones_matematicas(5, 2), (7, 3, 10, 5/2, 5%2))\n",
    "        self.assertEqual(operaciones_matematicas(20, 4), (24, 16, 80, 20/4, 20%4))\n",
    "        self.assertEqual(operaciones_matematicas(15, 5), (20, 10, 75, 15/5, 15%5))\n",
    "\n",
    "# Ejecución de las pruebas unitarias\n",
    "unittest.main(argv=[''], verbosity=2,  exit=False)"
   ]
  },
  {
   "cell_type": "markdown",
   "id": "6605322f-68e6-48e9-955a-7e8e3fd613de",
   "metadata": {},
   "source": [
    "---"
   ]
  },
  {
   "cell_type": "markdown",
   "id": "b7e07faa-d323-42e8-802f-56d6a9389132",
   "metadata": {},
   "source": [
    "### Ejercicio 2: Calcular la suma y promedio de una lista de números\n",
    "\n",
    "Desarrolla una función llamada 'calcular_suma_y_promedio' que tome como entrada una lista de números y calcule la suma de todos los números de la lista y el promedio de esos números.\n",
    "\n",
    "La función devolverá un diccionario con los resultados de la suma y el promedio\n",
    "\n",
    "```python\n",
    "def calcular_suma_y_promedio(lista_numeros):\n",
    "\n",
    "# Pruebas\n",
    "numeros = [1, 2, 3, 4, 5]\n",
    "resultado = calcular_suma_y_promedio(numeros)\n",
    "print(\"Suma:\", resultado[\"suma\"])\n",
    "print(\"Promedio:\", resultado[\"promedio\"])\n",
    "```\n",
    "\n",
    "Suma: 15\n",
    "\n",
    "Promedio: 3.0"
   ]
  },
  {
   "cell_type": "code",
   "execution_count": 6,
   "id": "0e6fd796-9328-4de6-885c-f36bad1c6d41",
   "metadata": {},
   "outputs": [
    {
     "name": "stdout",
     "output_type": "stream",
     "text": [
      "Suma: 15\n",
      "Promedio: 3.0\n"
     ]
    }
   ],
   "source": [
    "# Mi solución\n",
    "def calcular_suma_y_promedio(lista_numeros):\n",
    "    if not lista_numeros:\n",
    "        return {'suma': 0, 'promedio': 0}\n",
    "    else:\n",
    "        sumatorio = 0\n",
    "        for numero in lista_numeros:\n",
    "            sumatorio += numero\n",
    "        promedio = sumatorio / len(lista_numeros)\n",
    "        return {\"suma\": sumatorio, \"promedio\": promedio}\n",
    "\n",
    "# Ejemplo de uso\n",
    "numeros = [1, 2, 3, 4, 5]\n",
    "resultado = calcular_suma_y_promedio(numeros)\n",
    "print(\"Suma:\", resultado[\"suma\"])\n",
    "print(\"Promedio:\", resultado[\"promedio\"])"
   ]
  },
  {
   "cell_type": "code",
   "execution_count": 7,
   "id": "9dd05173-4af9-4b75-9aa7-12039c344cd1",
   "metadata": {},
   "outputs": [
    {
     "name": "stderr",
     "output_type": "stream",
     "text": [
      "test_suma_y_promedio (__main__.TestCalcularSumaYPromedio.test_suma_y_promedio) ... ok\n",
      "test_operaciones (__main__.TestOperacionesMatematicas.test_operaciones) ... ok\n",
      "\n",
      "----------------------------------------------------------------------\n",
      "Ran 2 tests in 0.005s\n",
      "\n",
      "OK\n"
     ]
    },
    {
     "data": {
      "text/plain": [
       "<unittest.main.TestProgram at 0x76b8805dc230>"
      ]
     },
     "execution_count": 7,
     "metadata": {},
     "output_type": "execute_result"
    }
   ],
   "source": [
    "import unittest\n",
    "\n",
    "# Clase de prueba unitaria para calcular_suma_y_promedio\n",
    "class TestCalcularSumaYPromedio(unittest.TestCase):\n",
    "    def test_suma_y_promedio(self):\n",
    "        self.assertEqual(calcular_suma_y_promedio([1, 2, 3, 4, 5]), {\"suma\": 15, \"promedio\": 3.0})\n",
    "        self.assertEqual(calcular_suma_y_promedio([10, 20, 30]), {\"suma\": 60, \"promedio\": 20.0})\n",
    "        self.assertEqual(calcular_suma_y_promedio([5]), {\"suma\": 5, \"promedio\": 5.0})\n",
    "        self.assertEqual(calcular_suma_y_promedio([0, 0, 0]), {\"suma\": 0, \"promedio\": 0.0})\n",
    "        self.assertEqual(calcular_suma_y_promedio([-5, 5, 10]), {\"suma\": 10, \"promedio\": 10/3})\n",
    "        # Prueba con lista vacía\n",
    "        self.assertEqual(calcular_suma_y_promedio([]), {\"suma\": 0, \"promedio\": 0})\n",
    "\n",
    "# Ejecución de las pruebas unitarias\n",
    "unittest.main(argv=[''], verbosity=2,  exit=False)"
   ]
  },
  {
   "cell_type": "markdown",
   "id": "cb8040f0-a921-4ef7-a7da-d3d563f5b20f",
   "metadata": {},
   "source": [
    "---"
   ]
  },
  {
   "cell_type": "markdown",
   "id": "f6c9effd-879d-428f-8c72-523e91604799",
   "metadata": {},
   "source": [
    "### Ejercicio 3: Frecuencia de elementos en una lista\n",
    "\n",
    "Crear una función denominada 'contar_frecuencia' que tome una lista de números y calcule las veces (frecuencia) que aparece cada número en la lista y devuelva los resultados en forma de diccionario, donde cada clave será cada número distinto de la lista y cada valor será el número de veces que aparece ese número en la lista.\n",
    "\n",
    "```python\t\n",
    "def contar_frecuencia(lista):\n",
    "\n",
    "# Ejemplo de uso\n",
    "elementos = [1, 2, 2, 3, 1, 2, 4, 5, 4]\n",
    "resultado = contar_frecuencia(elementos)\n",
    "print(resultado)\n",
    "\n",
    "```\n",
    "\n",
    "{1: 2, 2: 3, 3: 1, 4: 2, 5: 1}"
   ]
  },
  {
   "cell_type": "code",
   "execution_count": 10,
   "id": "3ae69c4c-8b35-46aa-a7e2-c5d0662ba904",
   "metadata": {},
   "outputs": [
    {
     "name": "stdout",
     "output_type": "stream",
     "text": [
      "{1: 2, 2: 3, 3: 1, 4: 2, 5: 1}\n"
     ]
    },
    {
     "data": {
      "text/plain": [
       "{1: 2, 2: 3, 3: 1, 4: 2, 5: 1}"
      ]
     },
     "execution_count": 10,
     "metadata": {},
     "output_type": "execute_result"
    }
   ],
   "source": [
    "# Mi solución\n",
    "def contar_frecuencia(lista):\n",
    "    frecuencia = {}\n",
    "    for numero in lista:\n",
    "        if numero in frecuencia:\n",
    "            frecuencia[numero] += 1\n",
    "        else:\n",
    "            frecuencia[numero] = 1\n",
    "    return frecuencia\n",
    "\n",
    "# Ejemplo de uso\n",
    "elementos = [1, 2, 2, 3, 1, 2, 4, 5, 4]\n",
    "resultado = contar_frecuencia(elementos)\n",
    "print(resultado)\n",
    "\n",
    "{1: 2, 2: 3, 3: 1, 4: 2, 5: 1}"
   ]
  },
  {
   "cell_type": "code",
   "execution_count": 11,
   "id": "d92dbf4e-9a32-448d-be9d-15e3cce0a40a",
   "metadata": {},
   "outputs": [
    {
     "name": "stderr",
     "output_type": "stream",
     "text": [
      "test_suma_y_promedio (__main__.TestCalcularSumaYPromedio.test_suma_y_promedio) ... ok\n",
      "test_frecuencia (__main__.TestContarFrecuencia.test_frecuencia) ... ok\n",
      "test_operaciones (__main__.TestOperacionesMatematicas.test_operaciones) ... ok\n",
      "\n",
      "----------------------------------------------------------------------\n",
      "Ran 3 tests in 0.005s\n",
      "\n",
      "OK\n"
     ]
    },
    {
     "data": {
      "text/plain": [
       "<unittest.main.TestProgram at 0x76b880598b30>"
      ]
     },
     "execution_count": 11,
     "metadata": {},
     "output_type": "execute_result"
    }
   ],
   "source": [
    "import unittest\n",
    "\n",
    "# Clase de prueba unitaria para contar_frecuencia\n",
    "class TestContarFrecuencia(unittest.TestCase):\n",
    "    def test_frecuencia(self):\n",
    "        self.assertEqual(contar_frecuencia([1, 2, 2, 3, 1, 2, 4, 5, 4]), {1: 2, 2: 3, 3: 1, 4: 2, 5: 1})\n",
    "        self.assertEqual(contar_frecuencia([10, 20, 10, 30, 20, 30, 30]), {10: 2, 20: 2, 30: 3})\n",
    "        self.assertEqual(contar_frecuencia([5, 5, 5]), {5: 3})\n",
    "        self.assertEqual(contar_frecuencia([]), {})  # Prueba con lista vacía\n",
    "        self.assertEqual(contar_frecuencia([-5, -5, 10, 0, 10]), {-5: 2, 10: 2, 0: 1})\n",
    "\n",
    "# Ejecución de las pruebas unitarias\n",
    "unittest.main(argv=[''], verbosity=2,  exit=False)"
   ]
  },
  {
   "cell_type": "markdown",
   "id": "c7780a98-73ee-4576-962e-d8a23a18d13f",
   "metadata": {},
   "source": [
    "---"
   ]
  },
  {
   "cell_type": "markdown",
   "id": "f8bff5ba-de18-49cf-bc6a-77c21b3e6b5a",
   "metadata": {},
   "source": [
    "### Ejercicio 4: Aplicar una función y filtrar elementos en una lista\n",
    "\n",
    "La función recibirá como parámetros una lista de números y un valor_umbral y devolverá la lista de números cuyos cuadrados sean mayores que el valor_umbral, utilizando para ello las funciones lambda, map, filter y list.\n",
    "\n",
    "\n",
    "```python\t\n",
    "def aplicar_funcion_y_filtrar(lista, valor_maximo):\n",
    "\n",
    "# Ejemplo de uso\n",
    "numeros = [1, 2, 3, 4, 5]\n",
    "valor_umbral = 3\n",
    "resultado = aplicar_funcion_y_filtrar(numeros, valor_umbral)\n",
    "print(resultado)\n",
    "```\t\n",
    "\n",
    "Resultado:\n",
    "\n",
    "[4, 9, 16, 25]"
   ]
  },
  {
   "cell_type": "code",
   "execution_count": 14,
   "id": "11f77f0c-da84-457a-aca4-7151ad2b4539",
   "metadata": {},
   "outputs": [
    {
     "name": "stdout",
     "output_type": "stream",
     "text": [
      "[4, 9, 16, 25]\n"
     ]
    }
   ],
   "source": [
    "# Mi solución\n",
    "def aplicar_funcion_y_filtrar(lista, valor_umbral):\n",
    "    resultado = list(filter(lambda x: x > valor_umbral, map(lambda x: x**2, lista)))\n",
    "    return resultado\n",
    "\n",
    "# Ejemplo de uso\n",
    "numeros = [1, 2, 3, 4, 5]\n",
    "valor_umbral = 3\n",
    "resultado = aplicar_funcion_y_filtrar(numeros, valor_umbral)\n",
    "print(resultado)"
   ]
  },
  {
   "cell_type": "code",
   "execution_count": 15,
   "id": "29227b0c-3aee-4e9d-9fd3-76d53800f024",
   "metadata": {},
   "outputs": [
    {
     "name": "stderr",
     "output_type": "stream",
     "text": [
      "test_aplicar_funcion_y_filtrar (__main__.TestAplicarFuncionYFiltrar.test_aplicar_funcion_y_filtrar) ... ok\n",
      "test_suma_y_promedio (__main__.TestCalcularSumaYPromedio.test_suma_y_promedio) ... ok\n",
      "test_frecuencia (__main__.TestContarFrecuencia.test_frecuencia) ... ok\n",
      "test_operaciones (__main__.TestOperacionesMatematicas.test_operaciones) ... ok\n",
      "\n",
      "----------------------------------------------------------------------\n",
      "Ran 4 tests in 0.008s\n",
      "\n",
      "OK\n"
     ]
    },
    {
     "data": {
      "text/plain": [
       "<unittest.main.TestProgram at 0x76b880578740>"
      ]
     },
     "execution_count": 15,
     "metadata": {},
     "output_type": "execute_result"
    }
   ],
   "source": [
    "import unittest\n",
    "\n",
    "# Clase de prueba unitaria para aplicar_funcion_y_filtrar\n",
    "class TestAplicarFuncionYFiltrar(unittest.TestCase):\n",
    "    def test_aplicar_funcion_y_filtrar(self):\n",
    "        self.assertEqual(aplicar_funcion_y_filtrar([1, 2, 3, 4, 5], 3), [4, 9, 16, 25])\n",
    "        self.assertEqual(aplicar_funcion_y_filtrar([0, -2, 3, -4, 5], 4), [9, 16, 25])\n",
    "        self.assertEqual(aplicar_funcion_y_filtrar([-1, -2, -3], 1), [4, 9])\n",
    "        self.assertEqual(aplicar_funcion_y_filtrar([2, 4, 6], 15), [16, 36])\n",
    "        self.assertEqual(aplicar_funcion_y_filtrar([], 5), [])  # Prueba con lista vacía\n",
    "\n",
    "# Ejecución de las pruebas unitarias\n",
    "unittest.main(argv=[''], verbosity=2,  exit=False)"
   ]
  }
 ],
 "metadata": {
  "kernelspec": {
   "display_name": "Python 3 (ipykernel)",
   "language": "python",
   "name": "python3"
  },
  "language_info": {
   "codemirror_mode": {
    "name": "ipython",
    "version": 3
   },
   "file_extension": ".py",
   "mimetype": "text/x-python",
   "name": "python",
   "nbconvert_exporter": "python",
   "pygments_lexer": "ipython3",
   "version": "3.12.7"
  }
 },
 "nbformat": 4,
 "nbformat_minor": 5
}
