{
 "cells": [
  {
   "cell_type": "markdown",
   "id": "f11d999e-4281-415c-ab3b-f9fd48e77a6a",
   "metadata": {},
   "source": [
    "**Ejercicio 1**\n",
    "  \n",
    "- Crear una lista \"asisgnaturas\" con los textos \"matemáticas\", \"fisica\" , \"historia\"\n",
    "- Crear una lista  \"notas\" con los valores 9,9,8\n",
    "- Crear una serie con la lista \"notas\" como valores y la lista \"asignaturas\" como índices\n",
    "- Crear la variable \"nota_fisica\" con la nota de la asignatura física\n",
    "- Mediante el método print muestra la frase \"La nota de física es un ...\" "
   ]
  },
  {
   "cell_type": "code",
   "execution_count": 19,
   "id": "0d975574-ce9d-44b6-bea7-b0796c0250c5",
   "metadata": {},
   "outputs": [],
   "source": [
    "import pandas as pd"
   ]
  },
  {
   "cell_type": "code",
   "execution_count": 88,
   "id": "258abde9-e7f6-41eb-8ce9-1c87795bee8f",
   "metadata": {},
   "outputs": [
    {
     "data": {
      "text/plain": [
       "['matemáticas', 'fisica', 'historia']"
      ]
     },
     "execution_count": 88,
     "metadata": {},
     "output_type": "execute_result"
    }
   ],
   "source": [
    "asignaturas = 'matemáticas fisica historia'.split()\n",
    "asignaturas"
   ]
  },
  {
   "cell_type": "code",
   "execution_count": 92,
   "id": "d0615393-af16-4bb9-b303-79cbdcdc089d",
   "metadata": {},
   "outputs": [
    {
     "data": {
      "text/plain": [
       "[9, 9, 8]"
      ]
     },
     "execution_count": 92,
     "metadata": {},
     "output_type": "execute_result"
    }
   ],
   "source": [
    "notas = [9,9,8]\n",
    "notas"
   ]
  },
  {
   "cell_type": "code",
   "execution_count": 94,
   "id": "7b584894-221e-4cd7-bfc2-82f3e611d151",
   "metadata": {},
   "outputs": [
    {
     "data": {
      "text/plain": [
       "matemáticas    9\n",
       "fisica         9\n",
       "historia       8\n",
       "dtype: int64"
      ]
     },
     "execution_count": 94,
     "metadata": {},
     "output_type": "execute_result"
    }
   ],
   "source": [
    "serie = pd.Series(data=notas, index=asignaturas)\n",
    "serie"
   ]
  },
  {
   "cell_type": "code",
   "execution_count": 96,
   "id": "5d523500-f962-4b00-aeb0-caf6f295e597",
   "metadata": {},
   "outputs": [],
   "source": [
    "nota_fisica = serie['fisica']"
   ]
  },
  {
   "cell_type": "code",
   "execution_count": 98,
   "id": "9ddcb91a-dcc5-41f8-8269-224e47e50c31",
   "metadata": {},
   "outputs": [
    {
     "name": "stdout",
     "output_type": "stream",
     "text": [
      "La nota de física es un 9\n"
     ]
    }
   ],
   "source": [
    "print('La nota de física es un {}'.format(nota_fisica))"
   ]
  },
  {
   "cell_type": "markdown",
   "id": "b4c9815b-2ac8-480b-925e-4f62a15755df",
   "metadata": {},
   "source": [
    "---\n",
    "**Ejercicio 2**\n",
    "\n",
    "El objetivo será crear un dataframe con las ventas de nuestras 3 oficinas para los meses de enero, febrero y marzo.\n",
    "- Crear una variable \"ventas_enero\" que contenga una lista de 3 números enteros aleatorios entre 100 y 500.\n",
    "- Crear una variable \"ventas_febrero\" que contenga una lista de 3 números enteros aleatorios entre 100 y 500.\n",
    "- Crear una variable \"ventas_marzo\" que contenga una lista de 3 números enteros aleatorios entre 100 y 500.\n",
    "- Crear una variable \"filas\" que contenga esta lista de palabras: \"ventas_enero\", \"ventas_febrero\", \"ventas_marzo\".\n",
    "- Crear una variable \"columnas\" que contenga esta lista de palabras: \"oficina_1\", \"oficina_2\", \"oficina_3\".\n",
    "- Crear una variable \"ventas\" que contenta una lista con los valores de ventas de enero, febrero y marzo.\n",
    "- Crear un dataframe \"datafame\" que contenga las ventas, filas y columnas.\n",
    "- Mediante print muestra el valor de \"Las ventas de enero para la oficina 1 son de ...\""
   ]
  },
  {
   "cell_type": "code",
   "execution_count": 161,
   "id": "e62cd3cf-3496-4a61-a36c-e55d401cbd19",
   "metadata": {},
   "outputs": [],
   "source": [
    "import numpy as np\n",
    "import pandas as pd"
   ]
  },
  {
   "cell_type": "code",
   "execution_count": 163,
   "id": "1a496440-cc26-4794-b2f8-f1bc0fb58891",
   "metadata": {},
   "outputs": [
    {
     "data": {
      "text/plain": [
       "array([239, 156, 498])"
      ]
     },
     "execution_count": 163,
     "metadata": {},
     "output_type": "execute_result"
    }
   ],
   "source": [
    "ventas_enero = np.random.randint(100, 500, 3)\n",
    "ventas_enero"
   ]
  },
  {
   "cell_type": "code",
   "execution_count": 165,
   "id": "ce17d456-9bfc-44ef-afb7-4aefda5fa7cf",
   "metadata": {},
   "outputs": [
    {
     "data": {
      "text/plain": [
       "array([405, 148, 493])"
      ]
     },
     "execution_count": 165,
     "metadata": {},
     "output_type": "execute_result"
    }
   ],
   "source": [
    "ventas_febrero = np.random.randint(100, 500, 3)\n",
    "ventas_febrero"
   ]
  },
  {
   "cell_type": "code",
   "execution_count": 167,
   "id": "5b7a2af2-4dd2-4d76-b2c4-e92e5c2bd32a",
   "metadata": {},
   "outputs": [
    {
     "data": {
      "text/plain": [
       "array([323, 209, 319])"
      ]
     },
     "execution_count": 167,
     "metadata": {},
     "output_type": "execute_result"
    }
   ],
   "source": [
    "ventas_marzo = np.random.randint(100, 500, 3)\n",
    "ventas_marzo"
   ]
  },
  {
   "cell_type": "code",
   "execution_count": 169,
   "id": "ed07e833-48e0-49a7-bd43-273ece3e1c19",
   "metadata": {},
   "outputs": [
    {
     "data": {
      "text/plain": [
       "['ventas_enero', 'ventas_febrero', 'ventas_marzo']"
      ]
     },
     "execution_count": 169,
     "metadata": {},
     "output_type": "execute_result"
    }
   ],
   "source": [
    "filas = 'ventas_enero ventas_febrero ventas_marzo'.split()\n",
    "filas"
   ]
  },
  {
   "cell_type": "code",
   "execution_count": 171,
   "id": "ba6d4c8a-f2e2-4553-8767-075e3a69452b",
   "metadata": {},
   "outputs": [
    {
     "data": {
      "text/plain": [
       "['oficina_1', 'oficina_2', 'oficina3_']"
      ]
     },
     "execution_count": 171,
     "metadata": {},
     "output_type": "execute_result"
    }
   ],
   "source": [
    "columnas = 'oficina_1 oficina_2 oficina3_'.split()\n",
    "columnas"
   ]
  },
  {
   "cell_type": "code",
   "execution_count": 173,
   "id": "a0f94aa0-ae92-476c-8e13-f975f4007ab0",
   "metadata": {},
   "outputs": [
    {
     "data": {
      "text/plain": [
       "[array([239, 156, 498]), array([405, 148, 493]), array([323, 209, 319])]"
      ]
     },
     "execution_count": 173,
     "metadata": {},
     "output_type": "execute_result"
    }
   ],
   "source": [
    "ventas = [ventas_enero, ventas_febrero, ventas_marzo]\n",
    "ventas"
   ]
  },
  {
   "cell_type": "code",
   "execution_count": 175,
   "id": "589bb21d-67a8-4674-9b6e-f9a2977b04db",
   "metadata": {},
   "outputs": [
    {
     "data": {
      "text/html": [
       "<div>\n",
       "<style scoped>\n",
       "    .dataframe tbody tr th:only-of-type {\n",
       "        vertical-align: middle;\n",
       "    }\n",
       "\n",
       "    .dataframe tbody tr th {\n",
       "        vertical-align: top;\n",
       "    }\n",
       "\n",
       "    .dataframe thead th {\n",
       "        text-align: right;\n",
       "    }\n",
       "</style>\n",
       "<table border=\"1\" class=\"dataframe\">\n",
       "  <thead>\n",
       "    <tr style=\"text-align: right;\">\n",
       "      <th></th>\n",
       "      <th>oficina_1</th>\n",
       "      <th>oficina_2</th>\n",
       "      <th>oficina3_</th>\n",
       "    </tr>\n",
       "  </thead>\n",
       "  <tbody>\n",
       "    <tr>\n",
       "      <th>ventas_enero</th>\n",
       "      <td>239</td>\n",
       "      <td>156</td>\n",
       "      <td>498</td>\n",
       "    </tr>\n",
       "    <tr>\n",
       "      <th>ventas_febrero</th>\n",
       "      <td>405</td>\n",
       "      <td>148</td>\n",
       "      <td>493</td>\n",
       "    </tr>\n",
       "    <tr>\n",
       "      <th>ventas_marzo</th>\n",
       "      <td>323</td>\n",
       "      <td>209</td>\n",
       "      <td>319</td>\n",
       "    </tr>\n",
       "  </tbody>\n",
       "</table>\n",
       "</div>"
      ],
      "text/plain": [
       "                oficina_1  oficina_2  oficina3_\n",
       "ventas_enero          239        156        498\n",
       "ventas_febrero        405        148        493\n",
       "ventas_marzo          323        209        319"
      ]
     },
     "execution_count": 175,
     "metadata": {},
     "output_type": "execute_result"
    }
   ],
   "source": [
    "dataframe = pd.DataFrame(data=ventas, index=filas, columns=columnas)\n",
    "dataframe"
   ]
  },
  {
   "cell_type": "code",
   "execution_count": 181,
   "id": "e7678c6e-c4f8-4943-a7c4-9845f42dde3c",
   "metadata": {},
   "outputs": [
    {
     "name": "stdout",
     "output_type": "stream",
     "text": [
      "Las ventas de enero para la oficina 1 son de 239\n"
     ]
    }
   ],
   "source": [
    "print('Las ventas de enero para la oficina 1 son de {}'.format(dataframe['oficina_1']['ventas_enero']))"
   ]
  }
 ],
 "metadata": {
  "kernelspec": {
   "display_name": "Python 3 (ipykernel)",
   "language": "python",
   "name": "python3"
  },
  "language_info": {
   "codemirror_mode": {
    "name": "ipython",
    "version": 3
   },
   "file_extension": ".py",
   "mimetype": "text/x-python",
   "name": "python",
   "nbconvert_exporter": "python",
   "pygments_lexer": "ipython3",
   "version": "3.12.7"
  }
 },
 "nbformat": 4,
 "nbformat_minor": 5
}
