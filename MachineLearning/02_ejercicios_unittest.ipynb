{
 "cells": [
  {
   "cell_type": "markdown",
   "id": "00611f36-0ecf-4926-a5fd-627e5f7fd49b",
   "metadata": {},
   "source": [
    "**Ejercicio 1: Generar N números aleatorios enteros entre un valor mínimo y máximo**\n",
    "\n",
    "Desarrolla una función llamada generar_numeros_enteros_aleatorios que tome como entrada el número de elementos N, un valor mínimo minimo y un valor máximo maximo, y utilice NumPy para generar una lista de N números enteros aleatorios en el rango [minimo, maximo].\n",
    "\n",
    "```python\t\n",
    "    def generar_numeros_enteros_aleatorios(N, minimo, maximo):\n",
    "\n",
    "    # Ejemplo de uso\n",
    "    N = 5\n",
    "    minimo = 1\n",
    "    maximo = 10\n",
    "    resultado = generar_numeros_enteros_aleatorios(N, minimo, maximo)\n",
    "    print(resultado)\n",
    "```\n",
    "\n",
    "Resultado:\n",
    "\n",
    "[4, 10, 1, 8, 2]"
   ]
  },
  {
   "cell_type": "code",
   "execution_count": 47,
   "id": "e83214c0-8078-41e7-a9e9-da53ae288582",
   "metadata": {},
   "outputs": [
    {
     "name": "stdout",
     "output_type": "stream",
     "text": [
      "[1, 6, 6, 10, 5]\n"
     ]
    }
   ],
   "source": [
    "# Mi solución\n",
    "import numpy as np\n",
    "\n",
    "# Implementación de la función generar_numeros_enteros_aleatorios\n",
    "def generar_numeros_enteros_aleatorios(N, minimo, maximo):\n",
    "    # Generar N números aleatorios enteros en el rango [minimo, maximo]\n",
    "    return list(np.random.randint(minimo, maximo + 1, N))\n",
    "\n",
    "# Ejemplo de uso\n",
    "resultado = generar_numeros_enteros_aleatorios(5,1,10)\n",
    "print(resultado)"
   ]
  },
  {
   "cell_type": "code",
   "execution_count": 49,
   "id": "2e7ef259-bbd4-4217-84d5-39b4a5f9aa68",
   "metadata": {},
   "outputs": [
    {
     "name": "stderr",
     "output_type": "stream",
     "text": [
      "test_longitud_lista (__main__.TestGenerarNumerosEnterosAleatorios.test_longitud_lista) ... ok\n",
      "test_rango_unico (__main__.TestGenerarNumerosEnterosAleatorios.test_rango_unico) ... ok\n",
      "test_rango_valores (__main__.TestGenerarNumerosEnterosAleatorios.test_rango_valores) ... ok\n",
      "test_valores_negativos (__main__.TestGenerarNumerosEnterosAleatorios.test_valores_negativos) ... ok\n",
      "\n",
      "----------------------------------------------------------------------\n",
      "Ran 4 tests in 0.020s\n",
      "\n",
      "OK\n"
     ]
    },
    {
     "data": {
      "text/plain": [
       "<unittest.main.TestProgram at 0x79a4fc70a5a0>"
      ]
     },
     "execution_count": 49,
     "metadata": {},
     "output_type": "execute_result"
    }
   ],
   "source": [
    "import unittest\n",
    "\n",
    "# Clase de prueba unitaria para generar_numeros_enteros_aleatorios\n",
    "class TestGenerarNumerosEnterosAleatorios(unittest.TestCase):\n",
    "    def test_longitud_lista(self):\n",
    "        # Comprobar que la lista generada tiene el tamaño N\n",
    "        self.assertEqual(len(generar_numeros_enteros_aleatorios(5, 1, 10)), 5)\n",
    "        self.assertEqual(len(generar_numeros_enteros_aleatorios(10, -5, 5)), 10)\n",
    "\n",
    "    def test_rango_valores(self):\n",
    "        # Comprobar que todos los valores generados están dentro del rango [minimo, maximo]\n",
    "        resultado = generar_numeros_enteros_aleatorios(100, 0, 50)\n",
    "        for valor in resultado:\n",
    "            self.assertTrue(0 <= valor <= 50)\n",
    "\n",
    "    def test_valores_negativos(self):\n",
    "        # Comprobar que funciona correctamente con rangos negativos\n",
    "        resultado = generar_numeros_enteros_aleatorios(20, -10, -1)\n",
    "        for valor in resultado:\n",
    "            self.assertTrue(-10 <= valor <= -1)\n",
    "\n",
    "    def test_rango_unico(self):\n",
    "        # Comprobar que genera correctamente el mismo número cuando el rango es un valor único\n",
    "        resultado = generar_numeros_enteros_aleatorios(5, 4, 4)\n",
    "        self.assertEqual(resultado, [4, 4, 4, 4, 4])\n",
    "\n",
    "# Ejecución de las pruebas unitarias\n",
    "unittest.main(argv=[''], verbosity=2, exit=False)"
   ]
  },
  {
   "cell_type": "markdown",
   "id": "d750b3c8-e633-43e8-a1d0-9ea03399773e",
   "metadata": {},
   "source": [
    "---\n",
    "**Ejercicio 2: Generar una Secuencia de Números**\n",
    "\n",
    "Desarrolla una función llamada generar_secuencia_numerica que tome como entrada un valor mínimo minimo, un valor máximo maximo y un paso paso, y utilice NumPy para generar una secuencia de números en el rango [minimo, maximo] con el paso especificado.\n",
    "\n",
    "```python\t\n",
    "    def generar_secuencia_numerica(minimo, maximo, paso):\n",
    "\n",
    "    # Ejemplo de uso\n",
    "    minimo = 0\n",
    "    maximo = 10\n",
    "    paso = 2\n",
    "    resultado = generar_secuencia_numerica(minimo, maximo, paso)\n",
    "    print(resultado)\n",
    "\n",
    "\n",
    "    Resultado\n",
    "\n",
    "    [0 2 4 6 8]\n",
    "\n",
    "```\n",
    "\n",
    "Tipo de datos del resultado\n",
    "\n",
    "type(resultado)\n",
    "numpy.ndarray"
   ]
  },
  {
   "cell_type": "code",
   "execution_count": 70,
   "id": "34b15bd7-8bba-4e63-a807-528259400fdd",
   "metadata": {},
   "outputs": [
    {
     "name": "stdout",
     "output_type": "stream",
     "text": [
      "[0 2 4 6 8]\n",
      "Tipo de datos del resultado:  <class 'numpy.ndarray'>\n"
     ]
    }
   ],
   "source": [
    "# Mi solución\n",
    "\n",
    "# Implementación de la función generar_secuencia_numerica\n",
    "def generar_secuencia_numerica(minimo, maximo, paso):\n",
    "     # Generar una secuencia de números en el rango [minimo, maximo) con el paso especificado\n",
    "    return np.arange(minimo, maximo, paso)\n",
    "\n",
    "# Ejemplo de uso\n",
    "minimo = 0\n",
    "maximo = 10\n",
    "paso = 2\n",
    "resultado = generar_secuencia_numerica(minimo, maximo, paso)\n",
    "print(resultado)\n",
    "\n",
    "# Verificar el tipo de dato\n",
    "print(\"Tipo de datos del resultado: \", type(resultado))"
   ]
  },
  {
   "cell_type": "code",
   "execution_count": 72,
   "id": "8932bb25-8519-491e-bc8a-156fe6ef2371",
   "metadata": {
    "scrolled": true
   },
   "outputs": [
    {
     "name": "stderr",
     "output_type": "stream",
     "text": [
      "test_longitud_lista (__main__.TestGenerarNumerosEnterosAleatorios.test_longitud_lista) ... ok\n",
      "test_rango_unico (__main__.TestGenerarNumerosEnterosAleatorios.test_rango_unico) ... ok\n",
      "test_rango_valores (__main__.TestGenerarNumerosEnterosAleatorios.test_rango_valores) ... ok\n",
      "test_valores_negativos (__main__.TestGenerarNumerosEnterosAleatorios.test_valores_negativos) ... ok\n",
      "test_secuencia_basica (__main__.TestGenerarSecuenciaNumerica.test_secuencia_basica) ... ok\n",
      "test_secuencia_inversa (__main__.TestGenerarSecuenciaNumerica.test_secuencia_inversa) ... ok\n",
      "test_secuencia_negativos (__main__.TestGenerarSecuenciaNumerica.test_secuencia_negativos) ... ok\n",
      "test_secuencia_paso_decimales (__main__.TestGenerarSecuenciaNumerica.test_secuencia_paso_decimales) ... ok\n",
      "test_tipo_resultado (__main__.TestGenerarSecuenciaNumerica.test_tipo_resultado) ... ok\n",
      "\n",
      "----------------------------------------------------------------------\n",
      "Ran 9 tests in 0.043s\n",
      "\n",
      "OK\n"
     ]
    },
    {
     "data": {
      "text/plain": [
       "<unittest.main.TestProgram at 0x79a4cf54a270>"
      ]
     },
     "execution_count": 72,
     "metadata": {},
     "output_type": "execute_result"
    }
   ],
   "source": [
    "import unittest\n",
    "\n",
    "# Clase de prueba unitaria para generar_secuencia_numerica\n",
    "class TestGenerarSecuenciaNumerica(unittest.TestCase):\n",
    "    def test_secuencia_basica(self):\n",
    "        # Probar con una secuencia básica\n",
    "        np.testing.assert_array_equal(generar_secuencia_numerica(0, 10, 2), np.array([0, 2, 4, 6, 8]))\n",
    "\n",
    "    def test_secuencia_negativos(self):\n",
    "        # Probar con valores negativos\n",
    "        np.testing.assert_array_equal(generar_secuencia_numerica(-10, 0, 2), np.array([-10, -8, -6, -4, -2]))\n",
    "\n",
    "    def test_secuencia_paso_decimales(self):\n",
    "        # Probar con pasos decimales (usar assert_allclose en lugar de assert_array_equal)\n",
    "        np.testing.assert_allclose(generar_secuencia_numerica(0, 1, 0.2), np.array([0. , 0.2, 0.4, 0.6, 0.8]), rtol=1e-7, atol=1e-7)\n",
    "\n",
    "    def test_secuencia_inversa(self):\n",
    "        # Probar con rango inverso y paso negativo\n",
    "        np.testing.assert_array_equal(generar_secuencia_numerica(10, 0, -2), np.array([10, 8, 6, 4, 2]))\n",
    "\n",
    "    def test_tipo_resultado(self):\n",
    "        # Verificar que el resultado sea un ndarray de numpy\n",
    "        self.assertIsInstance(generar_secuencia_numerica(0, 10, 2), np.ndarray)\n",
    "\n",
    "# Ejecución de las pruebas unitarias\n",
    "unittest.main(argv=[''], verbosity=2, exit=False)"
   ]
  }
 ],
 "metadata": {
  "kernelspec": {
   "display_name": "Python 3 (ipykernel)",
   "language": "python",
   "name": "python3"
  },
  "language_info": {
   "codemirror_mode": {
    "name": "ipython",
    "version": 3
   },
   "file_extension": ".py",
   "mimetype": "text/x-python",
   "name": "python",
   "nbconvert_exporter": "python",
   "pygments_lexer": "ipython3",
   "version": "3.12.7"
  }
 },
 "nbformat": 4,
 "nbformat_minor": 5
}
