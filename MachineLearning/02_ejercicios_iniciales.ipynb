{
 "cells": [
  {
   "cell_type": "markdown",
   "id": "04d83659-57f3-4785-8c9e-d46213e5d78b",
   "metadata": {},
   "source": [
    "**Ejercicio 1**\n",
    "\n",
    "- Crear una lista de número secuenciales con el valor mínimo de 10 y el valor máximo 39\n",
    "- Convierte esta lista en una lista o matriz de 2 dimensiones (3 filas por 10 columnas)\n",
    "- Muestra por pantalla el valor del elemento de la esquina superior derecha de la matriz"
   ]
  },
  {
   "cell_type": "code",
   "execution_count": 23,
   "id": "5d40a83a-2390-421c-b1c0-3a92a36a5fc0",
   "metadata": {},
   "outputs": [],
   "source": [
    "import numpy as np"
   ]
  },
  {
   "cell_type": "code",
   "execution_count": 67,
   "id": "5f235277-786c-428d-9c64-a7003a551667",
   "metadata": {},
   "outputs": [
    {
     "data": {
      "text/plain": [
       "array([10, 11, 12, 13, 14, 15, 16, 17, 18, 19, 20, 21, 22, 23, 24, 25, 26,\n",
       "       27, 28, 29, 30, 31, 32, 33, 34, 35, 36, 37, 38, 39])"
      ]
     },
     "execution_count": 67,
     "metadata": {},
     "output_type": "execute_result"
    }
   ],
   "source": [
    "lista = np.arange(10,40)\n",
    "lista"
   ]
  },
  {
   "cell_type": "code",
   "execution_count": 87,
   "id": "ba2733d9-deba-4a3a-940d-9c1565a36912",
   "metadata": {},
   "outputs": [
    {
     "data": {
      "text/plain": [
       "array([[10, 11, 12, 13, 14, 15, 16, 17, 18, 19],\n",
       "       [20, 21, 22, 23, 24, 25, 26, 27, 28, 29],\n",
       "       [30, 31, 32, 33, 34, 35, 36, 37, 38, 39]])"
      ]
     },
     "execution_count": 87,
     "metadata": {},
     "output_type": "execute_result"
    }
   ],
   "source": [
    "lista = lista.reshape(3,10)\n",
    "lista"
   ]
  },
  {
   "cell_type": "code",
   "execution_count": 118,
   "id": "8db97790-6fdb-4175-92eb-1b761d0a22f6",
   "metadata": {},
   "outputs": [
    {
     "name": "stdout",
     "output_type": "stream",
     "text": [
      "coordenadas:  [[0 9]]\n",
      "19\n"
     ]
    }
   ],
   "source": [
    "# función para encontrar las coordenadas de los elementos que cumplen con cierta condición\n",
    "# si no lo encuentra, retorna None\n",
    "posicion = np.argwhere(lista == 19)\n",
    "print(\"coordenadas: \", posicion)\n",
    "print(lista[0][9])"
   ]
  },
  {
   "cell_type": "markdown",
   "id": "b77def36-ac45-46d5-9d83-3bef8c26e79c",
   "metadata": {},
   "source": [
    "---\n",
    "**Ejercicio 2**\n",
    "- Crear un array de una dimensión con 9 valores enteros aleatorios entre 0 y 100\n",
    "- Convierte ese array en una matriz de 2 dimensiones (3 filas y 3 columnas)\n",
    "- Muestra por pantalla el valor del elemento de la matriz de la esquina inferior derecha"
   ]
  },
  {
   "cell_type": "code",
   "execution_count": 100,
   "id": "c5cc96a2-3131-468a-b588-6cd5b227517f",
   "metadata": {},
   "outputs": [
    {
     "data": {
      "text/plain": [
       "array([45, 37,  1, 13, 29, 78, 39, 70, 32])"
      ]
     },
     "execution_count": 100,
     "metadata": {},
     "output_type": "execute_result"
    }
   ],
   "source": [
    "array = np.random.randint(0,100,9)\n",
    "array"
   ]
  },
  {
   "cell_type": "code",
   "execution_count": 114,
   "id": "4b514fd8-6d41-43a0-9ecf-fdb6a502686a",
   "metadata": {},
   "outputs": [
    {
     "data": {
      "text/plain": [
       "array([[45, 37,  1],\n",
       "       [13, 29, 78],\n",
       "       [39, 70, 32]])"
      ]
     },
     "execution_count": 114,
     "metadata": {},
     "output_type": "execute_result"
    }
   ],
   "source": [
    "matriz = array.reshape(3,3)\n",
    "matriz"
   ]
  },
  {
   "cell_type": "code",
   "execution_count": 116,
   "id": "810a179b-3384-40c0-bf31-25921c06cba3",
   "metadata": {},
   "outputs": [
    {
     "data": {
      "text/plain": [
       "32"
      ]
     },
     "execution_count": 116,
     "metadata": {},
     "output_type": "execute_result"
    }
   ],
   "source": [
    "matriz[2,2]"
   ]
  }
 ],
 "metadata": {
  "kernelspec": {
   "display_name": "Python 3 (ipykernel)",
   "language": "python",
   "name": "python3"
  },
  "language_info": {
   "codemirror_mode": {
    "name": "ipython",
    "version": 3
   },
   "file_extension": ".py",
   "mimetype": "text/x-python",
   "name": "python",
   "nbconvert_exporter": "python",
   "pygments_lexer": "ipython3",
   "version": "3.12.7"
  }
 },
 "nbformat": 4,
 "nbformat_minor": 5
}
