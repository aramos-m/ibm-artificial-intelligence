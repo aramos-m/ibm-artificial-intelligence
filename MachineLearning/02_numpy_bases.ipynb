{
 "cells": [
  {
   "cell_type": "markdown",
   "id": "a08c5b16-d054-41c8-af1c-121b0e7f2451",
   "metadata": {},
   "source": [
    "## Sección 4: Módulo Numpy para análisis de datos"
   ]
  },
  {
   "cell_type": "code",
   "execution_count": 1,
   "id": "d43989e4-292d-4ba3-97af-f6f723e7392d",
   "metadata": {},
   "outputs": [],
   "source": [
    "import numpy as np"
   ]
  },
  {
   "cell_type": "markdown",
   "id": "306d20df-b96a-4b11-b4f6-654b519b2148",
   "metadata": {},
   "source": [
    "---\n",
    "### Numpy arrays"
   ]
  },
  {
   "cell_type": "code",
   "execution_count": 3,
   "id": "c98368ed-b5b5-4087-9cd4-46e88c89671d",
   "metadata": {},
   "outputs": [
    {
     "data": {
      "text/plain": [
       "array([1, 2, 3, 4])"
      ]
     },
     "execution_count": 3,
     "metadata": {},
     "output_type": "execute_result"
    }
   ],
   "source": [
    "lista = [1,2,3,4]\n",
    "array = np.array(lista)\n",
    "array"
   ]
  },
  {
   "cell_type": "code",
   "execution_count": 4,
   "id": "19a2a785-1c64-4b5e-8e0e-a651c2894d10",
   "metadata": {},
   "outputs": [
    {
     "data": {
      "text/plain": [
       "array([[1, 2, 3],\n",
       "       [4, 5, 6],\n",
       "       [7, 8, 9]])"
      ]
     },
     "execution_count": 4,
     "metadata": {},
     "output_type": "execute_result"
    }
   ],
   "source": [
    "lista2 = [[1,2,3], [4,5,6], [7,8,9]]\n",
    "matriz = np.array(lista2)\n",
    "matriz"
   ]
  },
  {
   "cell_type": "markdown",
   "id": "871c945d-3310-49d4-a3d6-161736e1b3bf",
   "metadata": {},
   "source": [
    "---\n",
    "### Numpy arrays - arange, zeros, ones, linspace, eye"
   ]
  },
  {
   "cell_type": "code",
   "execution_count": 6,
   "id": "0788f9b2-67a0-4981-8856-3d019ccebc80",
   "metadata": {},
   "outputs": [
    {
     "name": "stdout",
     "output_type": "stream",
     "text": [
      "[0 1 2 3 4]\n",
      "[2 3 4 5 6 7 8 9]\n",
      "[2 4 6 8]\n"
     ]
    }
   ],
   "source": [
    "# np.arange(start, stop, step): crea un arreglo de valores equidistantes.\n",
    "print(np.arange(5))\n",
    "print(np.arange(2,10))\n",
    "print(np.arange(2,10,2))"
   ]
  },
  {
   "cell_type": "code",
   "execution_count": 7,
   "id": "8ebd58e1-ff2c-4ce6-9349-68012c0b969c",
   "metadata": {},
   "outputs": [
    {
     "name": "stdout",
     "output_type": "stream",
     "text": [
      "Vector unidimensional:\n",
      " [0. 0. 0.]\n",
      "Vector bidimensional:\n",
      " [[0. 0. 0. 0.]\n",
      " [0. 0. 0. 0.]\n",
      " [0. 0. 0. 0.]]\n"
     ]
    }
   ],
   "source": [
    "print(\"Vector unidimensional:\\n\", np.zeros(3)) # np.zeros(size): crea un vector con size ceros.\n",
    "print(\"Vector bidimensional:\\n\", np.zeros((3,4))) # np.zeros((rows, cols)): crea una matriz de ceros."
   ]
  },
  {
   "cell_type": "code",
   "execution_count": 8,
   "id": "c4fad746-d6db-4619-82f8-63fb0586d1c2",
   "metadata": {},
   "outputs": [
    {
     "name": "stdout",
     "output_type": "stream",
     "text": [
      "Vector unidimensional\n",
      " [1. 1. 1.]\n",
      "Vector bidimensional:\n",
      " [[1. 1. 1. 1. 1.]\n",
      " [1. 1. 1. 1. 1.]]\n"
     ]
    }
   ],
   "source": [
    "print(\"Vector unidimensional\\n\", np.ones(3)) # np.ones(size): crea un vector con size unos.\n",
    "print(\"Vector bidimensional:\\n\", np.ones((2,5))) # np.ones((rows, cols)): crea una matriz de unos."
   ]
  },
  {
   "cell_type": "code",
   "execution_count": 9,
   "id": "8cd89da2-1b9a-4960-b8eb-41a7f02144b1",
   "metadata": {},
   "outputs": [
    {
     "data": {
      "text/plain": [
       "array([3.        , 3.31578947, 3.63157895, 3.94736842, 4.26315789,\n",
       "       4.57894737, 4.89473684, 5.21052632, 5.52631579, 5.84210526,\n",
       "       6.15789474, 6.47368421, 6.78947368, 7.10526316, 7.42105263,\n",
       "       7.73684211, 8.05263158, 8.36842105, 8.68421053, 9.        ])"
      ]
     },
     "execution_count": 9,
     "metadata": {},
     "output_type": "execute_result"
    }
   ],
   "source": [
    "# np.linspace(start, stop, num): crea un arreglo desde start hasta stop, con num elementos\n",
    "np.linspace(3,9,20)"
   ]
  },
  {
   "cell_type": "code",
   "execution_count": 10,
   "id": "bdca2c42-af58-4064-a115-50eed4f60ee5",
   "metadata": {},
   "outputs": [
    {
     "name": "stdout",
     "output_type": "stream",
     "text": [
      "[[1. 0. 0. 0. 0.]\n",
      " [0. 1. 0. 0. 0.]\n",
      " [0. 0. 1. 0. 0.]\n",
      " [0. 0. 0. 1. 0.]\n",
      " [0. 0. 0. 0. 1.]] \n",
      "\n",
      "[[0. 0. 1. 0. 0.]\n",
      " [0. 0. 0. 1. 0.]\n",
      " [0. 0. 0. 0. 1.]\n",
      " [0. 0. 0. 0. 0.]\n",
      " [0. 0. 0. 0. 0.]]\n"
     ]
    }
   ],
   "source": [
    "# np.eye(N): crea una matriz identidad de tamaño N x N (1 en la diagonal principal, 0 en el resto).\n",
    "print(np.eye(5), \"\\n\")\n",
    "print(np.eye(5, k=2))"
   ]
  },
  {
   "cell_type": "markdown",
   "id": "b17d41c6-6506-457a-b0bd-8b79f6ceb7c1",
   "metadata": {},
   "source": [
    "---\n",
    "### Numpy arrays - números aleatorios - rand y randn"
   ]
  },
  {
   "cell_type": "code",
   "execution_count": 12,
   "id": "4ef38f4c-305b-4007-9c25-ba471d0f7da1",
   "metadata": {},
   "outputs": [
    {
     "name": "stdout",
     "output_type": "stream",
     "text": [
      "Vector unidimensional:\n",
      " [0.14029871 0.28766428 0.79718663 0.8468237  0.33664795]\n",
      "Vector bidimensional:\n",
      " [[0.79936409 0.97457139 0.93867758]\n",
      " [0.09724918 0.39800469 0.24988747]]\n"
     ]
    }
   ],
   "source": [
    "# np.random.rand(N): crea un array de N valores aleatorios con una distribución uniforme entre 0 y 1\n",
    "print(\"Vector unidimensional:\\n\", np.random.rand(5))\n",
    "\n",
    "# np.random.rand((N,M)): crea una array de N filas y M columnas con valores aleatorios entre 0 y 1\n",
    "print(\"Vector bidimensional:\\n\", np.random.rand(2,3))"
   ]
  },
  {
   "cell_type": "code",
   "execution_count": 13,
   "id": "56efb7a4-a83c-4f04-ad04-472413270bf4",
   "metadata": {},
   "outputs": [
    {
     "name": "stdout",
     "output_type": "stream",
     "text": [
      "Vector unidimensional:\n",
      " [0.73315533 1.49415717 0.66843163 0.16896146]\n",
      "Vector bidimensional:\n",
      " [[-1.09496242  0.02493225 -0.43961353 -0.17304301  0.83554222]\n",
      " [-0.69343587 -1.13428378 -0.7664597   0.79572387 -0.34267459]\n",
      " [ 1.4005368   2.70217207 -0.65596375 -1.22993446 -0.12602424]\n",
      " [ 0.73086939 -1.75060993 -0.63922624 -0.76685321 -0.02736885]]\n"
     ]
    }
   ],
   "source": [
    "# np.random.randn(N): crea un array de N valores aleatorios con media 0 y desviación estándar 1\n",
    "print(\"Vector unidimensional:\\n\", np.random.randn(4))\n",
    "\n",
    "# np.random.randn(N,M): crea un array de N filas y M columnas con media 0 y desviación estándar 1\n",
    "print(\"Vector bidimensional:\\n\", np.random.randn(4,5))"
   ]
  },
  {
   "cell_type": "markdown",
   "id": "f90fb6de-4067-4093-8cf3-af1d47e082c5",
   "metadata": {},
   "source": [
    "---\n",
    "### Numpy arrays - números aleatorios enteros, randint"
   ]
  },
  {
   "cell_type": "code",
   "execution_count": 15,
   "id": "0408aadc-86df-473f-81a5-15046dc3ab81",
   "metadata": {},
   "outputs": [
    {
     "name": "stdout",
     "output_type": "stream",
     "text": [
      "10\n",
      "\n",
      " [12 13 12  2  9]\n",
      "\n",
      " [[13 19 15 11 15]\n",
      " [12  3 15  5 12]\n",
      " [ 1 15 13 14 16]\n",
      " [14  1  6  4 13]\n",
      " [ 2 15  1 12 14]]\n"
     ]
    }
   ],
   "source": [
    "print(np.random.randint(1,20)) # genera un número aleatorio entre 1 y 20\n",
    "print(\"\\n\", np.random.randint(1,20,5)) # generar 5 números aleatorios entre 1 y 20\n",
    "print(\"\\n\", np.random.randint(1,20,(5,5))) # 5 x 5 matriz de números aleatorios entre 1 y 20"
   ]
  },
  {
   "cell_type": "markdown",
   "id": "07f022a6-498c-44b9-b813-5234df30cd8b",
   "metadata": {},
   "source": [
    "---\n",
    "### Numpy arrays - reshape"
   ]
  },
  {
   "cell_type": "code",
   "execution_count": 17,
   "id": "33070e0d-8c3a-4f2c-8bf4-4d3dd3e3808e",
   "metadata": {},
   "outputs": [
    {
     "data": {
      "text/plain": [
       "array([82, 28, 94, 30, 31,  1, 95, 11, 37, 39, 65, 97, 49, 18, 13, 52, 71,\n",
       "        1,  1, 46, 85, 57, 51, 14,  3])"
      ]
     },
     "execution_count": 17,
     "metadata": {},
     "output_type": "execute_result"
    }
   ],
   "source": [
    "array = np.random.randint(1,100,25)\n",
    "array"
   ]
  },
  {
   "cell_type": "code",
   "execution_count": 18,
   "id": "27f9891c-7e4b-42e6-b0b4-eeb3ebc64f6a",
   "metadata": {},
   "outputs": [
    {
     "data": {
      "text/plain": [
       "array([[82, 28, 94, 30, 31],\n",
       "       [ 1, 95, 11, 37, 39],\n",
       "       [65, 97, 49, 18, 13],\n",
       "       [52, 71,  1,  1, 46],\n",
       "       [85, 57, 51, 14,  3]])"
      ]
     },
     "execution_count": 18,
     "metadata": {},
     "output_type": "execute_result"
    }
   ],
   "source": [
    "matriz = array.reshape(5,5) # el número de row x número de col debe ser igual a 25\n",
    "matriz"
   ]
  },
  {
   "cell_type": "markdown",
   "id": "869460ab-0cd2-41fa-b975-1360e40af0fc",
   "metadata": {},
   "source": [
    "---\n",
    "### Numpy arrays - max y min"
   ]
  },
  {
   "cell_type": "code",
   "execution_count": 20,
   "id": "6823241d-56de-4d8d-b213-1bc75c54c461",
   "metadata": {},
   "outputs": [
    {
     "data": {
      "text/plain": [
       "array([71, 80, 23, 99, 68, 92, 87, 86, 27, 94, 62, 36, 12,  6, 81, 68, 23,\n",
       "       81, 94, 77, 40, 63, 80, 55, 51, 55, 79, 57, 99,  9,  8, 80, 41, 76,\n",
       "       98, 97,  4,  1, 23, 57, 21, 99, 38, 94, 90, 49, 86, 58, 45, 65])"
      ]
     },
     "execution_count": 20,
     "metadata": {},
     "output_type": "execute_result"
    }
   ],
   "source": [
    "array = np.random.randint(1,100,50)\n",
    "array"
   ]
  },
  {
   "cell_type": "code",
   "execution_count": 21,
   "id": "3ab5bd89-cc36-4e64-a621-e6dfc6fb5f91",
   "metadata": {},
   "outputs": [
    {
     "data": {
      "text/plain": [
       "99"
      ]
     },
     "execution_count": 21,
     "metadata": {},
     "output_type": "execute_result"
    }
   ],
   "source": [
    "valor_maximo = array.max()\n",
    "valor_maximo"
   ]
  },
  {
   "cell_type": "code",
   "execution_count": 22,
   "id": "c8a754b3-0be1-410d-ab57-a111af733f45",
   "metadata": {},
   "outputs": [
    {
     "data": {
      "text/plain": [
       "3"
      ]
     },
     "execution_count": 22,
     "metadata": {},
     "output_type": "execute_result"
    }
   ],
   "source": [
    "posicion_valor_maximo = array.argmax()\n",
    "posicion_valor_maximo"
   ]
  },
  {
   "cell_type": "code",
   "execution_count": 23,
   "id": "2d968945-61bd-4d61-8798-5cdfdd67eb8a",
   "metadata": {},
   "outputs": [
    {
     "data": {
      "text/plain": [
       "1"
      ]
     },
     "execution_count": 23,
     "metadata": {},
     "output_type": "execute_result"
    }
   ],
   "source": [
    "valor_minimo = array.min()\n",
    "valor_minimo"
   ]
  },
  {
   "cell_type": "code",
   "execution_count": 24,
   "id": "ea99456f-e3d3-4b06-91fc-1f08357e05e0",
   "metadata": {},
   "outputs": [
    {
     "data": {
      "text/plain": [
       "37"
      ]
     },
     "execution_count": 24,
     "metadata": {},
     "output_type": "execute_result"
    }
   ],
   "source": [
    "posicion_valor_minimo = array.argmin()\n",
    "posicion_valor_minimo"
   ]
  },
  {
   "cell_type": "markdown",
   "id": "b6992df8-207c-4684-8e33-14c5f0e6d899",
   "metadata": {},
   "source": [
    "---\n",
    "### Numpy - Indexación en arrays"
   ]
  },
  {
   "cell_type": "code",
   "execution_count": 26,
   "id": "0f649d74-7c51-4732-8900-a7cb3935df7f",
   "metadata": {},
   "outputs": [
    {
     "data": {
      "text/plain": [
       "array([0, 1, 2, 3, 4, 5, 6, 7, 8, 9])"
      ]
     },
     "execution_count": 26,
     "metadata": {},
     "output_type": "execute_result"
    }
   ],
   "source": [
    "array = np.arange(0,10)\n",
    "array"
   ]
  },
  {
   "cell_type": "code",
   "execution_count": 27,
   "id": "732810c5-00b9-49a0-9128-79f707847142",
   "metadata": {},
   "outputs": [
    {
     "data": {
      "text/plain": [
       "0"
      ]
     },
     "execution_count": 27,
     "metadata": {},
     "output_type": "execute_result"
    }
   ],
   "source": [
    "array[0]"
   ]
  },
  {
   "cell_type": "code",
   "execution_count": 28,
   "id": "22c24bd1-d032-42bd-a805-f24fb3e31c78",
   "metadata": {},
   "outputs": [
    {
     "data": {
      "text/plain": [
       "9"
      ]
     },
     "execution_count": 28,
     "metadata": {},
     "output_type": "execute_result"
    }
   ],
   "source": [
    "array[-1]"
   ]
  },
  {
   "cell_type": "code",
   "execution_count": 29,
   "id": "9b7fa46b-44be-41ab-857d-7efe81c5cdf7",
   "metadata": {},
   "outputs": [
    {
     "data": {
      "text/plain": [
       "array([2, 3])"
      ]
     },
     "execution_count": 29,
     "metadata": {},
     "output_type": "execute_result"
    }
   ],
   "source": [
    "array[2:4]"
   ]
  },
  {
   "cell_type": "code",
   "execution_count": 30,
   "id": "372176a4-2e23-44e4-83e0-8dda905239dc",
   "metadata": {},
   "outputs": [
    {
     "data": {
      "text/plain": [
       "array([2, 3, 4, 5, 6, 7, 8, 9])"
      ]
     },
     "execution_count": 30,
     "metadata": {},
     "output_type": "execute_result"
    }
   ],
   "source": [
    "array[2:]"
   ]
  },
  {
   "cell_type": "code",
   "execution_count": 31,
   "id": "364b52ff-603b-4206-b325-5f3249d98be9",
   "metadata": {},
   "outputs": [
    {
     "data": {
      "text/plain": [
       "array([0, 2, 4, 6])"
      ]
     },
     "execution_count": 31,
     "metadata": {},
     "output_type": "execute_result"
    }
   ],
   "source": [
    "array[:8:2]"
   ]
  },
  {
   "cell_type": "code",
   "execution_count": 32,
   "id": "83ce419b-9e30-43d7-8b6c-6d378d4a3730",
   "metadata": {},
   "outputs": [
    {
     "data": {
      "text/plain": [
       "array([0, 1, 2, 3, 4, 5, 6, 7, 8, 9])"
      ]
     },
     "execution_count": 32,
     "metadata": {},
     "output_type": "execute_result"
    }
   ],
   "source": [
    "array2 = array.copy()\n",
    "array2"
   ]
  },
  {
   "cell_type": "code",
   "execution_count": 33,
   "id": "cd85f25c-fbf1-4a2e-9473-d68ce241de75",
   "metadata": {},
   "outputs": [
    {
     "data": {
      "text/plain": [
       "array([100,   1,   2,   3,   4,   5,   6,   7,   8,   9])"
      ]
     },
     "execution_count": 33,
     "metadata": {},
     "output_type": "execute_result"
    }
   ],
   "source": [
    "array2[0] = 100\n",
    "array2"
   ]
  },
  {
   "cell_type": "code",
   "execution_count": 34,
   "id": "da8934b9-a80e-43dc-a69e-54d5d6cd5c38",
   "metadata": {},
   "outputs": [
    {
     "data": {
      "text/plain": [
       "array([0, 1, 2, 3, 4, 5, 6, 7, 8, 9])"
      ]
     },
     "execution_count": 34,
     "metadata": {},
     "output_type": "execute_result"
    }
   ],
   "source": [
    "array"
   ]
  },
  {
   "cell_type": "markdown",
   "id": "2c06c2a3-c44b-4657-a592-2e5093f3c5e2",
   "metadata": {},
   "source": [
    "---\n",
    "### Numpy - Indexación en arrays de 2 o más dimensiones"
   ]
  },
  {
   "cell_type": "code",
   "execution_count": 36,
   "id": "f335a1e0-cd5a-49b1-952a-f9a967359228",
   "metadata": {},
   "outputs": [
    {
     "data": {
      "text/plain": [
       "array([[1, 2, 3],\n",
       "       [4, 5, 6],\n",
       "       [7, 8, 9]])"
      ]
     },
     "execution_count": 36,
     "metadata": {},
     "output_type": "execute_result"
    }
   ],
   "source": [
    "array = np.array([[1,2,3],[4,5,6],[7,8,9]])\n",
    "array"
   ]
  },
  {
   "cell_type": "code",
   "execution_count": 37,
   "id": "b8699a62-25cb-4712-bbbf-aec2f9611088",
   "metadata": {},
   "outputs": [
    {
     "data": {
      "text/plain": [
       "array([1, 2, 3])"
      ]
     },
     "execution_count": 37,
     "metadata": {},
     "output_type": "execute_result"
    }
   ],
   "source": [
    "array[0]"
   ]
  },
  {
   "cell_type": "code",
   "execution_count": 38,
   "id": "09eb6e52-e73f-4282-b2a2-b41873e00c92",
   "metadata": {},
   "outputs": [
    {
     "data": {
      "text/plain": [
       "array([[1, 2, 3],\n",
       "       [4, 5, 6]])"
      ]
     },
     "execution_count": 38,
     "metadata": {},
     "output_type": "execute_result"
    }
   ],
   "source": [
    "array2 = array[:2]\n",
    "array2"
   ]
  },
  {
   "cell_type": "code",
   "execution_count": 39,
   "id": "39b1d817-a787-4c46-8dc2-2e319f410494",
   "metadata": {},
   "outputs": [
    {
     "data": {
      "text/plain": [
       "1"
      ]
     },
     "execution_count": 39,
     "metadata": {},
     "output_type": "execute_result"
    }
   ],
   "source": [
    "array[0][0]"
   ]
  },
  {
   "cell_type": "code",
   "execution_count": 40,
   "id": "0a9de922-475c-49a8-8e2d-1ec5da6a84a6",
   "metadata": {},
   "outputs": [
    {
     "data": {
      "text/plain": [
       "5"
      ]
     },
     "execution_count": 40,
     "metadata": {},
     "output_type": "execute_result"
    }
   ],
   "source": [
    "array[1,1]"
   ]
  },
  {
   "cell_type": "code",
   "execution_count": 41,
   "id": "dec0e67f-141d-4ad2-9f19-42a4833bc06e",
   "metadata": {},
   "outputs": [
    {
     "data": {
      "text/plain": [
       "array([1, 4, 7])"
      ]
     },
     "execution_count": 41,
     "metadata": {},
     "output_type": "execute_result"
    }
   ],
   "source": [
    "array[:,0] # selecciona la columna 0 de la matriz"
   ]
  },
  {
   "cell_type": "code",
   "execution_count": 42,
   "id": "f4ad6fa7-4282-4d32-a5b6-0a8825c715ce",
   "metadata": {},
   "outputs": [
    {
     "data": {
      "text/plain": [
       "array([[1, 2],\n",
       "       [4, 5],\n",
       "       [7, 8]])"
      ]
     },
     "execution_count": 42,
     "metadata": {},
     "output_type": "execute_result"
    }
   ],
   "source": [
    "array[:,:2]"
   ]
  },
  {
   "cell_type": "markdown",
   "id": "2c0421a3-8a39-4eae-adb5-0bd344b16e95",
   "metadata": {},
   "source": [
    "---\n",
    "### Numpy - Seleccionar elementos de un array según una condición"
   ]
  },
  {
   "cell_type": "code",
   "execution_count": 44,
   "id": "a93d533d-6c3f-4478-bf0c-a7a9adc632d0",
   "metadata": {},
   "outputs": [
    {
     "data": {
      "text/plain": [
       "array([0, 1, 2, 3, 4, 5, 6, 7, 8, 9])"
      ]
     },
     "execution_count": 44,
     "metadata": {},
     "output_type": "execute_result"
    }
   ],
   "source": [
    "array = np.arange(0,10)\n",
    "array"
   ]
  },
  {
   "cell_type": "code",
   "execution_count": 45,
   "id": "8c64ffa7-efe6-468c-86b8-c8d7c1d67b1c",
   "metadata": {},
   "outputs": [
    {
     "data": {
      "text/plain": [
       "array([False, False, False, False, False, False,  True,  True,  True,\n",
       "        True])"
      ]
     },
     "execution_count": 45,
     "metadata": {},
     "output_type": "execute_result"
    }
   ],
   "source": [
    "condicion = array > 5\n",
    "condicion"
   ]
  },
  {
   "cell_type": "code",
   "execution_count": 46,
   "id": "c66d5aae-6fed-4de2-803f-97a88d2e9e5d",
   "metadata": {},
   "outputs": [
    {
     "data": {
      "text/plain": [
       "array([6, 7, 8, 9])"
      ]
     },
     "execution_count": 46,
     "metadata": {},
     "output_type": "execute_result"
    }
   ],
   "source": [
    "array[condicion]"
   ]
  },
  {
   "cell_type": "code",
   "execution_count": 47,
   "id": "8a71d81d-f12f-4d5f-ae6e-261caea5437e",
   "metadata": {},
   "outputs": [
    {
     "data": {
      "text/plain": [
       "array([0, 1])"
      ]
     },
     "execution_count": 47,
     "metadata": {},
     "output_type": "execute_result"
    }
   ],
   "source": [
    "array[array < 2]"
   ]
  },
  {
   "cell_type": "code",
   "execution_count": 48,
   "id": "e078e739-129f-42bf-8fe5-36a163c5e88f",
   "metadata": {},
   "outputs": [
    {
     "data": {
      "text/plain": [
       "array([0, 2, 4, 6, 8])"
      ]
     },
     "execution_count": 48,
     "metadata": {},
     "output_type": "execute_result"
    }
   ],
   "source": [
    "array[array % 2 == 0]"
   ]
  },
  {
   "cell_type": "markdown",
   "id": "986679ae-a3c6-49e0-8757-0d6bb2273256",
   "metadata": {},
   "source": [
    "---\n",
    "### Numpy - Operaciones sobre los arrays"
   ]
  },
  {
   "cell_type": "code",
   "execution_count": 100,
   "id": "312e993c-2aba-4ac8-b065-7c6e43139c85",
   "metadata": {},
   "outputs": [
    {
     "data": {
      "text/plain": [
       "array([0, 1, 2, 3, 4, 5, 6, 7, 8, 9])"
      ]
     },
     "execution_count": 100,
     "metadata": {},
     "output_type": "execute_result"
    }
   ],
   "source": [
    "array = np.arange(0,10)\n",
    "array"
   ]
  },
  {
   "cell_type": "code",
   "execution_count": 102,
   "id": "e842ed23-22e5-4a40-bf76-c6bb4774df60",
   "metadata": {},
   "outputs": [
    {
     "data": {
      "text/plain": [
       "array([ 0,  2,  4,  6,  8, 10, 12, 14, 16, 18])"
      ]
     },
     "execution_count": 102,
     "metadata": {},
     "output_type": "execute_result"
    }
   ],
   "source": [
    "array + array"
   ]
  },
  {
   "cell_type": "code",
   "execution_count": 104,
   "id": "29ea6d5a-86ce-46f0-91a6-5d5515464e3f",
   "metadata": {},
   "outputs": [
    {
     "data": {
      "text/plain": [
       "array([0, 0, 0, 0, 0, 0, 0, 0, 0, 0])"
      ]
     },
     "execution_count": 104,
     "metadata": {},
     "output_type": "execute_result"
    }
   ],
   "source": [
    "array - array"
   ]
  },
  {
   "cell_type": "code",
   "execution_count": 106,
   "id": "c3f9851b-5d2f-47ff-837a-a61aa4332cc7",
   "metadata": {},
   "outputs": [
    {
     "data": {
      "text/plain": [
       "array([  0, 100, 200, 300, 400, 500, 600, 700, 800, 900])"
      ]
     },
     "execution_count": 106,
     "metadata": {},
     "output_type": "execute_result"
    }
   ],
   "source": [
    "array * 100"
   ]
  },
  {
   "cell_type": "code",
   "execution_count": 112,
   "id": "015138cd-12b8-4832-b47a-3c81193bd6cf",
   "metadata": {},
   "outputs": [
    {
     "data": {
      "text/plain": [
       "array([ 5,  6,  7,  8,  9, 10, 11, 12, 13, 14])"
      ]
     },
     "execution_count": 112,
     "metadata": {},
     "output_type": "execute_result"
    }
   ],
   "source": [
    "array2 = np.arange(5,15)\n",
    "array2"
   ]
  },
  {
   "cell_type": "code",
   "execution_count": 114,
   "id": "ca6892e5-ea70-4b2e-8c14-5145a32bc442",
   "metadata": {},
   "outputs": [
    {
     "data": {
      "text/plain": [
       "array([5, 5, 5, 5, 5, 5, 5, 5, 5, 5])"
      ]
     },
     "execution_count": 114,
     "metadata": {},
     "output_type": "execute_result"
    }
   ],
   "source": [
    "array2 - array"
   ]
  },
  {
   "cell_type": "code",
   "execution_count": 116,
   "id": "7da047ec-6659-4e22-aa9e-d7c22e182a4f",
   "metadata": {},
   "outputs": [
    {
     "data": {
      "text/plain": [
       "array([  0,   6,  14,  24,  36,  50,  66,  84, 104, 126])"
      ]
     },
     "execution_count": 116,
     "metadata": {},
     "output_type": "execute_result"
    }
   ],
   "source": [
    "array2 * array"
   ]
  },
  {
   "cell_type": "code",
   "execution_count": 120,
   "id": "0b80b8d9-e018-423d-84c5-82a52b09843c",
   "metadata": {},
   "outputs": [
    {
     "data": {
      "text/plain": [
       "array([2.23606798, 2.44948974, 2.64575131, 2.82842712, 3.        ,\n",
       "       3.16227766, 3.31662479, 3.46410162, 3.60555128, 3.74165739])"
      ]
     },
     "execution_count": 120,
     "metadata": {},
     "output_type": "execute_result"
    }
   ],
   "source": [
    "np.sqrt(array2) # raiz cuadrada"
   ]
  }
 ],
 "metadata": {
  "kernelspec": {
   "display_name": "Python 3 (ipykernel)",
   "language": "python",
   "name": "python3"
  },
  "language_info": {
   "codemirror_mode": {
    "name": "ipython",
    "version": 3
   },
   "file_extension": ".py",
   "mimetype": "text/x-python",
   "name": "python",
   "nbconvert_exporter": "python",
   "pygments_lexer": "ipython3",
   "version": "3.12.7"
  }
 },
 "nbformat": 4,
 "nbformat_minor": 5
}
