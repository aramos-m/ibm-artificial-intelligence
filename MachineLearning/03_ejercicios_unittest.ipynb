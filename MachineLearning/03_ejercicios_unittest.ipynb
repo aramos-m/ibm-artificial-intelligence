{
 "cells": [
  {
   "cell_type": "markdown",
   "id": "f702024f-3cb5-4970-a56c-1519bb3916de",
   "metadata": {},
   "source": [
    "**Ejercicio 1: Calcular promedio**\n",
    "\n",
    "Desarrolla una función llamada calcular_promedio que tome como entrada un DataFrame de pandas que contiene datos numéricos y calcule el promedio de cada columna. La función debe devolver un nuevo DataFrame que contenga los promedios de cada columna.\n",
    "\n",
    "```python\t\n",
    "def calcular_promedio(dataframe):\n",
    "\n",
    "\n",
    "# Ejemplo de uso\n",
    "data = {\n",
    "    'A': [1, 2, 3, 4],\n",
    "    'B': [5, 6, 7, 8],\n",
    "    'C': [9, 10, 11, 12]\n",
    "}\n",
    " \n",
    "df = pd.DataFrame(data)\n",
    "resultado = calcular_promedio(df)\n",
    "print(resultado)\n",
    "\n",
    "\n",
    "Resultado\n",
    "```\n",
    "\n",
    "```\n",
    "A     2.5\n",
    "B     6.5\n",
    "C    10.5\n",
    "dtype: float64\n",
    "```"
   ]
  },
  {
   "cell_type": "code",
   "execution_count": 2,
   "id": "7ba8babc-29c6-4f22-8365-58f80b34b9fa",
   "metadata": {},
   "outputs": [],
   "source": [
    "import pandas as pd"
   ]
  },
  {
   "cell_type": "code",
   "execution_count": 3,
   "id": "4ccb8c81-d86f-44c5-8b48-291324976b19",
   "metadata": {},
   "outputs": [
    {
     "name": "stdout",
     "output_type": "stream",
     "text": [
      "A     2.5\n",
      "B     6.5\n",
      "C    10.5\n",
      "dtype: float64\n"
     ]
    }
   ],
   "source": [
    "# Mi solución\n",
    "\n",
    "def calcular_promedio(dataframe):\n",
    "    return dataframe.mean()\n",
    "\n",
    "# Ejemplo de uso\n",
    "data = {\n",
    "    'A': [1, 2, 3, 4],\n",
    "    'B': [5, 6, 7, 8],\n",
    "    'C': [9, 10, 11, 12]\n",
    "}\n",
    "\n",
    "df = pd.DataFrame(data)\n",
    "resultado = calcular_promedio(df)\n",
    "print(resultado)"
   ]
  },
  {
   "cell_type": "code",
   "execution_count": 4,
   "id": "6a96f891-b601-4367-acfd-6882a3d22ecc",
   "metadata": {},
   "outputs": [
    {
     "name": "stdout",
     "output_type": "stream",
     "text": [
      "A     2.5\n",
      "B     6.5\n",
      "C    10.5\n",
      "dtype: float64\n"
     ]
    }
   ],
   "source": [
    "# Reto propio: calcular el promedio sin utilizar mean\n",
    "\n",
    "def calcular_promedio(dataframe):\n",
    "    promedios = []\n",
    "    for columna in dataframe.columns:\n",
    "        suma = 0\n",
    "        contador = 0\n",
    "        for valor in dataframe[columna]:\n",
    "            suma += valor\n",
    "            contador += 1\n",
    "        promedios.append(suma / contador)\n",
    "    return pd.Series(data=promedios, index=dataframe.columns)\n",
    "\n",
    "# Ejemplo de uso\n",
    "data = {\n",
    "    'A': [1, 2, 3, 4],\n",
    "    'B': [5, 6, 7, 8],\n",
    "    'C': [9, 10, 11, 12]\n",
    "}\n",
    "\n",
    "df = pd.DataFrame(data)\n",
    "resultado = calcular_promedio(df)\n",
    "print(resultado)"
   ]
  },
  {
   "cell_type": "code",
   "execution_count": 45,
   "id": "87ec3efb-e446-4b7c-bde7-44225fc75660",
   "metadata": {},
   "outputs": [
    {
     "name": "stderr",
     "output_type": "stream",
     "text": [
      "test_dataframe_vacio (__main__.TestCalcularPromedio.test_dataframe_vacio)\n",
      "Test para verificar que el promedio de un DataFrame vacío es una Serie vacía. ... ok\n",
      "test_promedio_columnas (__main__.TestCalcularPromedio.test_promedio_columnas)\n",
      "Test para verificar el cálculo del promedio de cada columna. ... ok\n",
      "test_cualificaciones_altas (__main__.TestSeleccionarDatos.test_cualificaciones_altas)\n",
      "Test para seleccionar estudiantes con calificaciones mayores o iguales a 90. ... ok\n",
      "test_edad_mayor_de_18 (__main__.TestSeleccionarDatos.test_edad_mayor_de_18)\n",
      "Test para seleccionar estudiantes con edad mayor de 18 años. ... ok\n",
      "\n",
      "----------------------------------------------------------------------\n",
      "Ran 4 tests in 0.052s\n",
      "\n",
      "OK\n"
     ]
    },
    {
     "data": {
      "text/plain": [
       "<unittest.main.TestProgram at 0x7566795b4f20>"
      ]
     },
     "execution_count": 45,
     "metadata": {},
     "output_type": "execute_result"
    }
   ],
   "source": [
    "import unittest\n",
    "\n",
    "# Clase de prueba unitaria\n",
    "class TestCalcularPromedio(unittest.TestCase):\n",
    "    \n",
    "    def test_dataframe_vacio(self):\n",
    "        \"\"\"Test para verificar que el promedio de un DataFrame vacío es una Serie vacía.\"\"\"\n",
    "        df_vacio = pd.DataFrame()\n",
    "        resultado = calcular_promedio(df_vacio)\n",
    "        self.assertTrue(resultado.empty, \"El resultado debería ser una Serie vacía para un DataFrame vacío.\")\n",
    "    \n",
    "    def test_promedio_columnas(self):\n",
    "        \"\"\"Test para verificar el cálculo del promedio de cada columna.\"\"\"\n",
    "        data = {\n",
    "            'A': [1, 2, 3, 4],\n",
    "            'B': [5, 6, 7, 8],\n",
    "            'C': [9, 10, 11, 12]\n",
    "        }\n",
    "        df = pd.DataFrame(data)\n",
    "        resultado = calcular_promedio(df)\n",
    "        esperado = pd.Series({'A': 2.5, 'B': 6.5, 'C': 10.5})\n",
    "        pd.testing.assert_series_equal(resultado, esperado, check_dtype=False)\n",
    "\n",
    "# Ejecutar las pruebas\n",
    "unittest.main(argv=[''], verbosity=2, exit=False)  # permite ejecutar las pruebas en un entorno de Jupyter Notebook sin que el kernel se detenga."
   ]
  },
  {
   "cell_type": "markdown",
   "id": "cac011c4-350a-4bf2-8baa-3911198c9d4f",
   "metadata": {},
   "source": [
    "---\n",
    "**Ejercicio 2: Seleccionar datos**\n",
    "\n",
    "Desarrolla una función llamada seleccionar_datos que tome como entrada un DataFrame de pandas que contiene información sobre estudiantes (por ejemplo, nombre, edad, calificaciones, etc.) y seleccione un subconjunto de datos basado en ciertos criterios.\n",
    "\n",
    "Los criterios se pueden basar en el nombre, edad o calificaciones\n",
    "\n",
    "```python\t\n",
    "def seleccionar_datos(dataframe, criterio):\n",
    "\n",
    "\n",
    "# Ejemplo de uso\n",
    "data = {\n",
    "    'nombre': ['Alice', 'Bob', 'Charlie', 'David'],\n",
    "    'edad': [20, 22, 18, 25],\n",
    "    'calificaciones': [90, 88, 75, 95]\n",
    "}\n",
    " \n",
    "df = pd.DataFrame(data)\n",
    "criterio = 'edad > 18'\n",
    "resultado = seleccionar_datos(df, criterio)\n",
    "print(resultado)\n",
    "```\n",
    "\n",
    "```\n",
    "  nombre  edad  calificaciones\n",
    "0  Alice    20              90\n",
    "1    Bob    22              88\n",
    "3  David    25              95\n",
    "```\t"
   ]
  },
  {
   "cell_type": "code",
   "execution_count": 56,
   "id": "07b314bf-bea5-4de6-a678-dac46b05c2b0",
   "metadata": {},
   "outputs": [
    {
     "name": "stdout",
     "output_type": "stream",
     "text": [
      "  nombre  edad  calificaciones\n",
      "0  Alice    20              90\n",
      "1    Bob    22              88\n",
      "3  David    25              95\n"
     ]
    }
   ],
   "source": [
    "# Mi solución:\n",
    "\n",
    "def seleccionar_datos(dataframe, criterio):\n",
    "    return dataframe.query(criterio)\n",
    "\n",
    "# Ejemplo de uso\n",
    "data = {\n",
    "    'nombre': ['Alice', 'Bob', 'Charlie', 'David'],\n",
    "    'edad': [20, 22, 18, 25],\n",
    "    'calificaciones': [90, 88, 75, 95]\n",
    "}\n",
    " \n",
    "df = pd.DataFrame(data)\n",
    "criterio = 'edad > 18'\n",
    "resultado = seleccionar_datos(df, criterio)\n",
    "print(resultado)"
   ]
  },
  {
   "cell_type": "code",
   "execution_count": 74,
   "id": "a714d560-3da7-4c67-9d7e-d31a6b85f4a3",
   "metadata": {},
   "outputs": [
    {
     "ename": "ValueError",
     "evalue": "No se encuentran coincidencias en la columna 'edad'.",
     "output_type": "error",
     "traceback": [
      "\u001b[0;31m---------------------------------------------------------------------------\u001b[0m",
      "\u001b[0;31mValueError\u001b[0m                                Traceback (most recent call last)",
      "Cell \u001b[0;32mIn[74], line 38\u001b[0m\n\u001b[1;32m     36\u001b[0m df \u001b[38;5;241m=\u001b[39m pd\u001b[38;5;241m.\u001b[39mDataFrame(data)\n\u001b[1;32m     37\u001b[0m criterio \u001b[38;5;241m=\u001b[39m \u001b[38;5;124m'\u001b[39m\u001b[38;5;124medad > 25\u001b[39m\u001b[38;5;124m'\u001b[39m\n\u001b[0;32m---> 38\u001b[0m resultado \u001b[38;5;241m=\u001b[39m seleccionar_datos(df, criterio)\n\u001b[1;32m     39\u001b[0m \u001b[38;5;28mprint\u001b[39m(resultado)\n",
      "Cell \u001b[0;32mIn[74], line 26\u001b[0m, in \u001b[0;36mseleccionar_datos\u001b[0;34m(dataframe, criterio)\u001b[0m\n\u001b[1;32m     23\u001b[0m     \u001b[38;5;28;01mraise\u001b[39;00m \u001b[38;5;167;01mValueError\u001b[39;00m(\u001b[38;5;124mf\u001b[39m\u001b[38;5;124m\"\u001b[39m\u001b[38;5;124mCondición no válida para \u001b[39m\u001b[38;5;124m'\u001b[39m\u001b[38;5;132;01m{\u001b[39;00mobjeto\u001b[38;5;132;01m}\u001b[39;00m\u001b[38;5;124m'\u001b[39m\u001b[38;5;124m con valor \u001b[39m\u001b[38;5;124m'\u001b[39m\u001b[38;5;132;01m{\u001b[39;00mvalor\u001b[38;5;132;01m}\u001b[39;00m\u001b[38;5;124m'\u001b[39m\u001b[38;5;124m.\u001b[39m\u001b[38;5;124m\"\u001b[39m)\n\u001b[1;32m     25\u001b[0m \u001b[38;5;28;01mif\u001b[39;00m resultado\u001b[38;5;241m.\u001b[39mempty:\n\u001b[0;32m---> 26\u001b[0m     \u001b[38;5;28;01mraise\u001b[39;00m \u001b[38;5;167;01mValueError\u001b[39;00m(\u001b[38;5;124mf\u001b[39m\u001b[38;5;124m\"\u001b[39m\u001b[38;5;124mNo se encuentran coincidencias en la columna \u001b[39m\u001b[38;5;124m'\u001b[39m\u001b[38;5;132;01m{\u001b[39;00mobjeto\u001b[38;5;132;01m}\u001b[39;00m\u001b[38;5;124m'\u001b[39m\u001b[38;5;124m.\u001b[39m\u001b[38;5;124m\"\u001b[39m)\n\u001b[1;32m     27\u001b[0m \u001b[38;5;28;01mreturn\u001b[39;00m resultado\n",
      "\u001b[0;31mValueError\u001b[0m: No se encuentran coincidencias en la columna 'edad'."
     ]
    }
   ],
   "source": [
    "# Reto propio: filtrar el DataFrame por columnas sin utilizar query\n",
    "\n",
    "def seleccionar_datos(dataframe, criterio):\n",
    "    tokens = criterio.split()\n",
    "    objeto, operador, valor = tokens[0], tokens[1], tokens[2]\n",
    "    \n",
    "    valor = int(valor) if valor.isdigit() else valor\n",
    "    \n",
    "    operadores = {\">\": lambda x: x > valor, \">=\": lambda x: x >= valor, \"<\": lambda x: x < valor, \"<=\": lambda x: x <= valor, \\\n",
    "                  \"==\": lambda x: x == valor,\"!=\": lambda x: x != valor}\n",
    "    \n",
    "    if operador not in operadores:\n",
    "        raise ValueError(f\"Operador no soportado: {operador}\")\n",
    "    \n",
    "    if objeto not in dataframe.columns:\n",
    "        raise ValueError(f\"El objeto '{objeto}' no es una columna válida en el DataFrame.\")\n",
    "    \n",
    "    if objeto == \"nombre\" and type(valor) == str:\n",
    "        resultado = dataframe[operadores[operador](dataframe[\"nombre\"])]\n",
    "    elif objeto in [\"edad\", \"calificaciones\"] and type(valor) == int:\n",
    "        resultado = dataframe[operadores[operador](dataframe[objeto])]\n",
    "    else:\n",
    "        raise ValueError(f\"Condición no válida para '{objeto}' con valor '{valor}'.\")\n",
    "    \n",
    "    if resultado.empty:\n",
    "        raise ValueError(f\"No se encuentran coincidencias en la columna '{objeto}'.\")\n",
    "    return resultado\n",
    "\n",
    "# Ejemplo de uso\n",
    "data = {\n",
    "    'nombre': ['Alice', 'Bob', 'Charlie', 'David'],\n",
    "    'edad': [20, 22, 18, 25],\n",
    "    'calificaciones': [90, 88, 75, 95]\n",
    "}\n",
    " \n",
    "df = pd.DataFrame(data)\n",
    "criterio = 'edad > 25'\n",
    "resultado = seleccionar_datos(df, criterio)\n",
    "print(resultado)"
   ]
  },
  {
   "cell_type": "code",
   "execution_count": 76,
   "id": "1dd337c6-b9c2-4067-b05d-cd974b02b71f",
   "metadata": {},
   "outputs": [
    {
     "name": "stderr",
     "output_type": "stream",
     "text": [
      "test_dataframe_vacio (__main__.TestCalcularPromedio.test_dataframe_vacio)\n",
      "Test para verificar que el promedio de un DataFrame vacío es una Serie vacía. ... ok\n",
      "test_promedio_columnas (__main__.TestCalcularPromedio.test_promedio_columnas)\n",
      "Test para verificar el cálculo del promedio de cada columna. ... ok\n",
      "test_cualificaciones_altas (__main__.TestSeleccionarDatos.test_cualificaciones_altas)\n",
      "Test para seleccionar estudiantes con calificaciones mayores o iguales a 90. ... ok\n",
      "test_edad_mayor_de_18 (__main__.TestSeleccionarDatos.test_edad_mayor_de_18)\n",
      "Test para seleccionar estudiantes con edad mayor de 18 años. ... ok\n",
      "\n",
      "----------------------------------------------------------------------\n",
      "Ran 4 tests in 0.036s\n",
      "\n",
      "OK\n"
     ]
    },
    {
     "data": {
      "text/plain": [
       "<unittest.main.TestProgram at 0x756632e9e120>"
      ]
     },
     "execution_count": 76,
     "metadata": {},
     "output_type": "execute_result"
    }
   ],
   "source": [
    "# Clase de prueba unitaria\n",
    "class TestSeleccionarDatos(unittest.TestCase):\n",
    "    \n",
    "    def setUp(self):\n",
    "        \"\"\"Configurar el DataFrame de prueba.\"\"\"\n",
    "        self.data = {\n",
    "            'nombre': ['Alice', 'Bob', 'Charlie', 'David'],\n",
    "            'edad': [20, 22, 18, 25],\n",
    "            'calificaciones': [90, 88, 75, 95]\n",
    "        }\n",
    "        self.df = pd.DataFrame(self.data)\n",
    "    \n",
    "    def test_cualificaciones_altas(self):\n",
    "        \"\"\"Test para seleccionar estudiantes con calificaciones mayores o iguales a 90.\"\"\"\n",
    "        criterio = 'calificaciones >= 90'\n",
    "        resultado = seleccionar_datos(self.df, criterio)\n",
    "        esperado = pd.DataFrame({\n",
    "            'nombre': ['Alice', 'David'],\n",
    "            'edad': [20, 25],\n",
    "            'calificaciones': [90, 95]\n",
    "        }).reset_index(drop=True)\n",
    "        pd.testing.assert_frame_equal(resultado.reset_index(drop=True), esperado)\n",
    "\n",
    "    def test_edad_mayor_de_18(self):\n",
    "        \"\"\"Test para seleccionar estudiantes con edad mayor de 18 años.\"\"\"\n",
    "        criterio = 'edad > 18'\n",
    "        resultado = seleccionar_datos(self.df, criterio)\n",
    "        esperado = pd.DataFrame({\n",
    "            'nombre': ['Alice', 'Bob', 'David'],\n",
    "            'edad': [20, 22, 25],\n",
    "            'calificaciones': [90, 88, 95]\n",
    "        }).reset_index(drop=True)\n",
    "        pd.testing.assert_frame_equal(resultado.reset_index(drop=True), esperado)\n",
    "\n",
    "# Ejecutar las pruebas\n",
    "unittest.main(argv=[''], verbosity=2, exit=False)"
   ]
  },
  {
   "cell_type": "code",
   "execution_count": null,
   "id": "56abb062-548d-404d-8c54-5929c530d95e",
   "metadata": {},
   "outputs": [],
   "source": []
  },
  {
   "cell_type": "code",
   "execution_count": null,
   "id": "0f2a3cbe-0fc1-4dc0-a8ad-4c149ff385ca",
   "metadata": {},
   "outputs": [],
   "source": []
  },
  {
   "cell_type": "code",
   "execution_count": null,
   "id": "6b732947-286a-425a-9e41-33385e83f2ee",
   "metadata": {},
   "outputs": [],
   "source": []
  },
  {
   "cell_type": "code",
   "execution_count": null,
   "id": "211a8e85-5364-4dca-b963-e1cca0f3a3b4",
   "metadata": {},
   "outputs": [],
   "source": []
  }
 ],
 "metadata": {
  "kernelspec": {
   "display_name": "Python 3 (ipykernel)",
   "language": "python",
   "name": "python3"
  },
  "language_info": {
   "codemirror_mode": {
    "name": "ipython",
    "version": 3
   },
   "file_extension": ".py",
   "mimetype": "text/x-python",
   "name": "python",
   "nbconvert_exporter": "python",
   "pygments_lexer": "ipython3",
   "version": "3.12.7"
  }
 },
 "nbformat": 4,
 "nbformat_minor": 5
}
