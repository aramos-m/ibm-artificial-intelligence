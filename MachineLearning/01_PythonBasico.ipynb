{
 "cells": [
  {
   "cell_type": "code",
   "execution_count": null,
   "id": "aae5ce00-0374-4d83-8df0-328bdf289786",
   "metadata": {},
   "outputs": [],
   "source": [
    "# Formato de cadenas: str.format()"
   ]
  },
  {
   "cell_type": "code",
   "execution_count": 9,
   "id": "1bee47dc-7690-4420-85f6-827b9ff5607d",
   "metadata": {},
   "outputs": [
    {
     "name": "stdout",
     "output_type": "stream",
     "text": [
      "Hola me llamo Ana y tengo 26 años\n"
     ]
    }
   ],
   "source": [
    "nombre = \"Ana\"\n",
    "edad = 26\n",
    "print(\"Hola me llamo {} y tengo {} años\".format(nombre,edad))"
   ]
  },
  {
   "cell_type": "code",
   "execution_count": 14,
   "id": "2681153d-346f-48a1-98d7-bef7c1f9583a",
   "metadata": {},
   "outputs": [
    {
     "name": "stdout",
     "output_type": "stream",
     "text": [
      "Hola de llamo Ana y tengo 26 años.\n"
     ]
    }
   ],
   "source": [
    "print(\"Hola de llamo {0} y tengo {1} años.\".format(nombre, edad))"
   ]
  },
  {
   "cell_type": "code",
   "execution_count": 18,
   "id": "13dd9dc6-db77-4c53-98e6-edbf20f4918e",
   "metadata": {},
   "outputs": [
    {
     "name": "stdout",
     "output_type": "stream",
     "text": [
      "Hola de llamo Ana y tengo 26 años.\n"
     ]
    }
   ],
   "source": [
    "print(\"Hola de llamo {nombre} y tengo {edad} años.\".format(nombre=\"Ana\", edad=26))"
   ]
  },
  {
   "cell_type": "markdown",
   "id": "9c277648-4b3b-4813-a1a4-4f057b1848d7",
   "metadata": {},
   "source": [
    "---"
   ]
  },
  {
   "cell_type": "code",
   "execution_count": 43,
   "id": "2403dc36-2f56-4a6e-814d-dcddc4929b7a",
   "metadata": {},
   "outputs": [],
   "source": [
    "# Conjuntos"
   ]
  },
  {
   "cell_type": "code",
   "execution_count": 35,
   "id": "43eed782-aed5-4116-a209-cc925de59d95",
   "metadata": {},
   "outputs": [
    {
     "data": {
      "text/plain": [
       "{1, 2, 3, 4}"
      ]
     },
     "execution_count": 35,
     "metadata": {},
     "output_type": "execute_result"
    }
   ],
   "source": [
    "conjunto = {1,2,3,4}\n",
    "conjunto"
   ]
  },
  {
   "cell_type": "code",
   "execution_count": 3,
   "id": "db51b429-dfd1-4859-9c4c-317bd41324bb",
   "metadata": {},
   "outputs": [
    {
     "data": {
      "text/plain": [
       "{0, True}"
      ]
     },
     "execution_count": 3,
     "metadata": {},
     "output_type": "execute_result"
    }
   ],
   "source": [
    "conjunto2 = {True,1,0,False}  # True/1 y False/0 se considera el mismo valor\n",
    "conjunto2"
   ]
  },
  {
   "cell_type": "code",
   "execution_count": 41,
   "id": "3fd2bff9-977f-4082-9100-4b8cdfe3ea68",
   "metadata": {},
   "outputs": [
    {
     "data": {
      "text/plain": [
       "{1, 2, 3, 4, 5, 6}"
      ]
     },
     "execution_count": 41,
     "metadata": {},
     "output_type": "execute_result"
    }
   ],
   "source": [
    "lista = [1,2,2,3,1,2,4,5,4,6,6,7,1]\n",
    "conjunto = set(lista) # un set es una colección de datos desordenados, inmutables y no indexada. \n",
    "conjunto"
   ]
  },
  {
   "cell_type": "markdown",
   "id": "93c97d0d-f2f3-4544-b9bd-2b80530c6d3e",
   "metadata": {},
   "source": [
    "---"
   ]
  },
  {
   "cell_type": "code",
   "execution_count": 46,
   "id": "06681e5b-1af9-4baf-9754-ff82d67ba26e",
   "metadata": {},
   "outputs": [],
   "source": [
    "# Compresiones de lista - Crear una lista a partir de otra "
   ]
  },
  {
   "cell_type": "code",
   "execution_count": 62,
   "id": "183b7b28-d44f-4534-ad05-3884e9ccc87a",
   "metadata": {},
   "outputs": [
    {
     "data": {
      "text/plain": [
       "[2, 4, 6, 8, 10]"
      ]
     },
     "execution_count": 62,
     "metadata": {},
     "output_type": "execute_result"
    }
   ],
   "source": [
    "lista1 = [1,2,3,4,5]\n",
    "lista2 = []\n",
    "for numero in lista1:\n",
    "    lista2.append(numero * 2)  \n",
    "lista2"
   ]
  },
  {
   "cell_type": "code",
   "execution_count": 64,
   "id": "03996446-10be-4799-bd06-947e64e42ae9",
   "metadata": {},
   "outputs": [
    {
     "data": {
      "text/plain": [
       "[2, 4, 6, 8, 10]"
      ]
     },
     "execution_count": 64,
     "metadata": {},
     "output_type": "execute_result"
    }
   ],
   "source": [
    "lista3 = [numero * 2 for numero in lista1]\n",
    "lista3"
   ]
  },
  {
   "cell_type": "markdown",
   "id": "40cd7cbf-a78e-4451-a211-6f0a6ce301cb",
   "metadata": {},
   "source": [
    "---"
   ]
  },
  {
   "cell_type": "code",
   "execution_count": 67,
   "id": "ea80bdf1-4c1e-42fa-8773-048f51dce94f",
   "metadata": {},
   "outputs": [],
   "source": [
    "# Funciones"
   ]
  },
  {
   "cell_type": "code",
   "execution_count": 76,
   "id": "1fb59e61-2f55-46bc-8c07-dd82f37fa09d",
   "metadata": {},
   "outputs": [],
   "source": [
    "def funcion():\n",
    "    print(\"Hola, buenos días\")"
   ]
  },
  {
   "cell_type": "code",
   "execution_count": 78,
   "id": "0b867624-079b-405d-b577-7d2379b38819",
   "metadata": {},
   "outputs": [
    {
     "name": "stdout",
     "output_type": "stream",
     "text": [
      "Hola, buenos días\n"
     ]
    }
   ],
   "source": [
    "funcion()"
   ]
  },
  {
   "cell_type": "code",
   "execution_count": 86,
   "id": "be00c1d4-a178-41c1-898e-58eacc78b5ee",
   "metadata": {},
   "outputs": [],
   "source": [
    "def saludar(nombre):\n",
    "    print(\"Hola, buenos días \" + nombre)"
   ]
  },
  {
   "cell_type": "code",
   "execution_count": 88,
   "id": "51589955-60cc-4880-b8ff-03d9630c4665",
   "metadata": {},
   "outputs": [
    {
     "name": "stdout",
     "output_type": "stream",
     "text": [
      "Hola, buenos días Ana\n"
     ]
    }
   ],
   "source": [
    "saludar(\"Ana\")"
   ]
  },
  {
   "cell_type": "code",
   "execution_count": 98,
   "id": "8f04b89e-f1fd-463a-ba19-ef31f0c74ef8",
   "metadata": {},
   "outputs": [],
   "source": [
    "def sumar(numero1, numero2):\n",
    "    \"\"\"\n",
    "    Esta funcion suma los dos numeros pasados como parametros\n",
    "    Ejemplo: sumar(2,3)\n",
    "    \"\"\"\n",
    "    return numero1 + numero2"
   ]
  },
  {
   "cell_type": "code",
   "execution_count": 100,
   "id": "f7159f46-dfaa-4862-afe5-3e29c23cb953",
   "metadata": {},
   "outputs": [
    {
     "data": {
      "text/plain": [
       "5"
      ]
     },
     "execution_count": 100,
     "metadata": {},
     "output_type": "execute_result"
    }
   ],
   "source": [
    "sumar(2,3) # shift + tab: muestra información sobre la función"
   ]
  },
  {
   "cell_type": "markdown",
   "id": "8c874f93-c172-4809-859a-cfe331fd1938",
   "metadata": {},
   "source": [
    "---"
   ]
  },
  {
   "cell_type": "code",
   "execution_count": 116,
   "id": "928d7a52-a980-4d3e-b761-da56fe39448d",
   "metadata": {},
   "outputs": [],
   "source": [
    "# Función map() - Aplicar una función sobre todos los elementos de un objeto"
   ]
  },
  {
   "cell_type": "code",
   "execution_count": 128,
   "id": "24fa88f8-7ce3-4bcd-87cd-72aa7a5e1c2c",
   "metadata": {},
   "outputs": [],
   "source": [
    "def multiplicar(numero):\n",
    "    return numero * 3"
   ]
  },
  {
   "cell_type": "code",
   "execution_count": 130,
   "id": "020568a8-12cb-4544-a416-5ee6a66b6a93",
   "metadata": {},
   "outputs": [
    {
     "data": {
      "text/plain": [
       "15"
      ]
     },
     "execution_count": 130,
     "metadata": {},
     "output_type": "execute_result"
    }
   ],
   "source": [
    "multiplicar(5)"
   ]
  },
  {
   "cell_type": "code",
   "execution_count": 132,
   "id": "181bd12b-456e-476f-a413-736204caeade",
   "metadata": {},
   "outputs": [
    {
     "data": {
      "text/plain": [
       "[3, 6, 9, 12, 15]"
      ]
     },
     "execution_count": 132,
     "metadata": {},
     "output_type": "execute_result"
    }
   ],
   "source": [
    "lista = [1,2,3,4,5]\n",
    "lista2 = list(map(multiplicar, lista))\n",
    "lista2"
   ]
  },
  {
   "cell_type": "markdown",
   "id": "d80d7ae7-ef53-4594-a016-6d2eaa07b450",
   "metadata": {},
   "source": [
    "---"
   ]
  },
  {
   "cell_type": "code",
   "execution_count": 157,
   "id": "55927b02-39f1-493c-b401-5b55076f83d0",
   "metadata": {},
   "outputs": [],
   "source": [
    "# Funciones lambda o anónimas\n",
    "# sintaxis: lambda argumentos: expresión\n",
    "# pueden tener cualquier número de argumentos, pero solo una expresión."
   ]
  },
  {
   "cell_type": "code",
   "execution_count": 159,
   "id": "98f9c0aa-6ae4-4750-b172-d448268d7ab4",
   "metadata": {},
   "outputs": [],
   "source": [
    "def multiplicar(numero):\n",
    "    return numero * 2"
   ]
  },
  {
   "cell_type": "code",
   "execution_count": 149,
   "id": "ef50c2de-e0d5-4cc9-a5f0-b7d2af980e7e",
   "metadata": {},
   "outputs": [
    {
     "data": {
      "text/plain": [
       "10"
      ]
     },
     "execution_count": 149,
     "metadata": {},
     "output_type": "execute_result"
    }
   ],
   "source": [
    "multiplicar(5)"
   ]
  },
  {
   "cell_type": "code",
   "execution_count": 153,
   "id": "15bc3b74-2e07-433f-a12e-989d5cff29c6",
   "metadata": {},
   "outputs": [
    {
     "data": {
      "text/plain": [
       "[2, 4, 6, 8]"
      ]
     },
     "execution_count": 153,
     "metadata": {},
     "output_type": "execute_result"
    }
   ],
   "source": [
    "lista1 = [1,2,3,4]\n",
    "lista2 = list(map(multiplicar,lista1))\n",
    "lista2"
   ]
  },
  {
   "cell_type": "code",
   "execution_count": 155,
   "id": "9b634833-7d36-4330-a270-4ed6eadf3ba6",
   "metadata": {},
   "outputs": [
    {
     "data": {
      "text/plain": [
       "[2, 4, 6, 8]"
      ]
     },
     "execution_count": 155,
     "metadata": {},
     "output_type": "execute_result"
    }
   ],
   "source": [
    "lista1 = [1,2,3,4]\n",
    "lista3 = list(map(lambda numero: numero * 2, lista1))\n",
    "lista3"
   ]
  },
  {
   "cell_type": "markdown",
   "id": "ac76dc63-82cb-4298-873b-1aaea4935bc7",
   "metadata": {},
   "source": [
    "---"
   ]
  },
  {
   "cell_type": "code",
   "execution_count": null,
   "id": "75fbbe6f-4d3b-444b-8fca-3ccd22532ea7",
   "metadata": {},
   "outputs": [],
   "source": [
    "# Filtros - Seleccionar o filtrar elementos de un objeto"
   ]
  },
  {
   "cell_type": "code",
   "execution_count": 10,
   "id": "763019d5-6d6d-4cbb-b521-ea7b855066d8",
   "metadata": {},
   "outputs": [],
   "source": [
    "def pares(numero):\n",
    "    if (numero % 2 == 0):\n",
    "        return numero"
   ]
  },
  {
   "cell_type": "code",
   "execution_count": 12,
   "id": "1cf9a6eb-a301-408b-9da9-63f81f0b80a5",
   "metadata": {},
   "outputs": [],
   "source": [
    "pares(5)"
   ]
  },
  {
   "cell_type": "code",
   "execution_count": 14,
   "id": "7fb93178-e43a-4c73-ab0b-2dfb444429dc",
   "metadata": {},
   "outputs": [
    {
     "data": {
      "text/plain": [
       "4"
      ]
     },
     "execution_count": 14,
     "metadata": {},
     "output_type": "execute_result"
    }
   ],
   "source": [
    "pares(4)"
   ]
  },
  {
   "cell_type": "code",
   "execution_count": 21,
   "id": "e4999e63-4382-4d9a-86d9-a4ba550f4757",
   "metadata": {},
   "outputs": [
    {
     "data": {
      "text/plain": [
       "[2, 4, 6]"
      ]
     },
     "execution_count": 21,
     "metadata": {},
     "output_type": "execute_result"
    }
   ],
   "source": [
    "lista1 = [1,2,3,4,5,6,7]\n",
    "lista_pares = list(filter(pares,lista1))\n",
    "lista_pares"
   ]
  },
  {
   "cell_type": "code",
   "execution_count": 25,
   "id": "4493ec38-60d4-4a6e-9562-da3bb02a1d14",
   "metadata": {},
   "outputs": [
    {
     "data": {
      "text/plain": [
       "[2, 4, 6]"
      ]
     },
     "execution_count": 25,
     "metadata": {},
     "output_type": "execute_result"
    }
   ],
   "source": [
    "lista1 = [1,2,3,4,5,6,7]\n",
    "lista_pares = list(filter(lambda numero: numero%2 == 0,lista1))\n",
    "lista_pares"
   ]
  }
 ],
 "metadata": {
  "kernelspec": {
   "display_name": "Python 3 (ipykernel)",
   "language": "python",
   "name": "python3"
  },
  "language_info": {
   "codemirror_mode": {
    "name": "ipython",
    "version": 3
   },
   "file_extension": ".py",
   "mimetype": "text/x-python",
   "name": "python",
   "nbconvert_exporter": "python",
   "pygments_lexer": "ipython3",
   "version": "3.12.7"
  }
 },
 "nbformat": 4,
 "nbformat_minor": 5
}
