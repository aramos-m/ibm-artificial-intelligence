{
 "cells": [
  {
   "cell_type": "markdown",
   "id": "11d367c7-3824-4b26-8975-de8108263dde",
   "metadata": {},
   "source": [
    "## EJERCICIO: K Vecinos Más Cercanos para Clasificación\n",
    "En este ejercicio debes desarrollar una función que aplique el algoritmo de los k vecinos más cercanos (KNN) para un problema de clasificación.\n",
    "\n",
    "Supongamos que tienes un conjunto de datos que contiene información sobre diferentes tipos de flores, y deseas predecir el tipo de flor en función de las características de pétalos y sépalos.\n",
    "\n",
    "Utilizaremos el conjunto de datos Iris, que es un conjunto de datos de clasificación ampliamente utilizado en el aprendizaje automático.\n",
    "\n",
    "```python\t\n",
    "def knn_clasificacion(datos, k=3):\n",
    "\n",
    "# Ejemplo de uso con el conjunto de datos Iris\n",
    "data = pd.read_csv('iris.csv')  # Reemplaza 'iris.csv' con tu archivo de datos\n",
    "modelo_knn = knn_clasificacion(data, k=3)\n",
    " \n",
    "# Estimaciones de clasificación para nuevas muestras\n",
    "nuevas_muestras = pd.DataFrame({\n",
    "    'LargoSepalo': [5.1, 6.0, 4.4],\n",
    "    'AnchoSepalo': [3.5, 2.9, 3.2],\n",
    "    'LargoPetalo': [1.4, 4.5, 1.3],\n",
    "    'AnchoPetalo': [0.2, 1.5, 0.2]\n",
    "})\n",
    " \n",
    "estimaciones_clasificacion = modelo_knn.predict(nuevas_muestras)\n",
    "print(\"Estimaciones de Clasificación:\")\n",
    "print(estimaciones_clasificacion)\n",
    "```\t\n",
    "```\n",
    "Resultados:\n",
    "\n",
    "Estimaciones de Clasificación:\n",
    "['setosa' 'versicolor' 'setosa']\n",
    "```\t"
   ]
  },
  {
   "cell_type": "code",
   "execution_count": 40,
   "id": "61bc6860-e62a-4fdb-8656-c5c4a831fda3",
   "metadata": {},
   "outputs": [
    {
     "name": "stdout",
     "output_type": "stream",
     "text": [
      "Estimaciones de Clasificación:\n",
      "['setosa', 'versicolor', 'setosa']\n"
     ]
    }
   ],
   "source": [
    "from sklearn.datasets import load_iris\n",
    "import pandas as pd\n",
    "from sklearn.neighbors import KNeighborsClassifier\n",
    "from sklearn.model_selection import train_test_split\n",
    "from sklearn.preprocessing import LabelEncoder\n",
    "\n",
    "def knn_clasificacion(k=3):\n",
    "    # Cargar el conjunto de datos Iris\n",
    "    iris = load_iris()\n",
    "    X = pd.DataFrame(iris.data, columns=['LargoSepalo', 'AnchoSepalo', 'LargoPetalo', 'AnchoPetalo'])\n",
    "    y = pd.Series(iris.target)\n",
    "\n",
    "    # Crear el modelo de K-vecinos más cercanos\n",
    "    modelo = KNeighborsClassifier(n_neighbors=k)\n",
    "    modelo.fit(X, y)\n",
    "    \n",
    "    return modelo, iris.target_names\n",
    "\n",
    "# Ejemplo de uso de la función\n",
    "modelo_knn, target_names = knn_clasificacion(k=3)\n",
    "\n",
    "# Nuevas muestras\n",
    "nuevas_muestras = pd.DataFrame({\n",
    "    'LargoSepalo': [5.1, 6.0, 4.4],\n",
    "    'AnchoSepalo': [3.5, 2.9, 3.2],\n",
    "    'LargoPetalo': [1.4, 4.5, 1.3],\n",
    "    'AnchoPetalo': [0.2, 1.5, 0.2]\n",
    "})\n",
    "\n",
    "# Predecir y decodificar las clases\n",
    "predicciones = modelo_knn.predict(nuevas_muestras)\n",
    "estimaciones_clasificacion = [target_names[i] for i in predicciones]\n",
    "\n",
    "print(\"Estimaciones de Clasificación:\")\n",
    "print(estimaciones_clasificacion)"
   ]
  }
 ],
 "metadata": {
  "kernelspec": {
   "display_name": "Python 3 (ipykernel)",
   "language": "python",
   "name": "python3"
  },
  "language_info": {
   "codemirror_mode": {
    "name": "ipython",
    "version": 3
   },
   "file_extension": ".py",
   "mimetype": "text/x-python",
   "name": "python",
   "nbconvert_exporter": "python",
   "pygments_lexer": "ipython3",
   "version": "3.12.7"
  }
 },
 "nbformat": 4,
 "nbformat_minor": 5
}
