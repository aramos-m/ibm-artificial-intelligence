{
 "cells": [
  {
   "cell_type": "markdown",
   "id": "160c5f37-f611-4035-83d0-c067099e1b36",
   "metadata": {},
   "source": [
    "### EJERCICIO: Clasificación Binaria\n",
    "Supongamos que tienes un conjunto de datos que contiene información sobre pacientes y deseas predecir si un paciente tiene una enfermedad (1) o no (0) en función de algunas características médicas, como la edad y los niveles de colesterol.\n",
    "\n",
    "Tu tarea es desarrollar una función llamada regresion_logistica que tome estos datos como entrada y ajuste un modelo de regresión logística para la clasificación binaria.\n",
    "\n",
    "```python\n",
    "def regresion_logistica(datos):\n",
    "\n",
    "# Ejemplo de uso con datos de pacientes\n",
    "data = {\n",
    "    'Edad': [50, 35, 65, 28, 60],\n",
    "    'Colesterol': [180, 150, 210, 130, 190],\n",
    "    'Enfermedad': [1, 0, 1, 0, 1]\n",
    "}\n",
    " \n",
    "df = pd.DataFrame(data)\n",
    "modelo_regresion_logistica = regresion_logistica(df)\n",
    " \n",
    "# Estimaciones de clasificación binaria para nuevos datos\n",
    "nuevos_datos = pd.DataFrame({'Edad': [45, 55], 'Colesterol': [170, 200]})\n",
    "estimaciones_clasificacion = modelo_regresion_logistica.predict(nuevos_datos)\n",
    "print(\"Estimaciones de Clasificación:\")\n",
    "print(estimaciones_clasificacion)\n",
    "```\n",
    "\n",
    "```\n",
    "Resultados:\n",
    "\n",
    "Estimaciones de Clasificación:\n",
    "[1 1]\n",
    "```"
   ]
  },
  {
   "cell_type": "code",
   "execution_count": 22,
   "id": "454cd476-99b0-4b0a-bf6a-86dd039c116f",
   "metadata": {},
   "outputs": [
    {
     "name": "stdout",
     "output_type": "stream",
     "text": [
      "Estimaciones de Clasificación:\n",
      "[1 1]\n"
     ]
    }
   ],
   "source": [
    "import pandas as pd\n",
    "from sklearn.linear_model import LogisticRegression\n",
    "\n",
    "def regresion_logistica(datos):\n",
    "    # Separar las variables independientes (Edad, Colesterol) y la variable dependiente (Enfermedad)\n",
    "    X = datos[['Edad', 'Colesterol']]\n",
    "    y = datos['Enfermedad']\n",
    "    \n",
    "    # Crear y entrenar el modelo de regresión logística\n",
    "    modelo = LogisticRegression()\n",
    "    modelo.fit(X, y)\n",
    "    \n",
    "    return modelo\n",
    "\n",
    "# Ejemplo de uso con datos de pacientes\n",
    "data = {\n",
    "    'Edad': [50, 35, 65, 28, 60],\n",
    "    'Colesterol': [180, 150, 210, 130, 190],\n",
    "    'Enfermedad': [1, 0, 1, 0, 1]\n",
    "}\n",
    "\n",
    "df = pd.DataFrame(data)\n",
    "modelo_regresion_logistica = regresion_logistica(df)\n",
    "\n",
    "# Estimaciones de clasificación binaria para nuevos datos\n",
    "nuevos_datos = pd.DataFrame({'Edad': [45, 55], 'Colesterol': [170, 200]})\n",
    "estimaciones_clasificacion = modelo_regresion_logistica.predict(nuevos_datos)\n",
    "\n",
    "print(\"Estimaciones de Clasificación:\")\n",
    "print(estimaciones_clasificacion)"
   ]
  },
  {
   "cell_type": "code",
   "execution_count": 32,
   "id": "c453f626-69a0-4d4e-a3bb-62d727110ed4",
   "metadata": {},
   "outputs": [
    {
     "name": "stdout",
     "output_type": "stream",
     "text": [
      "\n",
      "Classification Report:\n",
      "              precision    recall  f1-score   support\n",
      "\n",
      "           0       1.00      1.00      1.00         1\n",
      "           1       1.00      1.00      1.00         1\n",
      "\n",
      "    accuracy                           1.00         2\n",
      "   macro avg       1.00      1.00      1.00         2\n",
      "weighted avg       1.00      1.00      1.00         2\n",
      "\n",
      "\n",
      "Confusion Matrix:\n",
      "[[1 0]\n",
      " [0 1]]\n"
     ]
    }
   ],
   "source": [
    "# EXTRA: \n",
    "# Dividir los datos en entrenamiento y prueba\n",
    "X = df[['Edad', 'Colesterol']]\n",
    "y = df['Enfermedad']\n",
    "\n",
    "from sklearn.model_selection import train_test_split\n",
    "X_train, X_test, y_train, y_test = train_test_split(X, y, test_size=0.3, random_state=42)\n",
    "\n",
    "modelo_regresion_logistica.fit(X_train, y_train)\n",
    "\n",
    "# Predicciones en los datos de prueba\n",
    "y_pred = modelo_regresion_logistica.predict(X_test)\n",
    "\n",
    "# Mostrar el Classification Report\n",
    "from sklearn.metrics import classification_report\n",
    "print(\"\\nClassification Report:\")\n",
    "print(classification_report(y_test, y_pred))\n",
    "\n",
    "# Mostrar la Confusion Matrix\n",
    "from sklearn.metrics import confusion_matrix\n",
    "print(\"\\nConfusion Matrix:\")\n",
    "print(confusion_matrix(y_test, y_pred))"
   ]
  }
 ],
 "metadata": {
  "kernelspec": {
   "display_name": "Python 3 (ipykernel)",
   "language": "python",
   "name": "python3"
  },
  "language_info": {
   "codemirror_mode": {
    "name": "ipython",
    "version": 3
   },
   "file_extension": ".py",
   "mimetype": "text/x-python",
   "name": "python",
   "nbconvert_exporter": "python",
   "pygments_lexer": "ipython3",
   "version": "3.12.7"
  }
 },
 "nbformat": 4,
 "nbformat_minor": 5
}
