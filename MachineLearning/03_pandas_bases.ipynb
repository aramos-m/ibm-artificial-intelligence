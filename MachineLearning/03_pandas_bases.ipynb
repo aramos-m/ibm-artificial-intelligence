{
 "cells": [
  {
   "cell_type": "markdown",
   "id": "278dffa7-0849-4823-9057-e048015a65bb",
   "metadata": {},
   "source": [
    "## Sección 5: Módulo Pandas para análisis de datos"
   ]
  },
  {
   "cell_type": "code",
   "execution_count": 1,
   "id": "76cccbb8-eb44-4dc6-a171-37d3d20ff431",
   "metadata": {},
   "outputs": [],
   "source": [
    "import numpy as np\n",
    "import pandas as pd"
   ]
  },
  {
   "cell_type": "markdown",
   "id": "7899327d-b0a0-483f-9e5e-6b5ed61e070a",
   "metadata": {
    "jp-MarkdownHeadingCollapsed": true
   },
   "source": [
    "---\n",
    "### Series"
   ]
  },
  {
   "cell_type": "code",
   "execution_count": 3,
   "id": "2fee9e96-9607-4cce-8e1f-758073ef5ecc",
   "metadata": {},
   "outputs": [
    {
     "data": {
      "text/plain": [
       "a    1\n",
       "b    2\n",
       "c    3\n",
       "dtype: int64"
      ]
     },
     "execution_count": 3,
     "metadata": {},
     "output_type": "execute_result"
    }
   ],
   "source": [
    "etiquetas = ['a','b','c']\n",
    "datos = [1,2,3]\n",
    "\n",
    "pd.Series(data = datos, index=etiquetas)"
   ]
  },
  {
   "cell_type": "code",
   "execution_count": 4,
   "id": "ee80e8c7-d449-4be1-a0f6-c6f5fbc69c89",
   "metadata": {},
   "outputs": [
    {
     "data": {
      "text/plain": [
       "0    2\n",
       "1    3\n",
       "2    4\n",
       "dtype: int64"
      ]
     },
     "execution_count": 4,
     "metadata": {},
     "output_type": "execute_result"
    }
   ],
   "source": [
    "array = np.arange(2,5)\n",
    "pd.Series(array)"
   ]
  },
  {
   "cell_type": "code",
   "execution_count": 5,
   "id": "0c14464e-a236-44a6-97df-b7487c506b5c",
   "metadata": {},
   "outputs": [],
   "source": [
    "array = np.arange(2,5)\n",
    "etiquetas = ['venta1','venta2','venta3']\n",
    "serie = pd.Series(array,etiquetas)"
   ]
  },
  {
   "cell_type": "code",
   "execution_count": 6,
   "id": "9f1d7f70-d2d5-4c21-b26a-3433dc6a9363",
   "metadata": {},
   "outputs": [
    {
     "data": {
      "text/plain": [
       "3"
      ]
     },
     "execution_count": 6,
     "metadata": {},
     "output_type": "execute_result"
    }
   ],
   "source": [
    "serie['venta2']"
   ]
  },
  {
   "cell_type": "code",
   "execution_count": 7,
   "id": "89da3015-c4f6-4292-834f-000bd0d1ce74",
   "metadata": {},
   "outputs": [
    {
     "data": {
      "text/plain": [
       "0    informatica\n",
       "1            300\n",
       "2      impresora\n",
       "3            400\n",
       "dtype: object"
      ]
     },
     "execution_count": 7,
     "metadata": {},
     "output_type": "execute_result"
    }
   ],
   "source": [
    "datos2 = ['informatica',300,'impresora',400]\n",
    "pd.Series(datos2)"
   ]
  },
  {
   "cell_type": "code",
   "execution_count": 8,
   "id": "c30b070a-8fe3-46ff-a36b-db1766020546",
   "metadata": {},
   "outputs": [
    {
     "data": {
      "text/plain": [
       "ventas1    5.0\n",
       "ventas2    7.0\n",
       "ventas3    9.0\n",
       "ventas4    NaN\n",
       "dtype: float64"
      ]
     },
     "execution_count": 8,
     "metadata": {},
     "output_type": "execute_result"
    }
   ],
   "source": [
    "serie1 = pd.Series([1,2,3],['ventas1','ventas2','ventas3'])\n",
    "serie2 = pd.Series([4,5,6,7],['ventas1','ventas2','ventas3','ventas4'])\n",
    "\n",
    "serie_suma = serie1 + serie2 # El valor que no ha podido sumar (ventas4) es valor nulo (NaN)\n",
    "\n",
    "serie_suma"
   ]
  },
  {
   "cell_type": "markdown",
   "id": "1568ddb5-273b-4908-94e0-2a7d1e99eb5e",
   "metadata": {
    "jp-MarkdownHeadingCollapsed": true
   },
   "source": [
    "---\n",
    "### DataFrames"
   ]
  },
  {
   "cell_type": "code",
   "execution_count": 47,
   "id": "f9625611-de95-4b62-abf8-ba2d21849a01",
   "metadata": {},
   "outputs": [
    {
     "data": {
      "text/html": [
       "<div>\n",
       "<style scoped>\n",
       "    .dataframe tbody tr th:only-of-type {\n",
       "        vertical-align: middle;\n",
       "    }\n",
       "\n",
       "    .dataframe tbody tr th {\n",
       "        vertical-align: top;\n",
       "    }\n",
       "\n",
       "    .dataframe thead th {\n",
       "        text-align: right;\n",
       "    }\n",
       "</style>\n",
       "<table border=\"1\" class=\"dataframe\">\n",
       "  <thead>\n",
       "    <tr style=\"text-align: right;\">\n",
       "      <th></th>\n",
       "      <th>zonaA</th>\n",
       "      <th>zonaB</th>\n",
       "      <th>zonaC</th>\n",
       "    </tr>\n",
       "  </thead>\n",
       "  <tbody>\n",
       "    <tr>\n",
       "      <th>ventas1</th>\n",
       "      <td>123</td>\n",
       "      <td>421</td>\n",
       "      <td>256</td>\n",
       "    </tr>\n",
       "    <tr>\n",
       "      <th>ventas2</th>\n",
       "      <td>234</td>\n",
       "      <td>541</td>\n",
       "      <td>257</td>\n",
       "    </tr>\n",
       "    <tr>\n",
       "      <th>ventas3</th>\n",
       "      <td>120</td>\n",
       "      <td>451</td>\n",
       "      <td>258</td>\n",
       "    </tr>\n",
       "  </tbody>\n",
       "</table>\n",
       "</div>"
      ],
      "text/plain": [
       "         zonaA  zonaB  zonaC\n",
       "ventas1    123    421    256\n",
       "ventas2    234    541    257\n",
       "ventas3    120    451    258"
      ]
     },
     "execution_count": 47,
     "metadata": {},
     "output_type": "execute_result"
    }
   ],
   "source": [
    "filas = ['ventas1','ventas2','ventas3']\n",
    "columnas = ['zonaA','zonaB','zonaC']\n",
    "datos = [[123,421,256],[234,541,257],[120,451,258]]\n",
    "\n",
    "dataframe = pd.DataFrame(datos,filas,columnas) # crear dataframe\n",
    "dataframe"
   ]
  },
  {
   "cell_type": "code",
   "execution_count": 49,
   "id": "c26f8abc-7dda-4537-86b2-5784e7202c8d",
   "metadata": {},
   "outputs": [
    {
     "data": {
      "text/plain": [
       "zonaA    123\n",
       "zonaB    421\n",
       "zonaC    256\n",
       "Name: ventas1, dtype: int64"
      ]
     },
     "execution_count": 49,
     "metadata": {},
     "output_type": "execute_result"
    }
   ],
   "source": [
    "dataframe.loc['ventas1'] # selecciona la fila 'ventas1'"
   ]
  },
  {
   "cell_type": "code",
   "execution_count": 51,
   "id": "50f5d6b7-934f-4e21-ae60-3054db7453d9",
   "metadata": {},
   "outputs": [
    {
     "data": {
      "text/html": [
       "<div>\n",
       "<style scoped>\n",
       "    .dataframe tbody tr th:only-of-type {\n",
       "        vertical-align: middle;\n",
       "    }\n",
       "\n",
       "    .dataframe tbody tr th {\n",
       "        vertical-align: top;\n",
       "    }\n",
       "\n",
       "    .dataframe thead th {\n",
       "        text-align: right;\n",
       "    }\n",
       "</style>\n",
       "<table border=\"1\" class=\"dataframe\">\n",
       "  <thead>\n",
       "    <tr style=\"text-align: right;\">\n",
       "      <th></th>\n",
       "      <th>zonaA</th>\n",
       "      <th>zonaB</th>\n",
       "      <th>zonaC</th>\n",
       "    </tr>\n",
       "  </thead>\n",
       "  <tbody>\n",
       "    <tr>\n",
       "      <th>ventas1</th>\n",
       "      <td>123</td>\n",
       "      <td>421</td>\n",
       "      <td>256</td>\n",
       "    </tr>\n",
       "    <tr>\n",
       "      <th>ventas2</th>\n",
       "      <td>234</td>\n",
       "      <td>541</td>\n",
       "      <td>257</td>\n",
       "    </tr>\n",
       "  </tbody>\n",
       "</table>\n",
       "</div>"
      ],
      "text/plain": [
       "         zonaA  zonaB  zonaC\n",
       "ventas1    123    421    256\n",
       "ventas2    234    541    257"
      ]
     },
     "execution_count": 51,
     "metadata": {},
     "output_type": "execute_result"
    }
   ],
   "source": [
    "dataframe.loc[['ventas1','ventas2']] # selecciona las filas 'ventas1' y 'ventas2'"
   ]
  },
  {
   "cell_type": "code",
   "execution_count": 53,
   "id": "2200c9aa-4bef-427b-a52c-39c9e7d778a7",
   "metadata": {},
   "outputs": [
    {
     "data": {
      "text/plain": [
       "ventas1    123\n",
       "ventas2    234\n",
       "ventas3    120\n",
       "Name: zonaA, dtype: int64"
      ]
     },
     "execution_count": 53,
     "metadata": {},
     "output_type": "execute_result"
    }
   ],
   "source": [
    "dataframe['zonaA'] # selecciona la columna 'zonaA'"
   ]
  },
  {
   "cell_type": "code",
   "execution_count": 55,
   "id": "f126e3e9-794e-4d36-8150-94f4bbd6746b",
   "metadata": {},
   "outputs": [
    {
     "data": {
      "text/html": [
       "<div>\n",
       "<style scoped>\n",
       "    .dataframe tbody tr th:only-of-type {\n",
       "        vertical-align: middle;\n",
       "    }\n",
       "\n",
       "    .dataframe tbody tr th {\n",
       "        vertical-align: top;\n",
       "    }\n",
       "\n",
       "    .dataframe thead th {\n",
       "        text-align: right;\n",
       "    }\n",
       "</style>\n",
       "<table border=\"1\" class=\"dataframe\">\n",
       "  <thead>\n",
       "    <tr style=\"text-align: right;\">\n",
       "      <th></th>\n",
       "      <th>zonaA</th>\n",
       "      <th>zonaC</th>\n",
       "    </tr>\n",
       "  </thead>\n",
       "  <tbody>\n",
       "    <tr>\n",
       "      <th>ventas1</th>\n",
       "      <td>123</td>\n",
       "      <td>256</td>\n",
       "    </tr>\n",
       "    <tr>\n",
       "      <th>ventas2</th>\n",
       "      <td>234</td>\n",
       "      <td>257</td>\n",
       "    </tr>\n",
       "    <tr>\n",
       "      <th>ventas3</th>\n",
       "      <td>120</td>\n",
       "      <td>258</td>\n",
       "    </tr>\n",
       "  </tbody>\n",
       "</table>\n",
       "</div>"
      ],
      "text/plain": [
       "         zonaA  zonaC\n",
       "ventas1    123    256\n",
       "ventas2    234    257\n",
       "ventas3    120    258"
      ]
     },
     "execution_count": 55,
     "metadata": {},
     "output_type": "execute_result"
    }
   ],
   "source": [
    "dataframe[['zonaA','zonaC']] # selecciona las columnas 'zonaA' y 'zonaB'"
   ]
  },
  {
   "cell_type": "code",
   "execution_count": 57,
   "id": "1557c9dd-43a4-4c49-b5d0-92074ac7abbe",
   "metadata": {},
   "outputs": [
    {
     "data": {
      "text/plain": [
       "123"
      ]
     },
     "execution_count": 57,
     "metadata": {},
     "output_type": "execute_result"
    }
   ],
   "source": [
    "dataframe.loc['ventas1']['zonaA'] # selecciona una fila y una columna"
   ]
  },
  {
   "cell_type": "code",
   "execution_count": 59,
   "id": "91fd34e0-15d3-400e-a04c-153c744825e5",
   "metadata": {},
   "outputs": [
    {
     "data": {
      "text/html": [
       "<div>\n",
       "<style scoped>\n",
       "    .dataframe tbody tr th:only-of-type {\n",
       "        vertical-align: middle;\n",
       "    }\n",
       "\n",
       "    .dataframe tbody tr th {\n",
       "        vertical-align: top;\n",
       "    }\n",
       "\n",
       "    .dataframe thead th {\n",
       "        text-align: right;\n",
       "    }\n",
       "</style>\n",
       "<table border=\"1\" class=\"dataframe\">\n",
       "  <thead>\n",
       "    <tr style=\"text-align: right;\">\n",
       "      <th></th>\n",
       "      <th>zonaA</th>\n",
       "      <th>zonaB</th>\n",
       "      <th>zonaC</th>\n",
       "      <th>Todaslaszonas</th>\n",
       "    </tr>\n",
       "  </thead>\n",
       "  <tbody>\n",
       "    <tr>\n",
       "      <th>ventas1</th>\n",
       "      <td>123</td>\n",
       "      <td>421</td>\n",
       "      <td>256</td>\n",
       "      <td>800</td>\n",
       "    </tr>\n",
       "    <tr>\n",
       "      <th>ventas2</th>\n",
       "      <td>234</td>\n",
       "      <td>541</td>\n",
       "      <td>257</td>\n",
       "      <td>1032</td>\n",
       "    </tr>\n",
       "    <tr>\n",
       "      <th>ventas3</th>\n",
       "      <td>120</td>\n",
       "      <td>451</td>\n",
       "      <td>258</td>\n",
       "      <td>829</td>\n",
       "    </tr>\n",
       "  </tbody>\n",
       "</table>\n",
       "</div>"
      ],
      "text/plain": [
       "         zonaA  zonaB  zonaC  Todaslaszonas\n",
       "ventas1    123    421    256            800\n",
       "ventas2    234    541    257           1032\n",
       "ventas3    120    451    258            829"
      ]
     },
     "execution_count": 59,
     "metadata": {},
     "output_type": "execute_result"
    }
   ],
   "source": [
    "dataframe['Todaslaszonas'] = dataframe['zonaA'] + dataframe['zonaB']+ dataframe['zonaC'] # suma de los valores de las filas\n",
    "dataframe"
   ]
  },
  {
   "cell_type": "code",
   "execution_count": 61,
   "id": "0b70a748-2d9f-4da8-a5d3-5b489ada555d",
   "metadata": {},
   "outputs": [
    {
     "data": {
      "text/html": [
       "<div>\n",
       "<style scoped>\n",
       "    .dataframe tbody tr th:only-of-type {\n",
       "        vertical-align: middle;\n",
       "    }\n",
       "\n",
       "    .dataframe tbody tr th {\n",
       "        vertical-align: top;\n",
       "    }\n",
       "\n",
       "    .dataframe thead th {\n",
       "        text-align: right;\n",
       "    }\n",
       "</style>\n",
       "<table border=\"1\" class=\"dataframe\">\n",
       "  <thead>\n",
       "    <tr style=\"text-align: right;\">\n",
       "      <th></th>\n",
       "      <th>zonaA</th>\n",
       "      <th>zonaB</th>\n",
       "      <th>zonaC</th>\n",
       "    </tr>\n",
       "  </thead>\n",
       "  <tbody>\n",
       "    <tr>\n",
       "      <th>ventas1</th>\n",
       "      <td>123</td>\n",
       "      <td>421</td>\n",
       "      <td>256</td>\n",
       "    </tr>\n",
       "    <tr>\n",
       "      <th>ventas2</th>\n",
       "      <td>234</td>\n",
       "      <td>541</td>\n",
       "      <td>257</td>\n",
       "    </tr>\n",
       "    <tr>\n",
       "      <th>ventas3</th>\n",
       "      <td>120</td>\n",
       "      <td>451</td>\n",
       "      <td>258</td>\n",
       "    </tr>\n",
       "  </tbody>\n",
       "</table>\n",
       "</div>"
      ],
      "text/plain": [
       "         zonaA  zonaB  zonaC\n",
       "ventas1    123    421    256\n",
       "ventas2    234    541    257\n",
       "ventas3    120    451    258"
      ]
     },
     "execution_count": 61,
     "metadata": {},
     "output_type": "execute_result"
    }
   ],
   "source": [
    "dataframe.drop('Todaslaszonas',axis=1) # eliminar una columna de la visualización"
   ]
  },
  {
   "cell_type": "code",
   "execution_count": 63,
   "id": "171c5de2-e36f-4b25-960d-944b10341b20",
   "metadata": {},
   "outputs": [
    {
     "data": {
      "text/html": [
       "<div>\n",
       "<style scoped>\n",
       "    .dataframe tbody tr th:only-of-type {\n",
       "        vertical-align: middle;\n",
       "    }\n",
       "\n",
       "    .dataframe tbody tr th {\n",
       "        vertical-align: top;\n",
       "    }\n",
       "\n",
       "    .dataframe thead th {\n",
       "        text-align: right;\n",
       "    }\n",
       "</style>\n",
       "<table border=\"1\" class=\"dataframe\">\n",
       "  <thead>\n",
       "    <tr style=\"text-align: right;\">\n",
       "      <th></th>\n",
       "      <th>zonaA</th>\n",
       "      <th>zonaB</th>\n",
       "      <th>zonaC</th>\n",
       "      <th>Todaslaszonas</th>\n",
       "    </tr>\n",
       "  </thead>\n",
       "  <tbody>\n",
       "    <tr>\n",
       "      <th>ventas1</th>\n",
       "      <td>123</td>\n",
       "      <td>421</td>\n",
       "      <td>256</td>\n",
       "      <td>800</td>\n",
       "    </tr>\n",
       "    <tr>\n",
       "      <th>ventas2</th>\n",
       "      <td>234</td>\n",
       "      <td>541</td>\n",
       "      <td>257</td>\n",
       "      <td>1032</td>\n",
       "    </tr>\n",
       "    <tr>\n",
       "      <th>ventas3</th>\n",
       "      <td>120</td>\n",
       "      <td>451</td>\n",
       "      <td>258</td>\n",
       "      <td>829</td>\n",
       "    </tr>\n",
       "  </tbody>\n",
       "</table>\n",
       "</div>"
      ],
      "text/plain": [
       "         zonaA  zonaB  zonaC  Todaslaszonas\n",
       "ventas1    123    421    256            800\n",
       "ventas2    234    541    257           1032\n",
       "ventas3    120    451    258            829"
      ]
     },
     "execution_count": 63,
     "metadata": {},
     "output_type": "execute_result"
    }
   ],
   "source": [
    "dataframe"
   ]
  },
  {
   "cell_type": "code",
   "execution_count": 65,
   "id": "564b171b-b791-4f95-a4fe-71700cddf5a2",
   "metadata": {},
   "outputs": [
    {
     "data": {
      "text/html": [
       "<div>\n",
       "<style scoped>\n",
       "    .dataframe tbody tr th:only-of-type {\n",
       "        vertical-align: middle;\n",
       "    }\n",
       "\n",
       "    .dataframe tbody tr th {\n",
       "        vertical-align: top;\n",
       "    }\n",
       "\n",
       "    .dataframe thead th {\n",
       "        text-align: right;\n",
       "    }\n",
       "</style>\n",
       "<table border=\"1\" class=\"dataframe\">\n",
       "  <thead>\n",
       "    <tr style=\"text-align: right;\">\n",
       "      <th></th>\n",
       "      <th>zonaA</th>\n",
       "      <th>zonaB</th>\n",
       "      <th>zonaC</th>\n",
       "    </tr>\n",
       "  </thead>\n",
       "  <tbody>\n",
       "    <tr>\n",
       "      <th>ventas1</th>\n",
       "      <td>123</td>\n",
       "      <td>421</td>\n",
       "      <td>256</td>\n",
       "    </tr>\n",
       "    <tr>\n",
       "      <th>ventas2</th>\n",
       "      <td>234</td>\n",
       "      <td>541</td>\n",
       "      <td>257</td>\n",
       "    </tr>\n",
       "    <tr>\n",
       "      <th>ventas3</th>\n",
       "      <td>120</td>\n",
       "      <td>451</td>\n",
       "      <td>258</td>\n",
       "    </tr>\n",
       "  </tbody>\n",
       "</table>\n",
       "</div>"
      ],
      "text/plain": [
       "         zonaA  zonaB  zonaC\n",
       "ventas1    123    421    256\n",
       "ventas2    234    541    257\n",
       "ventas3    120    451    258"
      ]
     },
     "execution_count": 65,
     "metadata": {},
     "output_type": "execute_result"
    }
   ],
   "source": [
    "dataframe.drop('Todaslaszonas',axis=1, inplace=True) # eliminar una columna definitivamente\n",
    "dataframe"
   ]
  },
  {
   "cell_type": "code",
   "execution_count": 21,
   "id": "aaaa6248-3029-4cf7-a8b0-9bb7fb62d692",
   "metadata": {},
   "outputs": [
    {
     "data": {
      "text/html": [
       "<div>\n",
       "<style scoped>\n",
       "    .dataframe tbody tr th:only-of-type {\n",
       "        vertical-align: middle;\n",
       "    }\n",
       "\n",
       "    .dataframe tbody tr th {\n",
       "        vertical-align: top;\n",
       "    }\n",
       "\n",
       "    .dataframe thead th {\n",
       "        text-align: right;\n",
       "    }\n",
       "</style>\n",
       "<table border=\"1\" class=\"dataframe\">\n",
       "  <thead>\n",
       "    <tr style=\"text-align: right;\">\n",
       "      <th></th>\n",
       "      <th>zonaA</th>\n",
       "      <th>zonaB</th>\n",
       "      <th>zonaC</th>\n",
       "    </tr>\n",
       "  </thead>\n",
       "  <tbody>\n",
       "    <tr>\n",
       "      <th>ventas1</th>\n",
       "      <td>123</td>\n",
       "      <td>421</td>\n",
       "      <td>256</td>\n",
       "    </tr>\n",
       "    <tr>\n",
       "      <th>ventas2</th>\n",
       "      <td>234</td>\n",
       "      <td>541</td>\n",
       "      <td>257</td>\n",
       "    </tr>\n",
       "  </tbody>\n",
       "</table>\n",
       "</div>"
      ],
      "text/plain": [
       "         zonaA  zonaB  zonaC\n",
       "ventas1    123    421    256\n",
       "ventas2    234    541    257"
      ]
     },
     "execution_count": 21,
     "metadata": {},
     "output_type": "execute_result"
    }
   ],
   "source": [
    "dataframe.drop('ventas3') # drop por defecto borra una fila (axis=0)"
   ]
  },
  {
   "cell_type": "code",
   "execution_count": 22,
   "id": "f34ae01f-284f-477a-af32-2aa5eb02bc0b",
   "metadata": {},
   "outputs": [
    {
     "data": {
      "text/html": [
       "<div>\n",
       "<style scoped>\n",
       "    .dataframe tbody tr th:only-of-type {\n",
       "        vertical-align: middle;\n",
       "    }\n",
       "\n",
       "    .dataframe tbody tr th {\n",
       "        vertical-align: top;\n",
       "    }\n",
       "\n",
       "    .dataframe thead th {\n",
       "        text-align: right;\n",
       "    }\n",
       "</style>\n",
       "<table border=\"1\" class=\"dataframe\">\n",
       "  <thead>\n",
       "    <tr style=\"text-align: right;\">\n",
       "      <th></th>\n",
       "      <th>zonaA</th>\n",
       "      <th>zonaB</th>\n",
       "      <th>zonaC</th>\n",
       "    </tr>\n",
       "  </thead>\n",
       "  <tbody>\n",
       "    <tr>\n",
       "      <th>ventas1</th>\n",
       "      <td>123</td>\n",
       "      <td>421</td>\n",
       "      <td>256</td>\n",
       "    </tr>\n",
       "    <tr>\n",
       "      <th>ventas2</th>\n",
       "      <td>234</td>\n",
       "      <td>541</td>\n",
       "      <td>257</td>\n",
       "    </tr>\n",
       "    <tr>\n",
       "      <th>ventas3</th>\n",
       "      <td>120</td>\n",
       "      <td>451</td>\n",
       "      <td>258</td>\n",
       "    </tr>\n",
       "  </tbody>\n",
       "</table>\n",
       "</div>"
      ],
      "text/plain": [
       "         zonaA  zonaB  zonaC\n",
       "ventas1    123    421    256\n",
       "ventas2    234    541    257\n",
       "ventas3    120    451    258"
      ]
     },
     "execution_count": 22,
     "metadata": {},
     "output_type": "execute_result"
    }
   ],
   "source": [
    "dataframe"
   ]
  },
  {
   "cell_type": "code",
   "execution_count": 69,
   "id": "32996e95-dba2-4e57-9659-2f576747218b",
   "metadata": {},
   "outputs": [
    {
     "data": {
      "text/html": [
       "<div>\n",
       "<style scoped>\n",
       "    .dataframe tbody tr th:only-of-type {\n",
       "        vertical-align: middle;\n",
       "    }\n",
       "\n",
       "    .dataframe tbody tr th {\n",
       "        vertical-align: top;\n",
       "    }\n",
       "\n",
       "    .dataframe thead th {\n",
       "        text-align: right;\n",
       "    }\n",
       "</style>\n",
       "<table border=\"1\" class=\"dataframe\">\n",
       "  <thead>\n",
       "    <tr style=\"text-align: right;\">\n",
       "      <th></th>\n",
       "      <th>zonaA</th>\n",
       "      <th>zonaB</th>\n",
       "      <th>zonaC</th>\n",
       "    </tr>\n",
       "  </thead>\n",
       "  <tbody>\n",
       "    <tr>\n",
       "      <th>ventas1</th>\n",
       "      <td>123</td>\n",
       "      <td>421</td>\n",
       "      <td>256</td>\n",
       "    </tr>\n",
       "    <tr>\n",
       "      <th>ventas2</th>\n",
       "      <td>234</td>\n",
       "      <td>541</td>\n",
       "      <td>257</td>\n",
       "    </tr>\n",
       "  </tbody>\n",
       "</table>\n",
       "</div>"
      ],
      "text/plain": [
       "         zonaA  zonaB  zonaC\n",
       "ventas1    123    421    256\n",
       "ventas2    234    541    257"
      ]
     },
     "execution_count": 69,
     "metadata": {},
     "output_type": "execute_result"
    }
   ],
   "source": [
    "dataframe.drop('ventas3', inplace=True)\n",
    "dataframe"
   ]
  },
  {
   "cell_type": "code",
   "execution_count": 71,
   "id": "1d46e09c-3650-4809-b258-f7140ad1cbbe",
   "metadata": {},
   "outputs": [
    {
     "data": {
      "text/plain": [
       "(2, 3)"
      ]
     },
     "execution_count": 71,
     "metadata": {},
     "output_type": "execute_result"
    }
   ],
   "source": [
    "dataframe.shape # forma de la base de datos"
   ]
  },
  {
   "cell_type": "markdown",
   "id": "a4cb1eea-be42-49d1-9a94-18ff01faa3c7",
   "metadata": {
    "jp-MarkdownHeadingCollapsed": true
   },
   "source": [
    "---\n",
    "### DataFrames: Selección de datos con una condición"
   ]
  },
  {
   "cell_type": "code",
   "execution_count": 89,
   "id": "f031c04c-416c-4e1d-b5d4-f1dafe254dba",
   "metadata": {},
   "outputs": [
    {
     "data": {
      "text/html": [
       "<div>\n",
       "<style scoped>\n",
       "    .dataframe tbody tr th:only-of-type {\n",
       "        vertical-align: middle;\n",
       "    }\n",
       "\n",
       "    .dataframe tbody tr th {\n",
       "        vertical-align: top;\n",
       "    }\n",
       "\n",
       "    .dataframe thead th {\n",
       "        text-align: right;\n",
       "    }\n",
       "</style>\n",
       "<table border=\"1\" class=\"dataframe\">\n",
       "  <thead>\n",
       "    <tr style=\"text-align: right;\">\n",
       "      <th></th>\n",
       "      <th>zonaA</th>\n",
       "      <th>zonaB</th>\n",
       "      <th>zonaC</th>\n",
       "    </tr>\n",
       "  </thead>\n",
       "  <tbody>\n",
       "    <tr>\n",
       "      <th>ventas1</th>\n",
       "      <td>120</td>\n",
       "      <td>340</td>\n",
       "      <td>250</td>\n",
       "    </tr>\n",
       "    <tr>\n",
       "      <th>ventas2</th>\n",
       "      <td>210</td>\n",
       "      <td>450</td>\n",
       "      <td>250</td>\n",
       "    </tr>\n",
       "    <tr>\n",
       "      <th>ventas3</th>\n",
       "      <td>310</td>\n",
       "      <td>210</td>\n",
       "      <td>140</td>\n",
       "    </tr>\n",
       "  </tbody>\n",
       "</table>\n",
       "</div>"
      ],
      "text/plain": [
       "         zonaA  zonaB  zonaC\n",
       "ventas1    120    340    250\n",
       "ventas2    210    450    250\n",
       "ventas3    310    210    140"
      ]
     },
     "execution_count": 89,
     "metadata": {},
     "output_type": "execute_result"
    }
   ],
   "source": [
    "filas = 'ventas1 ventas2 ventas3'.split()\n",
    "columnas = 'zonaA zonaB zonaC'.split()\n",
    "\n",
    "datos = [[120,340,250],[210,450,250],[310,210,140]]\n",
    "\n",
    "dataframe = pd.DataFrame(datos, filas, columnas)\n",
    "dataframe"
   ]
  },
  {
   "cell_type": "code",
   "execution_count": 125,
   "id": "1c15eb52-4b02-4434-9f09-326e248e5e3e",
   "metadata": {},
   "outputs": [
    {
     "data": {
      "text/html": [
       "<div>\n",
       "<style scoped>\n",
       "    .dataframe tbody tr th:only-of-type {\n",
       "        vertical-align: middle;\n",
       "    }\n",
       "\n",
       "    .dataframe tbody tr th {\n",
       "        vertical-align: top;\n",
       "    }\n",
       "\n",
       "    .dataframe thead th {\n",
       "        text-align: right;\n",
       "    }\n",
       "</style>\n",
       "<table border=\"1\" class=\"dataframe\">\n",
       "  <thead>\n",
       "    <tr style=\"text-align: right;\">\n",
       "      <th></th>\n",
       "      <th>zonaA</th>\n",
       "      <th>zonaB</th>\n",
       "      <th>zonaC</th>\n",
       "    </tr>\n",
       "  </thead>\n",
       "  <tbody>\n",
       "    <tr>\n",
       "      <th>ventas1</th>\n",
       "      <td>NaN</td>\n",
       "      <td>340</td>\n",
       "      <td>250.0</td>\n",
       "    </tr>\n",
       "    <tr>\n",
       "      <th>ventas2</th>\n",
       "      <td>210.0</td>\n",
       "      <td>450</td>\n",
       "      <td>250.0</td>\n",
       "    </tr>\n",
       "    <tr>\n",
       "      <th>ventas3</th>\n",
       "      <td>310.0</td>\n",
       "      <td>210</td>\n",
       "      <td>NaN</td>\n",
       "    </tr>\n",
       "  </tbody>\n",
       "</table>\n",
       "</div>"
      ],
      "text/plain": [
       "         zonaA  zonaB  zonaC\n",
       "ventas1    NaN    340  250.0\n",
       "ventas2  210.0    450  250.0\n",
       "ventas3  310.0    210    NaN"
      ]
     },
     "execution_count": 125,
     "metadata": {},
     "output_type": "execute_result"
    }
   ],
   "source": [
    "# Caso 1: Aplicar una condición al DataFrame completo\n",
    "condicion = dataframe > 200 # los valores que no cumplen (>200) se reemplazan con NaN\n",
    "dataframe[condicion]"
   ]
  },
  {
   "cell_type": "code",
   "execution_count": 99,
   "id": "4f8645b7-5ea3-4d1b-9f7a-1fa99cd2f424",
   "metadata": {},
   "outputs": [
    {
     "data": {
      "text/html": [
       "<div>\n",
       "<style scoped>\n",
       "    .dataframe tbody tr th:only-of-type {\n",
       "        vertical-align: middle;\n",
       "    }\n",
       "\n",
       "    .dataframe tbody tr th {\n",
       "        vertical-align: top;\n",
       "    }\n",
       "\n",
       "    .dataframe thead th {\n",
       "        text-align: right;\n",
       "    }\n",
       "</style>\n",
       "<table border=\"1\" class=\"dataframe\">\n",
       "  <thead>\n",
       "    <tr style=\"text-align: right;\">\n",
       "      <th></th>\n",
       "      <th>zonaA</th>\n",
       "      <th>zonaB</th>\n",
       "      <th>zonaC</th>\n",
       "    </tr>\n",
       "  </thead>\n",
       "  <tbody>\n",
       "    <tr>\n",
       "      <th>ventas1</th>\n",
       "      <td>120</td>\n",
       "      <td>340</td>\n",
       "      <td>250</td>\n",
       "    </tr>\n",
       "    <tr>\n",
       "      <th>ventas2</th>\n",
       "      <td>210</td>\n",
       "      <td>450</td>\n",
       "      <td>250</td>\n",
       "    </tr>\n",
       "    <tr>\n",
       "      <th>ventas3</th>\n",
       "      <td>310</td>\n",
       "      <td>210</td>\n",
       "      <td>140</td>\n",
       "    </tr>\n",
       "  </tbody>\n",
       "</table>\n",
       "</div>"
      ],
      "text/plain": [
       "         zonaA  zonaB  zonaC\n",
       "ventas1    120    340    250\n",
       "ventas2    210    450    250\n",
       "ventas3    310    210    140"
      ]
     },
     "execution_count": 99,
     "metadata": {},
     "output_type": "execute_result"
    }
   ],
   "source": [
    "dataframe"
   ]
  },
  {
   "cell_type": "code",
   "execution_count": 103,
   "id": "3381aa30-ce6b-4ed8-acfc-5856aad43384",
   "metadata": {},
   "outputs": [
    {
     "data": {
      "text/html": [
       "<div>\n",
       "<style scoped>\n",
       "    .dataframe tbody tr th:only-of-type {\n",
       "        vertical-align: middle;\n",
       "    }\n",
       "\n",
       "    .dataframe tbody tr th {\n",
       "        vertical-align: top;\n",
       "    }\n",
       "\n",
       "    .dataframe thead th {\n",
       "        text-align: right;\n",
       "    }\n",
       "</style>\n",
       "<table border=\"1\" class=\"dataframe\">\n",
       "  <thead>\n",
       "    <tr style=\"text-align: right;\">\n",
       "      <th></th>\n",
       "      <th>zonaA</th>\n",
       "      <th>zonaB</th>\n",
       "      <th>zonaC</th>\n",
       "    </tr>\n",
       "  </thead>\n",
       "  <tbody>\n",
       "    <tr>\n",
       "      <th>ventas2</th>\n",
       "      <td>210</td>\n",
       "      <td>450</td>\n",
       "      <td>250</td>\n",
       "    </tr>\n",
       "    <tr>\n",
       "      <th>ventas3</th>\n",
       "      <td>310</td>\n",
       "      <td>210</td>\n",
       "      <td>140</td>\n",
       "    </tr>\n",
       "  </tbody>\n",
       "</table>\n",
       "</div>"
      ],
      "text/plain": [
       "         zonaA  zonaB  zonaC\n",
       "ventas2    210    450    250\n",
       "ventas3    310    210    140"
      ]
     },
     "execution_count": 103,
     "metadata": {},
     "output_type": "execute_result"
    }
   ],
   "source": [
    "# Caso 2: Filtrar filas aplicando una condición a una columna específica\n",
    "condicion = dataframe['zonaA'] > 200 # se eliminan filas donde 'zonaA' no cumple (>200)\n",
    "dataframe[condicion]"
   ]
  },
  {
   "cell_type": "code",
   "execution_count": 105,
   "id": "464fd571-b444-4c88-ba23-eabdafc6929a",
   "metadata": {},
   "outputs": [
    {
     "data": {
      "text/html": [
       "<div>\n",
       "<style scoped>\n",
       "    .dataframe tbody tr th:only-of-type {\n",
       "        vertical-align: middle;\n",
       "    }\n",
       "\n",
       "    .dataframe tbody tr th {\n",
       "        vertical-align: top;\n",
       "    }\n",
       "\n",
       "    .dataframe thead th {\n",
       "        text-align: right;\n",
       "    }\n",
       "</style>\n",
       "<table border=\"1\" class=\"dataframe\">\n",
       "  <thead>\n",
       "    <tr style=\"text-align: right;\">\n",
       "      <th></th>\n",
       "      <th>zonaA</th>\n",
       "      <th>zonaB</th>\n",
       "      <th>zonaC</th>\n",
       "    </tr>\n",
       "  </thead>\n",
       "  <tbody>\n",
       "    <tr>\n",
       "      <th>ventas1</th>\n",
       "      <td>120</td>\n",
       "      <td>340</td>\n",
       "      <td>250</td>\n",
       "    </tr>\n",
       "    <tr>\n",
       "      <th>ventas2</th>\n",
       "      <td>210</td>\n",
       "      <td>450</td>\n",
       "      <td>250</td>\n",
       "    </tr>\n",
       "    <tr>\n",
       "      <th>ventas3</th>\n",
       "      <td>310</td>\n",
       "      <td>210</td>\n",
       "      <td>140</td>\n",
       "    </tr>\n",
       "  </tbody>\n",
       "</table>\n",
       "</div>"
      ],
      "text/plain": [
       "         zonaA  zonaB  zonaC\n",
       "ventas1    120    340    250\n",
       "ventas2    210    450    250\n",
       "ventas3    310    210    140"
      ]
     },
     "execution_count": 105,
     "metadata": {},
     "output_type": "execute_result"
    }
   ],
   "source": [
    "dataframe"
   ]
  },
  {
   "cell_type": "code",
   "execution_count": 117,
   "id": "d39f9462-49a7-4c27-a275-c1a85e021bce",
   "metadata": {},
   "outputs": [
    {
     "data": {
      "text/html": [
       "<div>\n",
       "<style scoped>\n",
       "    .dataframe tbody tr th:only-of-type {\n",
       "        vertical-align: middle;\n",
       "    }\n",
       "\n",
       "    .dataframe tbody tr th {\n",
       "        vertical-align: top;\n",
       "    }\n",
       "\n",
       "    .dataframe thead th {\n",
       "        text-align: right;\n",
       "    }\n",
       "</style>\n",
       "<table border=\"1\" class=\"dataframe\">\n",
       "  <thead>\n",
       "    <tr style=\"text-align: right;\">\n",
       "      <th></th>\n",
       "      <th>zonaA</th>\n",
       "      <th>zonaB</th>\n",
       "      <th>zonaC</th>\n",
       "    </tr>\n",
       "  </thead>\n",
       "  <tbody>\n",
       "    <tr>\n",
       "      <th>ventas1</th>\n",
       "      <td>120</td>\n",
       "      <td>340</td>\n",
       "      <td>250</td>\n",
       "    </tr>\n",
       "    <tr>\n",
       "      <th>ventas2</th>\n",
       "      <td>210</td>\n",
       "      <td>450</td>\n",
       "      <td>250</td>\n",
       "    </tr>\n",
       "    <tr>\n",
       "      <th>ventas3</th>\n",
       "      <td>310</td>\n",
       "      <td>210</td>\n",
       "      <td>140</td>\n",
       "    </tr>\n",
       "  </tbody>\n",
       "</table>\n",
       "</div>"
      ],
      "text/plain": [
       "         zonaA  zonaB  zonaC\n",
       "ventas1    120    340    250\n",
       "ventas2    210    450    250\n",
       "ventas3    310    210    140"
      ]
     },
     "execution_count": 117,
     "metadata": {},
     "output_type": "execute_result"
    }
   ],
   "source": [
    "condicion = (dataframe['zonaA'] > 200) | (dataframe['zonaB'] > 300)\n",
    "dataframe[condicion]"
   ]
  },
  {
   "cell_type": "code",
   "execution_count": 121,
   "id": "4359a446-9c0f-41ac-9102-9828f1adf88b",
   "metadata": {},
   "outputs": [
    {
     "data": {
      "text/html": [
       "<div>\n",
       "<style scoped>\n",
       "    .dataframe tbody tr th:only-of-type {\n",
       "        vertical-align: middle;\n",
       "    }\n",
       "\n",
       "    .dataframe tbody tr th {\n",
       "        vertical-align: top;\n",
       "    }\n",
       "\n",
       "    .dataframe thead th {\n",
       "        text-align: right;\n",
       "    }\n",
       "</style>\n",
       "<table border=\"1\" class=\"dataframe\">\n",
       "  <thead>\n",
       "    <tr style=\"text-align: right;\">\n",
       "      <th></th>\n",
       "      <th>zonaB</th>\n",
       "      <th>zonaC</th>\n",
       "    </tr>\n",
       "  </thead>\n",
       "  <tbody>\n",
       "    <tr>\n",
       "      <th>ventas1</th>\n",
       "      <td>340</td>\n",
       "      <td>250</td>\n",
       "    </tr>\n",
       "    <tr>\n",
       "      <th>ventas2</th>\n",
       "      <td>450</td>\n",
       "      <td>250</td>\n",
       "    </tr>\n",
       "    <tr>\n",
       "      <th>ventas3</th>\n",
       "      <td>210</td>\n",
       "      <td>140</td>\n",
       "    </tr>\n",
       "  </tbody>\n",
       "</table>\n",
       "</div>"
      ],
      "text/plain": [
       "         zonaB  zonaC\n",
       "ventas1    340    250\n",
       "ventas2    450    250\n",
       "ventas3    210    140"
      ]
     },
     "execution_count": 121,
     "metadata": {},
     "output_type": "execute_result"
    }
   ],
   "source": [
    "dataframe[condicion][['zonaB','zonaC']]"
   ]
  },
  {
   "cell_type": "markdown",
   "id": "14e5b83b-23e3-4d66-a1ec-eab0ba9219a7",
   "metadata": {
    "jp-MarkdownHeadingCollapsed": true
   },
   "source": [
    "---\n",
    "### DataFrames: Modificación de los nombres de las filas"
   ]
  },
  {
   "cell_type": "code",
   "execution_count": 196,
   "id": "a4fe5d7f-73ad-44ed-9f65-3df4b90b8511",
   "metadata": {},
   "outputs": [
    {
     "data": {
      "text/html": [
       "<div>\n",
       "<style scoped>\n",
       "    .dataframe tbody tr th:only-of-type {\n",
       "        vertical-align: middle;\n",
       "    }\n",
       "\n",
       "    .dataframe tbody tr th {\n",
       "        vertical-align: top;\n",
       "    }\n",
       "\n",
       "    .dataframe thead th {\n",
       "        text-align: right;\n",
       "    }\n",
       "</style>\n",
       "<table border=\"1\" class=\"dataframe\">\n",
       "  <thead>\n",
       "    <tr style=\"text-align: right;\">\n",
       "      <th></th>\n",
       "      <th>zonaA</th>\n",
       "      <th>zonaB</th>\n",
       "      <th>zonaC</th>\n",
       "    </tr>\n",
       "  </thead>\n",
       "  <tbody>\n",
       "    <tr>\n",
       "      <th>ventas1</th>\n",
       "      <td>100</td>\n",
       "      <td>200</td>\n",
       "      <td>250</td>\n",
       "    </tr>\n",
       "    <tr>\n",
       "      <th>ventas2</th>\n",
       "      <td>210</td>\n",
       "      <td>300</td>\n",
       "      <td>425</td>\n",
       "    </tr>\n",
       "    <tr>\n",
       "      <th>ventas3</th>\n",
       "      <td>250</td>\n",
       "      <td>310</td>\n",
       "      <td>124</td>\n",
       "    </tr>\n",
       "  </tbody>\n",
       "</table>\n",
       "</div>"
      ],
      "text/plain": [
       "         zonaA  zonaB  zonaC\n",
       "ventas1    100    200    250\n",
       "ventas2    210    300    425\n",
       "ventas3    250    310    124"
      ]
     },
     "execution_count": 196,
     "metadata": {},
     "output_type": "execute_result"
    }
   ],
   "source": [
    "filas = 'ventas1 ventas2 ventas3'.split()\n",
    "columnas = 'zonaA zonaB zonaC'.split()\n",
    "\n",
    "datos = [[100,200,250],[210,300,425],[250,310,124]]\n",
    "\n",
    "dataframe = pd.DataFrame(datos, filas, columnas)\n",
    "dataframe"
   ]
  },
  {
   "cell_type": "code",
   "execution_count": 198,
   "id": "70516075-b239-450e-97fc-8c723903be23",
   "metadata": {},
   "outputs": [
    {
     "data": {
      "text/html": [
       "<div>\n",
       "<style scoped>\n",
       "    .dataframe tbody tr th:only-of-type {\n",
       "        vertical-align: middle;\n",
       "    }\n",
       "\n",
       "    .dataframe tbody tr th {\n",
       "        vertical-align: top;\n",
       "    }\n",
       "\n",
       "    .dataframe thead th {\n",
       "        text-align: right;\n",
       "    }\n",
       "</style>\n",
       "<table border=\"1\" class=\"dataframe\">\n",
       "  <thead>\n",
       "    <tr style=\"text-align: right;\">\n",
       "      <th></th>\n",
       "      <th>zonaA</th>\n",
       "      <th>zonaB</th>\n",
       "      <th>zonaC</th>\n",
       "      <th>dias</th>\n",
       "    </tr>\n",
       "  </thead>\n",
       "  <tbody>\n",
       "    <tr>\n",
       "      <th>ventas1</th>\n",
       "      <td>100</td>\n",
       "      <td>200</td>\n",
       "      <td>250</td>\n",
       "      <td>dia1</td>\n",
       "    </tr>\n",
       "    <tr>\n",
       "      <th>ventas2</th>\n",
       "      <td>210</td>\n",
       "      <td>300</td>\n",
       "      <td>425</td>\n",
       "      <td>dia2</td>\n",
       "    </tr>\n",
       "    <tr>\n",
       "      <th>ventas3</th>\n",
       "      <td>250</td>\n",
       "      <td>310</td>\n",
       "      <td>124</td>\n",
       "      <td>dia3</td>\n",
       "    </tr>\n",
       "  </tbody>\n",
       "</table>\n",
       "</div>"
      ],
      "text/plain": [
       "         zonaA  zonaB  zonaC  dias\n",
       "ventas1    100    200    250  dia1\n",
       "ventas2    210    300    425  dia2\n",
       "ventas3    250    310    124  dia3"
      ]
     },
     "execution_count": 198,
     "metadata": {},
     "output_type": "execute_result"
    }
   ],
   "source": [
    "nuevas_filas = 'dia1 dia2 dia3'.split()\n",
    "\n",
    "dataframe['dias'] = nuevas_filas\n",
    "dataframe"
   ]
  },
  {
   "cell_type": "code",
   "execution_count": 200,
   "id": "ec4d1b7e-850f-4b0c-a38e-0fdb09e984da",
   "metadata": {},
   "outputs": [
    {
     "data": {
      "text/html": [
       "<div>\n",
       "<style scoped>\n",
       "    .dataframe tbody tr th:only-of-type {\n",
       "        vertical-align: middle;\n",
       "    }\n",
       "\n",
       "    .dataframe tbody tr th {\n",
       "        vertical-align: top;\n",
       "    }\n",
       "\n",
       "    .dataframe thead th {\n",
       "        text-align: right;\n",
       "    }\n",
       "</style>\n",
       "<table border=\"1\" class=\"dataframe\">\n",
       "  <thead>\n",
       "    <tr style=\"text-align: right;\">\n",
       "      <th></th>\n",
       "      <th>zonaA</th>\n",
       "      <th>zonaB</th>\n",
       "      <th>zonaC</th>\n",
       "    </tr>\n",
       "    <tr>\n",
       "      <th>dias</th>\n",
       "      <th></th>\n",
       "      <th></th>\n",
       "      <th></th>\n",
       "    </tr>\n",
       "  </thead>\n",
       "  <tbody>\n",
       "    <tr>\n",
       "      <th>dia1</th>\n",
       "      <td>100</td>\n",
       "      <td>200</td>\n",
       "      <td>250</td>\n",
       "    </tr>\n",
       "    <tr>\n",
       "      <th>dia2</th>\n",
       "      <td>210</td>\n",
       "      <td>300</td>\n",
       "      <td>425</td>\n",
       "    </tr>\n",
       "    <tr>\n",
       "      <th>dia3</th>\n",
       "      <td>250</td>\n",
       "      <td>310</td>\n",
       "      <td>124</td>\n",
       "    </tr>\n",
       "  </tbody>\n",
       "</table>\n",
       "</div>"
      ],
      "text/plain": [
       "      zonaA  zonaB  zonaC\n",
       "dias                     \n",
       "dia1    100    200    250\n",
       "dia2    210    300    425\n",
       "dia3    250    310    124"
      ]
     },
     "execution_count": 200,
     "metadata": {},
     "output_type": "execute_result"
    }
   ],
   "source": [
    "# índice: etiqueta única que se usa para identificar y acceder a las filas\n",
    "# método set_index: establece una columna (o varias) como índice\n",
    "\n",
    "dataframe.set_index('dias') # Solo afecta a la visualización"
   ]
  },
  {
   "cell_type": "code",
   "execution_count": 202,
   "id": "4869c595-59af-4cb7-9e03-bec354610016",
   "metadata": {},
   "outputs": [
    {
     "data": {
      "text/html": [
       "<div>\n",
       "<style scoped>\n",
       "    .dataframe tbody tr th:only-of-type {\n",
       "        vertical-align: middle;\n",
       "    }\n",
       "\n",
       "    .dataframe tbody tr th {\n",
       "        vertical-align: top;\n",
       "    }\n",
       "\n",
       "    .dataframe thead th {\n",
       "        text-align: right;\n",
       "    }\n",
       "</style>\n",
       "<table border=\"1\" class=\"dataframe\">\n",
       "  <thead>\n",
       "    <tr style=\"text-align: right;\">\n",
       "      <th></th>\n",
       "      <th>zonaA</th>\n",
       "      <th>zonaB</th>\n",
       "      <th>zonaC</th>\n",
       "      <th>dias</th>\n",
       "    </tr>\n",
       "  </thead>\n",
       "  <tbody>\n",
       "    <tr>\n",
       "      <th>ventas1</th>\n",
       "      <td>100</td>\n",
       "      <td>200</td>\n",
       "      <td>250</td>\n",
       "      <td>dia1</td>\n",
       "    </tr>\n",
       "    <tr>\n",
       "      <th>ventas2</th>\n",
       "      <td>210</td>\n",
       "      <td>300</td>\n",
       "      <td>425</td>\n",
       "      <td>dia2</td>\n",
       "    </tr>\n",
       "    <tr>\n",
       "      <th>ventas3</th>\n",
       "      <td>250</td>\n",
       "      <td>310</td>\n",
       "      <td>124</td>\n",
       "      <td>dia3</td>\n",
       "    </tr>\n",
       "  </tbody>\n",
       "</table>\n",
       "</div>"
      ],
      "text/plain": [
       "         zonaA  zonaB  zonaC  dias\n",
       "ventas1    100    200    250  dia1\n",
       "ventas2    210    300    425  dia2\n",
       "ventas3    250    310    124  dia3"
      ]
     },
     "execution_count": 202,
     "metadata": {},
     "output_type": "execute_result"
    }
   ],
   "source": [
    "dataframe"
   ]
  },
  {
   "cell_type": "code",
   "execution_count": 204,
   "id": "b259ab55-df1f-45b6-9b77-a89c4ba1c4bc",
   "metadata": {},
   "outputs": [],
   "source": [
    "dataframe = dataframe.set_index('dias') "
   ]
  },
  {
   "cell_type": "code",
   "execution_count": 206,
   "id": "ff0290f4-a81f-4842-ba11-97b2f44f363e",
   "metadata": {},
   "outputs": [
    {
     "data": {
      "text/html": [
       "<div>\n",
       "<style scoped>\n",
       "    .dataframe tbody tr th:only-of-type {\n",
       "        vertical-align: middle;\n",
       "    }\n",
       "\n",
       "    .dataframe tbody tr th {\n",
       "        vertical-align: top;\n",
       "    }\n",
       "\n",
       "    .dataframe thead th {\n",
       "        text-align: right;\n",
       "    }\n",
       "</style>\n",
       "<table border=\"1\" class=\"dataframe\">\n",
       "  <thead>\n",
       "    <tr style=\"text-align: right;\">\n",
       "      <th></th>\n",
       "      <th>zonaA</th>\n",
       "      <th>zonaB</th>\n",
       "      <th>zonaC</th>\n",
       "    </tr>\n",
       "    <tr>\n",
       "      <th>dias</th>\n",
       "      <th></th>\n",
       "      <th></th>\n",
       "      <th></th>\n",
       "    </tr>\n",
       "  </thead>\n",
       "  <tbody>\n",
       "    <tr>\n",
       "      <th>dia1</th>\n",
       "      <td>100</td>\n",
       "      <td>200</td>\n",
       "      <td>250</td>\n",
       "    </tr>\n",
       "    <tr>\n",
       "      <th>dia2</th>\n",
       "      <td>210</td>\n",
       "      <td>300</td>\n",
       "      <td>425</td>\n",
       "    </tr>\n",
       "    <tr>\n",
       "      <th>dia3</th>\n",
       "      <td>250</td>\n",
       "      <td>310</td>\n",
       "      <td>124</td>\n",
       "    </tr>\n",
       "  </tbody>\n",
       "</table>\n",
       "</div>"
      ],
      "text/plain": [
       "      zonaA  zonaB  zonaC\n",
       "dias                     \n",
       "dia1    100    200    250\n",
       "dia2    210    300    425\n",
       "dia3    250    310    124"
      ]
     },
     "execution_count": 206,
     "metadata": {},
     "output_type": "execute_result"
    }
   ],
   "source": [
    "dataframe"
   ]
  },
  {
   "cell_type": "markdown",
   "id": "4e320590-7667-4fef-86bd-56fd76db8759",
   "metadata": {
    "jp-MarkdownHeadingCollapsed": true
   },
   "source": [
    "---\n",
    "### Pandas: Tratamiento de datos nulos o sin valor"
   ]
  },
  {
   "cell_type": "code",
   "execution_count": 226,
   "id": "187e78ac-ff90-484a-8844-fb27893aa210",
   "metadata": {},
   "outputs": [
    {
     "data": {
      "text/html": [
       "<div>\n",
       "<style scoped>\n",
       "    .dataframe tbody tr th:only-of-type {\n",
       "        vertical-align: middle;\n",
       "    }\n",
       "\n",
       "    .dataframe tbody tr th {\n",
       "        vertical-align: top;\n",
       "    }\n",
       "\n",
       "    .dataframe thead th {\n",
       "        text-align: right;\n",
       "    }\n",
       "</style>\n",
       "<table border=\"1\" class=\"dataframe\">\n",
       "  <thead>\n",
       "    <tr style=\"text-align: right;\">\n",
       "      <th></th>\n",
       "      <th>A</th>\n",
       "      <th>B</th>\n",
       "      <th>C</th>\n",
       "    </tr>\n",
       "  </thead>\n",
       "  <tbody>\n",
       "    <tr>\n",
       "      <th>0</th>\n",
       "      <td>4.0</td>\n",
       "      <td>6</td>\n",
       "      <td>NaN</td>\n",
       "    </tr>\n",
       "    <tr>\n",
       "      <th>1</th>\n",
       "      <td>5.0</td>\n",
       "      <td>1</td>\n",
       "      <td>4.0</td>\n",
       "    </tr>\n",
       "    <tr>\n",
       "      <th>2</th>\n",
       "      <td>NaN</td>\n",
       "      <td>5</td>\n",
       "      <td>NaN</td>\n",
       "    </tr>\n",
       "  </tbody>\n",
       "</table>\n",
       "</div>"
      ],
      "text/plain": [
       "     A  B    C\n",
       "0  4.0  6  NaN\n",
       "1  5.0  1  4.0\n",
       "2  NaN  5  NaN"
      ]
     },
     "execution_count": 226,
     "metadata": {},
     "output_type": "execute_result"
    }
   ],
   "source": [
    "diccionario = {'A':[4,5,np.nan], 'B':[6,1,5], 'C':[np.nan, 4, np.nan]}\n",
    "\n",
    "dataframe = pd.DataFrame(diccionario)\n",
    "dataframe"
   ]
  },
  {
   "cell_type": "code",
   "execution_count": 263,
   "id": "eb4ce54c-0013-4b9b-aa42-8e0fb1d2025e",
   "metadata": {},
   "outputs": [
    {
     "data": {
      "text/html": [
       "<div>\n",
       "<style scoped>\n",
       "    .dataframe tbody tr th:only-of-type {\n",
       "        vertical-align: middle;\n",
       "    }\n",
       "\n",
       "    .dataframe tbody tr th {\n",
       "        vertical-align: top;\n",
       "    }\n",
       "\n",
       "    .dataframe thead th {\n",
       "        text-align: right;\n",
       "    }\n",
       "</style>\n",
       "<table border=\"1\" class=\"dataframe\">\n",
       "  <thead>\n",
       "    <tr style=\"text-align: right;\">\n",
       "      <th></th>\n",
       "      <th>A</th>\n",
       "      <th>B</th>\n",
       "      <th>C</th>\n",
       "    </tr>\n",
       "  </thead>\n",
       "  <tbody>\n",
       "    <tr>\n",
       "      <th>1</th>\n",
       "      <td>5.0</td>\n",
       "      <td>1</td>\n",
       "      <td>4.0</td>\n",
       "    </tr>\n",
       "  </tbody>\n",
       "</table>\n",
       "</div>"
      ],
      "text/plain": [
       "     A  B    C\n",
       "1  5.0  1  4.0"
      ]
     },
     "execution_count": 263,
     "metadata": {},
     "output_type": "execute_result"
    }
   ],
   "source": [
    "dataframe.dropna() # elimina de la visualización los valores nulos"
   ]
  },
  {
   "cell_type": "code",
   "execution_count": 232,
   "id": "12d2d9d9-d86d-4c8f-bd09-0d55649d2f0c",
   "metadata": {},
   "outputs": [
    {
     "data": {
      "text/html": [
       "<div>\n",
       "<style scoped>\n",
       "    .dataframe tbody tr th:only-of-type {\n",
       "        vertical-align: middle;\n",
       "    }\n",
       "\n",
       "    .dataframe tbody tr th {\n",
       "        vertical-align: top;\n",
       "    }\n",
       "\n",
       "    .dataframe thead th {\n",
       "        text-align: right;\n",
       "    }\n",
       "</style>\n",
       "<table border=\"1\" class=\"dataframe\">\n",
       "  <thead>\n",
       "    <tr style=\"text-align: right;\">\n",
       "      <th></th>\n",
       "      <th>B</th>\n",
       "    </tr>\n",
       "  </thead>\n",
       "  <tbody>\n",
       "    <tr>\n",
       "      <th>0</th>\n",
       "      <td>6</td>\n",
       "    </tr>\n",
       "    <tr>\n",
       "      <th>1</th>\n",
       "      <td>1</td>\n",
       "    </tr>\n",
       "    <tr>\n",
       "      <th>2</th>\n",
       "      <td>5</td>\n",
       "    </tr>\n",
       "  </tbody>\n",
       "</table>\n",
       "</div>"
      ],
      "text/plain": [
       "   B\n",
       "0  6\n",
       "1  1\n",
       "2  5"
      ]
     },
     "execution_count": 232,
     "metadata": {},
     "output_type": "execute_result"
    }
   ],
   "source": [
    "dataframe.dropna(axis=1) # eliminar de la visualización filas con NaN"
   ]
  },
  {
   "cell_type": "code",
   "execution_count": 234,
   "id": "82e0f3cb-a784-48e0-8357-984cc00164aa",
   "metadata": {},
   "outputs": [
    {
     "data": {
      "text/html": [
       "<div>\n",
       "<style scoped>\n",
       "    .dataframe tbody tr th:only-of-type {\n",
       "        vertical-align: middle;\n",
       "    }\n",
       "\n",
       "    .dataframe tbody tr th {\n",
       "        vertical-align: top;\n",
       "    }\n",
       "\n",
       "    .dataframe thead th {\n",
       "        text-align: right;\n",
       "    }\n",
       "</style>\n",
       "<table border=\"1\" class=\"dataframe\">\n",
       "  <thead>\n",
       "    <tr style=\"text-align: right;\">\n",
       "      <th></th>\n",
       "      <th>A</th>\n",
       "      <th>B</th>\n",
       "      <th>C</th>\n",
       "    </tr>\n",
       "  </thead>\n",
       "  <tbody>\n",
       "    <tr>\n",
       "      <th>0</th>\n",
       "      <td>4.0</td>\n",
       "      <td>6</td>\n",
       "      <td>NaN</td>\n",
       "    </tr>\n",
       "    <tr>\n",
       "      <th>1</th>\n",
       "      <td>5.0</td>\n",
       "      <td>1</td>\n",
       "      <td>4.0</td>\n",
       "    </tr>\n",
       "    <tr>\n",
       "      <th>2</th>\n",
       "      <td>NaN</td>\n",
       "      <td>5</td>\n",
       "      <td>NaN</td>\n",
       "    </tr>\n",
       "  </tbody>\n",
       "</table>\n",
       "</div>"
      ],
      "text/plain": [
       "     A  B    C\n",
       "0  4.0  6  NaN\n",
       "1  5.0  1  4.0\n",
       "2  NaN  5  NaN"
      ]
     },
     "execution_count": 234,
     "metadata": {},
     "output_type": "execute_result"
    }
   ],
   "source": [
    "dataframe"
   ]
  },
  {
   "cell_type": "code",
   "execution_count": 236,
   "id": "d6d91b50-50d1-4ca0-89e5-4022c1eedcbb",
   "metadata": {},
   "outputs": [
    {
     "data": {
      "text/html": [
       "<div>\n",
       "<style scoped>\n",
       "    .dataframe tbody tr th:only-of-type {\n",
       "        vertical-align: middle;\n",
       "    }\n",
       "\n",
       "    .dataframe tbody tr th {\n",
       "        vertical-align: top;\n",
       "    }\n",
       "\n",
       "    .dataframe thead th {\n",
       "        text-align: right;\n",
       "    }\n",
       "</style>\n",
       "<table border=\"1\" class=\"dataframe\">\n",
       "  <thead>\n",
       "    <tr style=\"text-align: right;\">\n",
       "      <th></th>\n",
       "      <th>A</th>\n",
       "      <th>B</th>\n",
       "      <th>C</th>\n",
       "    </tr>\n",
       "  </thead>\n",
       "  <tbody>\n",
       "    <tr>\n",
       "      <th>0</th>\n",
       "      <td>4.0</td>\n",
       "      <td>6</td>\n",
       "      <td>100.0</td>\n",
       "    </tr>\n",
       "    <tr>\n",
       "      <th>1</th>\n",
       "      <td>5.0</td>\n",
       "      <td>1</td>\n",
       "      <td>4.0</td>\n",
       "    </tr>\n",
       "    <tr>\n",
       "      <th>2</th>\n",
       "      <td>100.0</td>\n",
       "      <td>5</td>\n",
       "      <td>100.0</td>\n",
       "    </tr>\n",
       "  </tbody>\n",
       "</table>\n",
       "</div>"
      ],
      "text/plain": [
       "       A  B      C\n",
       "0    4.0  6  100.0\n",
       "1    5.0  1    4.0\n",
       "2  100.0  5  100.0"
      ]
     },
     "execution_count": 236,
     "metadata": {},
     "output_type": "execute_result"
    }
   ],
   "source": [
    "dataframe.fillna(value=100) # reemplazar los valores NaN por 100"
   ]
  },
  {
   "cell_type": "code",
   "execution_count": 244,
   "id": "696914da-c060-4364-b618-4df79b62eab2",
   "metadata": {},
   "outputs": [
    {
     "data": {
      "text/plain": [
       "A    4.5\n",
       "B    4.0\n",
       "C    4.0\n",
       "dtype: float64"
      ]
     },
     "execution_count": 244,
     "metadata": {},
     "output_type": "execute_result"
    }
   ],
   "source": [
    "valor_medio = dataframe.mean()\n",
    "valor_medio"
   ]
  },
  {
   "cell_type": "code",
   "execution_count": 246,
   "id": "5e36b433-c6bd-4807-b4e6-f2971f2a075f",
   "metadata": {},
   "outputs": [
    {
     "data": {
      "text/html": [
       "<div>\n",
       "<style scoped>\n",
       "    .dataframe tbody tr th:only-of-type {\n",
       "        vertical-align: middle;\n",
       "    }\n",
       "\n",
       "    .dataframe tbody tr th {\n",
       "        vertical-align: top;\n",
       "    }\n",
       "\n",
       "    .dataframe thead th {\n",
       "        text-align: right;\n",
       "    }\n",
       "</style>\n",
       "<table border=\"1\" class=\"dataframe\">\n",
       "  <thead>\n",
       "    <tr style=\"text-align: right;\">\n",
       "      <th></th>\n",
       "      <th>A</th>\n",
       "      <th>B</th>\n",
       "      <th>C</th>\n",
       "    </tr>\n",
       "  </thead>\n",
       "  <tbody>\n",
       "    <tr>\n",
       "      <th>0</th>\n",
       "      <td>4.0</td>\n",
       "      <td>6</td>\n",
       "      <td>4.0</td>\n",
       "    </tr>\n",
       "    <tr>\n",
       "      <th>1</th>\n",
       "      <td>5.0</td>\n",
       "      <td>1</td>\n",
       "      <td>4.0</td>\n",
       "    </tr>\n",
       "    <tr>\n",
       "      <th>2</th>\n",
       "      <td>4.5</td>\n",
       "      <td>5</td>\n",
       "      <td>4.0</td>\n",
       "    </tr>\n",
       "  </tbody>\n",
       "</table>\n",
       "</div>"
      ],
      "text/plain": [
       "     A  B    C\n",
       "0  4.0  6  4.0\n",
       "1  5.0  1  4.0\n",
       "2  4.5  5  4.0"
      ]
     },
     "execution_count": 246,
     "metadata": {},
     "output_type": "execute_result"
    }
   ],
   "source": [
    "dataframe.fillna(value=valor_medio) # rellenar con el valor medio para no distorsionar los datos"
   ]
  },
  {
   "cell_type": "markdown",
   "id": "509c4897-9575-48f7-8465-7dd2d38a872d",
   "metadata": {},
   "source": [
    "---\n",
    "### Pandas: Agrupación de los datos"
   ]
  },
  {
   "cell_type": "code",
   "execution_count": 267,
   "id": "ad741770-8caa-41cb-92a0-418ae770ce24",
   "metadata": {},
   "outputs": [
    {
     "data": {
      "text/html": [
       "<div>\n",
       "<style scoped>\n",
       "    .dataframe tbody tr th:only-of-type {\n",
       "        vertical-align: middle;\n",
       "    }\n",
       "\n",
       "    .dataframe tbody tr th {\n",
       "        vertical-align: top;\n",
       "    }\n",
       "\n",
       "    .dataframe thead th {\n",
       "        text-align: right;\n",
       "    }\n",
       "</style>\n",
       "<table border=\"1\" class=\"dataframe\">\n",
       "  <thead>\n",
       "    <tr style=\"text-align: right;\">\n",
       "      <th></th>\n",
       "      <th>dias</th>\n",
       "      <th>vendedores</th>\n",
       "      <th>ventas</th>\n",
       "    </tr>\n",
       "  </thead>\n",
       "  <tbody>\n",
       "    <tr>\n",
       "      <th>0</th>\n",
       "      <td>dia1</td>\n",
       "      <td>Antonio</td>\n",
       "      <td>100</td>\n",
       "    </tr>\n",
       "    <tr>\n",
       "      <th>1</th>\n",
       "      <td>dia1</td>\n",
       "      <td>Maria</td>\n",
       "      <td>400</td>\n",
       "    </tr>\n",
       "    <tr>\n",
       "      <th>2</th>\n",
       "      <td>dia2</td>\n",
       "      <td>Jose</td>\n",
       "      <td>200</td>\n",
       "    </tr>\n",
       "    <tr>\n",
       "      <th>3</th>\n",
       "      <td>dia2</td>\n",
       "      <td>Marta</td>\n",
       "      <td>500</td>\n",
       "    </tr>\n",
       "    <tr>\n",
       "      <th>4</th>\n",
       "      <td>dia3</td>\n",
       "      <td>Juan</td>\n",
       "      <td>300</td>\n",
       "    </tr>\n",
       "  </tbody>\n",
       "</table>\n",
       "</div>"
      ],
      "text/plain": [
       "   dias vendedores  ventas\n",
       "0  dia1    Antonio     100\n",
       "1  dia1      Maria     400\n",
       "2  dia2       Jose     200\n",
       "3  dia2      Marta     500\n",
       "4  dia3       Juan     300"
      ]
     },
     "execution_count": 267,
     "metadata": {},
     "output_type": "execute_result"
    }
   ],
   "source": [
    "diccionario = {'dias':['dia1','dia1','dia2','dia2','dia3'], 'vendedores':['Antonio','Maria','Jose','Marta','Juan'], \\\n",
    "               'ventas':[100,400,200,500,300]}\n",
    "\n",
    "dataframe = pd.DataFrame(diccionario)\n",
    "dataframe"
   ]
  },
  {
   "cell_type": "code",
   "execution_count": 277,
   "id": "b9ea71dc-eda3-4cd0-b9ce-bb63bac7eb69",
   "metadata": {},
   "outputs": [
    {
     "data": {
      "text/plain": [
       "<pandas.core.groupby.generic.DataFrameGroupBy object at 0x7641605ad100>"
      ]
     },
     "execution_count": 277,
     "metadata": {},
     "output_type": "execute_result"
    }
   ],
   "source": [
    "dataframe.groupby('dias')"
   ]
  },
  {
   "cell_type": "code",
   "execution_count": 279,
   "id": "9159d8b2-b08b-444f-a30c-ede09caaa736",
   "metadata": {},
   "outputs": [
    {
     "data": {
      "text/plain": [
       "dias\n",
       "dia1    250.0\n",
       "dia2    350.0\n",
       "dia3    300.0\n",
       "Name: ventas, dtype: float64"
      ]
     },
     "execution_count": 279,
     "metadata": {},
     "output_type": "execute_result"
    }
   ],
   "source": [
    "dataframe.groupby('dias')['ventas'].mean() # Media de ventas por día"
   ]
  },
  {
   "cell_type": "code",
   "execution_count": 281,
   "id": "44d31f36-0bd0-458a-93a1-06c0d2083449",
   "metadata": {},
   "outputs": [
    {
     "data": {
      "text/plain": [
       "dias\n",
       "dia1    500\n",
       "dia2    700\n",
       "dia3    300\n",
       "Name: ventas, dtype: int64"
      ]
     },
     "execution_count": 281,
     "metadata": {},
     "output_type": "execute_result"
    }
   ],
   "source": [
    "dataframe.groupby('dias')['ventas'].sum() # Suma de ventas por día"
   ]
  },
  {
   "cell_type": "code",
   "execution_count": 283,
   "id": "67f37c4d-7a25-4821-a1d1-12709f27062f",
   "metadata": {},
   "outputs": [
    {
     "data": {
      "text/html": [
       "<div>\n",
       "<style scoped>\n",
       "    .dataframe tbody tr th:only-of-type {\n",
       "        vertical-align: middle;\n",
       "    }\n",
       "\n",
       "    .dataframe tbody tr th {\n",
       "        vertical-align: top;\n",
       "    }\n",
       "\n",
       "    .dataframe thead tr th {\n",
       "        text-align: left;\n",
       "    }\n",
       "\n",
       "    .dataframe thead tr:last-of-type th {\n",
       "        text-align: right;\n",
       "    }\n",
       "</style>\n",
       "<table border=\"1\" class=\"dataframe\">\n",
       "  <thead>\n",
       "    <tr>\n",
       "      <th></th>\n",
       "      <th colspan=\"8\" halign=\"left\">ventas</th>\n",
       "    </tr>\n",
       "    <tr>\n",
       "      <th></th>\n",
       "      <th>count</th>\n",
       "      <th>mean</th>\n",
       "      <th>std</th>\n",
       "      <th>min</th>\n",
       "      <th>25%</th>\n",
       "      <th>50%</th>\n",
       "      <th>75%</th>\n",
       "      <th>max</th>\n",
       "    </tr>\n",
       "    <tr>\n",
       "      <th>dias</th>\n",
       "      <th></th>\n",
       "      <th></th>\n",
       "      <th></th>\n",
       "      <th></th>\n",
       "      <th></th>\n",
       "      <th></th>\n",
       "      <th></th>\n",
       "      <th></th>\n",
       "    </tr>\n",
       "  </thead>\n",
       "  <tbody>\n",
       "    <tr>\n",
       "      <th>dia1</th>\n",
       "      <td>2.0</td>\n",
       "      <td>250.0</td>\n",
       "      <td>212.132034</td>\n",
       "      <td>100.0</td>\n",
       "      <td>175.0</td>\n",
       "      <td>250.0</td>\n",
       "      <td>325.0</td>\n",
       "      <td>400.0</td>\n",
       "    </tr>\n",
       "    <tr>\n",
       "      <th>dia2</th>\n",
       "      <td>2.0</td>\n",
       "      <td>350.0</td>\n",
       "      <td>212.132034</td>\n",
       "      <td>200.0</td>\n",
       "      <td>275.0</td>\n",
       "      <td>350.0</td>\n",
       "      <td>425.0</td>\n",
       "      <td>500.0</td>\n",
       "    </tr>\n",
       "    <tr>\n",
       "      <th>dia3</th>\n",
       "      <td>1.0</td>\n",
       "      <td>300.0</td>\n",
       "      <td>NaN</td>\n",
       "      <td>300.0</td>\n",
       "      <td>300.0</td>\n",
       "      <td>300.0</td>\n",
       "      <td>300.0</td>\n",
       "      <td>300.0</td>\n",
       "    </tr>\n",
       "  </tbody>\n",
       "</table>\n",
       "</div>"
      ],
      "text/plain": [
       "     ventas                                                      \n",
       "      count   mean         std    min    25%    50%    75%    max\n",
       "dias                                                             \n",
       "dia1    2.0  250.0  212.132034  100.0  175.0  250.0  325.0  400.0\n",
       "dia2    2.0  350.0  212.132034  200.0  275.0  350.0  425.0  500.0\n",
       "dia3    1.0  300.0         NaN  300.0  300.0  300.0  300.0  300.0"
      ]
     },
     "execution_count": 283,
     "metadata": {},
     "output_type": "execute_result"
    }
   ],
   "source": [
    "dataframe.groupby('dias').describe() # Estadísticas con los datos más habituales"
   ]
  }
 ],
 "metadata": {
  "kernelspec": {
   "display_name": "Python 3 (ipykernel)",
   "language": "python",
   "name": "python3"
  },
  "language_info": {
   "codemirror_mode": {
    "name": "ipython",
    "version": 3
   },
   "file_extension": ".py",
   "mimetype": "text/x-python",
   "name": "python",
   "nbconvert_exporter": "python",
   "pygments_lexer": "ipython3",
   "version": "3.12.7"
  }
 },
 "nbformat": 4,
 "nbformat_minor": 5
}
