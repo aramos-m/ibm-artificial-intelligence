{
 "cells": [
  {
   "cell_type": "markdown",
   "id": "38b2b6d6-e358-4d15-b208-8da7600262f0",
   "metadata": {},
   "source": [
    "**Numpy arrays**"
   ]
  },
  {
   "cell_type": "code",
   "execution_count": 12,
   "id": "d43989e4-292d-4ba3-97af-f6f723e7392d",
   "metadata": {},
   "outputs": [],
   "source": [
    "import numpy as np"
   ]
  },
  {
   "cell_type": "code",
   "execution_count": 26,
   "id": "c98368ed-b5b5-4087-9cd4-46e88c89671d",
   "metadata": {},
   "outputs": [
    {
     "data": {
      "text/plain": [
       "array([1, 2, 3, 4])"
      ]
     },
     "execution_count": 26,
     "metadata": {},
     "output_type": "execute_result"
    }
   ],
   "source": [
    "lista = [1,2,3,4]\n",
    "array = np.array(lista)\n",
    "array"
   ]
  },
  {
   "cell_type": "code",
   "execution_count": 28,
   "id": "19a2a785-1c64-4b5e-8e0e-a651c2894d10",
   "metadata": {},
   "outputs": [
    {
     "data": {
      "text/plain": [
       "array([[1, 2, 3],\n",
       "       [4, 5, 6],\n",
       "       [7, 8, 9]])"
      ]
     },
     "execution_count": 28,
     "metadata": {},
     "output_type": "execute_result"
    }
   ],
   "source": [
    "lista2 = [[1,2,3], [4,5,6], [7,8,9]]\n",
    "matriz = np.array(lista2)\n",
    "matriz"
   ]
  },
  {
   "cell_type": "markdown",
   "id": "871c945d-3310-49d4-a3d6-161736e1b3bf",
   "metadata": {},
   "source": [
    "---\n",
    "**Numpy arrays - arange, zeros, ones, linspace, eye**"
   ]
  },
  {
   "cell_type": "code",
   "execution_count": 78,
   "id": "0788f9b2-67a0-4981-8856-3d019ccebc80",
   "metadata": {},
   "outputs": [
    {
     "name": "stdout",
     "output_type": "stream",
     "text": [
      "[0 1 2 3 4]\n",
      "[2 3 4 5 6 7 8 9]\n",
      "[2 4 6 8]\n"
     ]
    }
   ],
   "source": [
    "# np.arange(start, stop, step): crea un arreglo de valores equidistantes.\n",
    "print(np.arange(5))\n",
    "print(np.arange(2,10))\n",
    "print(np.arange(2,10,2))"
   ]
  },
  {
   "cell_type": "code",
   "execution_count": 93,
   "id": "8ebd58e1-ff2c-4ce6-9349-68012c0b969c",
   "metadata": {},
   "outputs": [
    {
     "name": "stdout",
     "output_type": "stream",
     "text": [
      "Vector unidimensional:\n",
      " [0. 0. 0.]\n",
      "Vector bidimensional:\n",
      " [[0. 0. 0. 0.]\n",
      " [0. 0. 0. 0.]\n",
      " [0. 0. 0. 0.]]\n"
     ]
    }
   ],
   "source": [
    "print(\"Vector unidimensional:\\n\", np.zeros(3)) # np.zeros(size): crea un vector con size ceros.\n",
    "print(\"Vector bidimensional:\\n\", np.zeros((3,4))) # np.zeros((rows, cols)): crea una matriz de ceros."
   ]
  },
  {
   "cell_type": "code",
   "execution_count": 95,
   "id": "c4fad746-d6db-4619-82f8-63fb0586d1c2",
   "metadata": {},
   "outputs": [
    {
     "name": "stdout",
     "output_type": "stream",
     "text": [
      "Vector unidimensional\n",
      " [1. 1. 1.]\n",
      "Vector bidimensional:\n",
      " [[1. 1. 1. 1. 1.]\n",
      " [1. 1. 1. 1. 1.]]\n"
     ]
    }
   ],
   "source": [
    "print(\"Vector unidimensional\\n\", np.ones(3)) # np.ones(size): crea un vector con size unos.\n",
    "print(\"Vector bidimensional:\\n\", np.ones((2,5))) # np.ones((rows, cols)): crea una matriz de unos."
   ]
  },
  {
   "cell_type": "code",
   "execution_count": 97,
   "id": "8cd89da2-1b9a-4960-b8eb-41a7f02144b1",
   "metadata": {},
   "outputs": [
    {
     "data": {
      "text/plain": [
       "array([3.        , 3.31578947, 3.63157895, 3.94736842, 4.26315789,\n",
       "       4.57894737, 4.89473684, 5.21052632, 5.52631579, 5.84210526,\n",
       "       6.15789474, 6.47368421, 6.78947368, 7.10526316, 7.42105263,\n",
       "       7.73684211, 8.05263158, 8.36842105, 8.68421053, 9.        ])"
      ]
     },
     "execution_count": 97,
     "metadata": {},
     "output_type": "execute_result"
    }
   ],
   "source": [
    "# np.linspace(start, stop, num): crea un arreglo desde start hasta stop, con num elementos\n",
    "np.linspace(3,9,20)"
   ]
  },
  {
   "cell_type": "code",
   "execution_count": 119,
   "id": "bdca2c42-af58-4064-a115-50eed4f60ee5",
   "metadata": {},
   "outputs": [
    {
     "name": "stdout",
     "output_type": "stream",
     "text": [
      "[[1. 0. 0. 0. 0.]\n",
      " [0. 1. 0. 0. 0.]\n",
      " [0. 0. 1. 0. 0.]\n",
      " [0. 0. 0. 1. 0.]\n",
      " [0. 0. 0. 0. 1.]] \n",
      "\n",
      "[[0. 0. 1. 0. 0.]\n",
      " [0. 0. 0. 1. 0.]\n",
      " [0. 0. 0. 0. 1.]\n",
      " [0. 0. 0. 0. 0.]\n",
      " [0. 0. 0. 0. 0.]]\n"
     ]
    }
   ],
   "source": [
    "# np.eye(N): crea una matriz identidad de tamaño N x N (1 en la diagonal principal, 0 en el resto).\n",
    "print(np.eye(5), \"\\n\")\n",
    "print(np.eye(5, k=2))"
   ]
  },
  {
   "cell_type": "markdown",
   "id": "b17d41c6-6506-457a-b0bd-8b79f6ceb7c1",
   "metadata": {},
   "source": [
    "---\n",
    "**Numpy arrays - números aleatorios - rand y randn**"
   ]
  },
  {
   "cell_type": "code",
   "execution_count": 107,
   "id": "4ef38f4c-305b-4007-9c25-ba471d0f7da1",
   "metadata": {},
   "outputs": [
    {
     "name": "stdout",
     "output_type": "stream",
     "text": [
      "Vector unidimensional:\n",
      " [0.95584238 0.71817869 0.33157727 0.03112579 0.6797161 ]\n",
      "Vector bidimensional:\n",
      " [[0.13506774 0.39355379 0.81937304]\n",
      " [0.46148278 0.95396872 0.09706255]]\n"
     ]
    }
   ],
   "source": [
    "print(\"Vector unidimensional:\\n\", np.random.rand(5)) # np.random.rand(N): crea un array de N valores aleatorios con una distribución uniforme entre 0 y 1\n",
    "print(\"Vector bidimensional:\\n\", np.random.rand(2,3)) # np.random.rand((N,M)): crea una array de N filas y M columnas con valores aleatorios entre 0 y 1"
   ]
  },
  {
   "cell_type": "code",
   "execution_count": 111,
   "id": "56efb7a4-a83c-4f04-ad04-472413270bf4",
   "metadata": {},
   "outputs": [
    {
     "name": "stdout",
     "output_type": "stream",
     "text": [
      "Vector unidimensional:\n",
      " [-0.16040288  0.25536177  0.79462037  0.146758  ]\n",
      "Vector bidimensional:\n",
      " [[ 0.4005459  -0.96265361 -0.12026863  1.78022216  0.01391601]\n",
      " [ 1.00626049 -1.25625863 -0.37470226  0.50147927  0.12071055]\n",
      " [ 0.93341621 -0.27851559  0.31271257  1.48592041 -0.52051647]\n",
      " [ 1.19019978 -0.58716333  2.02486668  0.08246705  0.46032955]]\n"
     ]
    }
   ],
   "source": [
    "print(\"Vector unidimensional:\\n\", np.random.randn(4)) # np.random.randn(N): crea un array de N valores aleatorios con media 0 y desviación estándar 1\n",
    "print(\"Vector bidimensional:\\n\", np.random.randn(4,5)) # np.random.randn(N,M): crea un array de N filas y M columnas con media 0 y desviación estándar 1"
   ]
  },
  {
   "cell_type": "code",
   "execution_count": null,
   "id": "1525f838-c9e8-473a-a720-a0e3d6ed477e",
   "metadata": {},
   "outputs": [],
   "source": []
  }
 ],
 "metadata": {
  "kernelspec": {
   "display_name": "Python 3 (ipykernel)",
   "language": "python",
   "name": "python3"
  },
  "language_info": {
   "codemirror_mode": {
    "name": "ipython",
    "version": 3
   },
   "file_extension": ".py",
   "mimetype": "text/x-python",
   "name": "python",
   "nbconvert_exporter": "python",
   "pygments_lexer": "ipython3",
   "version": "3.12.7"
  }
 },
 "nbformat": 4,
 "nbformat_minor": 5
}
